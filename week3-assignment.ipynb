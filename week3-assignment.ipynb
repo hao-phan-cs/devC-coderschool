{
  "nbformat": 4,
  "nbformat_minor": 0,
  "metadata": {
    "kernelspec": {
      "display_name": "Python 3",
      "language": "python",
      "name": "python3"
    },
    "language_info": {
      "codemirror_mode": {
        "name": "ipython",
        "version": 3
      },
      "file_extension": ".py",
      "mimetype": "text/x-python",
      "name": "python",
      "nbconvert_exporter": "python",
      "pygments_lexer": "ipython3",
      "version": "3.7.3"
    },
    "colab": {
      "name": "GooglePlayAnalyze.ipynb",
      "version": "0.3.2",
      "provenance": [],
      "collapsed_sections": [
        "JmeYo9F_OzqU",
        "b1-evFJroQDd",
        "e1DJxVdBGnxE",
        "UIn_APCOn-w5",
        "4yJ7GA5n17xz",
        "GgY4sCa1QlVn",
        "KhUExrbOvhaE",
        "SmU5hkAh9sQ7"
      ],
      "include_colab_link": true
    }
  },
  "cells": [
    {
      "cell_type": "markdown",
      "metadata": {
        "id": "view-in-github",
        "colab_type": "text"
      },
      "source": [
        "<a href=\"https://colab.research.google.com/github/hao-phan-cs/devC-coderschool/blob/master/week3-assignment.ipynb\" target=\"_parent\"><img src=\"https://colab.research.google.com/assets/colab-badge.svg\" alt=\"Open In Colab\"/></a>"
      ]
    },
    {
      "cell_type": "markdown",
      "metadata": {
        "id": "CrF3gW8HGnwV",
        "colab_type": "text"
      },
      "source": [
        "# Analyze Google Play Store dataset"
      ]
    },
    {
      "cell_type": "markdown",
      "metadata": {
        "id": "8Akzj-PrGnwX",
        "colab_type": "text"
      },
      "source": [
        "## I - Some question to answer first\n",
        "1. What are we analyze? What we want to get? What is our problems?\n",
        "2. What is the metric of sucess?\n",
        "3. Is the input dataset enough to solve our problems?"
      ]
    },
    {
      "cell_type": "markdown",
      "metadata": {
        "colab_type": "text",
        "id": "Ij446Hv__vXf"
      },
      "source": [
        "## II - Take a look at the dataset and clean it"
      ]
    },
    {
      "cell_type": "markdown",
      "metadata": {
        "id": "-D0GaPGHnK7Q",
        "colab_type": "text"
      },
      "source": [
        "### Import tool"
      ]
    },
    {
      "cell_type": "code",
      "metadata": {
        "colab_type": "code",
        "id": "uuSDGVCrZ9yz",
        "colab": {}
      },
      "source": [
        "import numpy as np\n",
        "import pandas as pd\n",
        "import seaborn as sns\n",
        "import matplotlib.pyplot as plt\n",
        "%matplotlib inline\n",
        "import warnings\n",
        "warnings.filterwarnings('ignore')\n",
        "\n",
        "sns.set_style(\"whitegrid\")"
      ],
      "execution_count": 0,
      "outputs": []
    },
    {
      "cell_type": "markdown",
      "metadata": {
        "colab_type": "text",
        "id": "TMDV8MkuSl09"
      },
      "source": [
        "### Google Drive authenication"
      ]
    },
    {
      "cell_type": "code",
      "metadata": {
        "id": "mPzGx-MFSAUW",
        "colab_type": "code",
        "colab": {
          "base_uri": "https://localhost:8080/",
          "height": 53
        },
        "outputId": "bb47f02b-d690-4014-d459-ce8ebb6f74b7"
      },
      "source": [
        "!pip install -U -q PyDrive\n",
        "from pydrive.auth import GoogleAuth\n",
        "from pydrive.drive import GoogleDrive\n",
        "from google.colab import auth\n",
        "from oauth2client.client import GoogleCredentials\n",
        "# Authenticate and create the PyDrive client.\n",
        "auth.authenticate_user()\n",
        "gauth = GoogleAuth()\n",
        "gauth.credentials = GoogleCredentials.get_application_default()\n",
        "drive = GoogleDrive(gauth)"
      ],
      "execution_count": 2,
      "outputs": [
        {
          "output_type": "stream",
          "text": [
            "\u001b[?25l\r\u001b[K     |▎                               | 10kB 18.0MB/s eta 0:00:01\r\u001b[K     |▋                               | 20kB 3.2MB/s eta 0:00:01\r\u001b[K     |█                               | 30kB 4.6MB/s eta 0:00:01\r\u001b[K     |█▎                              | 40kB 3.0MB/s eta 0:00:01\r\u001b[K     |█▋                              | 51kB 3.7MB/s eta 0:00:01\r\u001b[K     |██                              | 61kB 4.3MB/s eta 0:00:01\r\u001b[K     |██▎                             | 71kB 5.0MB/s eta 0:00:01\r\u001b[K     |██▋                             | 81kB 5.6MB/s eta 0:00:01\r\u001b[K     |███                             | 92kB 6.2MB/s eta 0:00:01\r\u001b[K     |███▎                            | 102kB 4.9MB/s eta 0:00:01\r\u001b[K     |███▋                            | 112kB 4.9MB/s eta 0:00:01\r\u001b[K     |████                            | 122kB 4.9MB/s eta 0:00:01\r\u001b[K     |████▎                           | 133kB 4.9MB/s eta 0:00:01\r\u001b[K     |████▋                           | 143kB 4.9MB/s eta 0:00:01\r\u001b[K     |█████                           | 153kB 4.9MB/s eta 0:00:01\r\u001b[K     |█████▎                          | 163kB 4.9MB/s eta 0:00:01\r\u001b[K     |█████▋                          | 174kB 4.9MB/s eta 0:00:01\r\u001b[K     |██████                          | 184kB 4.9MB/s eta 0:00:01\r\u001b[K     |██████▎                         | 194kB 4.9MB/s eta 0:00:01\r\u001b[K     |██████▋                         | 204kB 4.9MB/s eta 0:00:01\r\u001b[K     |███████                         | 215kB 4.9MB/s eta 0:00:01\r\u001b[K     |███████▎                        | 225kB 4.9MB/s eta 0:00:01\r\u001b[K     |███████▋                        | 235kB 4.9MB/s eta 0:00:01\r\u001b[K     |████████                        | 245kB 4.9MB/s eta 0:00:01\r\u001b[K     |████████▎                       | 256kB 4.9MB/s eta 0:00:01\r\u001b[K     |████████▋                       | 266kB 4.9MB/s eta 0:00:01\r\u001b[K     |█████████                       | 276kB 4.9MB/s eta 0:00:01\r\u001b[K     |█████████▎                      | 286kB 4.9MB/s eta 0:00:01\r\u001b[K     |█████████▋                      | 296kB 4.9MB/s eta 0:00:01\r\u001b[K     |██████████                      | 307kB 4.9MB/s eta 0:00:01\r\u001b[K     |██████████▎                     | 317kB 4.9MB/s eta 0:00:01\r\u001b[K     |██████████▋                     | 327kB 4.9MB/s eta 0:00:01\r\u001b[K     |███████████                     | 337kB 4.9MB/s eta 0:00:01\r\u001b[K     |███████████▎                    | 348kB 4.9MB/s eta 0:00:01\r\u001b[K     |███████████▋                    | 358kB 4.9MB/s eta 0:00:01\r\u001b[K     |████████████                    | 368kB 4.9MB/s eta 0:00:01\r\u001b[K     |████████████▎                   | 378kB 4.9MB/s eta 0:00:01\r\u001b[K     |████████████▋                   | 389kB 4.9MB/s eta 0:00:01\r\u001b[K     |█████████████                   | 399kB 4.9MB/s eta 0:00:01\r\u001b[K     |█████████████▎                  | 409kB 4.9MB/s eta 0:00:01\r\u001b[K     |█████████████▋                  | 419kB 4.9MB/s eta 0:00:01\r\u001b[K     |██████████████                  | 430kB 4.9MB/s eta 0:00:01\r\u001b[K     |██████████████▎                 | 440kB 4.9MB/s eta 0:00:01\r\u001b[K     |██████████████▋                 | 450kB 4.9MB/s eta 0:00:01\r\u001b[K     |███████████████                 | 460kB 4.9MB/s eta 0:00:01\r\u001b[K     |███████████████▎                | 471kB 4.9MB/s eta 0:00:01\r\u001b[K     |███████████████▋                | 481kB 4.9MB/s eta 0:00:01\r\u001b[K     |████████████████                | 491kB 4.9MB/s eta 0:00:01\r\u001b[K     |████████████████▎               | 501kB 4.9MB/s eta 0:00:01\r\u001b[K     |████████████████▋               | 512kB 4.9MB/s eta 0:00:01\r\u001b[K     |█████████████████               | 522kB 4.9MB/s eta 0:00:01\r\u001b[K     |█████████████████▎              | 532kB 4.9MB/s eta 0:00:01\r\u001b[K     |█████████████████▋              | 542kB 4.9MB/s eta 0:00:01\r\u001b[K     |██████████████████              | 552kB 4.9MB/s eta 0:00:01\r\u001b[K     |██████████████████▎             | 563kB 4.9MB/s eta 0:00:01\r\u001b[K     |██████████████████▋             | 573kB 4.9MB/s eta 0:00:01\r\u001b[K     |███████████████████             | 583kB 4.9MB/s eta 0:00:01\r\u001b[K     |███████████████████▎            | 593kB 4.9MB/s eta 0:00:01\r\u001b[K     |███████████████████▋            | 604kB 4.9MB/s eta 0:00:01\r\u001b[K     |████████████████████            | 614kB 4.9MB/s eta 0:00:01\r\u001b[K     |████████████████████▎           | 624kB 4.9MB/s eta 0:00:01\r\u001b[K     |████████████████████▋           | 634kB 4.9MB/s eta 0:00:01\r\u001b[K     |█████████████████████           | 645kB 4.9MB/s eta 0:00:01\r\u001b[K     |█████████████████████▎          | 655kB 4.9MB/s eta 0:00:01\r\u001b[K     |█████████████████████▋          | 665kB 4.9MB/s eta 0:00:01\r\u001b[K     |██████████████████████          | 675kB 4.9MB/s eta 0:00:01\r\u001b[K     |██████████████████████▎         | 686kB 4.9MB/s eta 0:00:01\r\u001b[K     |██████████████████████▋         | 696kB 4.9MB/s eta 0:00:01\r\u001b[K     |███████████████████████         | 706kB 4.9MB/s eta 0:00:01\r\u001b[K     |███████████████████████▎        | 716kB 4.9MB/s eta 0:00:01\r\u001b[K     |███████████████████████▋        | 727kB 4.9MB/s eta 0:00:01\r\u001b[K     |████████████████████████        | 737kB 4.9MB/s eta 0:00:01\r\u001b[K     |████████████████████████▎       | 747kB 4.9MB/s eta 0:00:01\r\u001b[K     |████████████████████████▋       | 757kB 4.9MB/s eta 0:00:01\r\u001b[K     |████████████████████████▉       | 768kB 4.9MB/s eta 0:00:01\r\u001b[K     |█████████████████████████▏      | 778kB 4.9MB/s eta 0:00:01\r\u001b[K     |█████████████████████████▌      | 788kB 4.9MB/s eta 0:00:01\r\u001b[K     |█████████████████████████▉      | 798kB 4.9MB/s eta 0:00:01\r\u001b[K     |██████████████████████████▏     | 808kB 4.9MB/s eta 0:00:01\r\u001b[K     |██████████████████████████▌     | 819kB 4.9MB/s eta 0:00:01\r\u001b[K     |██████████████████████████▉     | 829kB 4.9MB/s eta 0:00:01\r\u001b[K     |███████████████████████████▏    | 839kB 4.9MB/s eta 0:00:01\r\u001b[K     |███████████████████████████▌    | 849kB 4.9MB/s eta 0:00:01\r\u001b[K     |███████████████████████████▉    | 860kB 4.9MB/s eta 0:00:01\r\u001b[K     |████████████████████████████▏   | 870kB 4.9MB/s eta 0:00:01\r\u001b[K     |████████████████████████████▌   | 880kB 4.9MB/s eta 0:00:01\r\u001b[K     |████████████████████████████▉   | 890kB 4.9MB/s eta 0:00:01\r\u001b[K     |█████████████████████████████▏  | 901kB 4.9MB/s eta 0:00:01\r\u001b[K     |█████████████████████████████▌  | 911kB 4.9MB/s eta 0:00:01\r\u001b[K     |█████████████████████████████▉  | 921kB 4.9MB/s eta 0:00:01\r\u001b[K     |██████████████████████████████▏ | 931kB 4.9MB/s eta 0:00:01\r\u001b[K     |██████████████████████████████▌ | 942kB 4.9MB/s eta 0:00:01\r\u001b[K     |██████████████████████████████▉ | 952kB 4.9MB/s eta 0:00:01\r\u001b[K     |███████████████████████████████▏| 962kB 4.9MB/s eta 0:00:01\r\u001b[K     |███████████████████████████████▌| 972kB 4.9MB/s eta 0:00:01\r\u001b[K     |███████████████████████████████▉| 983kB 4.9MB/s eta 0:00:01\r\u001b[K     |████████████████████████████████| 993kB 4.9MB/s \n",
            "\u001b[?25h  Building wheel for PyDrive (setup.py) ... \u001b[?25l\u001b[?25hdone\n"
          ],
          "name": "stdout"
        }
      ]
    },
    {
      "cell_type": "markdown",
      "metadata": {
        "id": "Pmtkg7IiGnwe",
        "colab_type": "text"
      },
      "source": [
        "### Download and read the dataset"
      ]
    },
    {
      "cell_type": "code",
      "metadata": {
        "id": "-NcmBO3LLUbQ",
        "colab_type": "code",
        "colab": {}
      },
      "source": [
        "link = 'https://drive.google.com/open?id=1jje-EQBSIp5FSsldVUfiQmH_3YcufwWx'\n",
        "fluff, id = link.split('=')\n",
        "downloaded = drive.CreateFile({'id':id}) \n",
        "downloaded.GetContentFile('google-play-store.csv')  "
      ],
      "execution_count": 0,
      "outputs": []
    },
    {
      "cell_type": "code",
      "metadata": {
        "id": "wwdXMfNNGnwh",
        "colab_type": "code",
        "outputId": "2b93a7b3-35ad-48e3-9e12-e0d2f530bb93",
        "colab": {
          "base_uri": "https://localhost:8080/",
          "height": 204
        }
      },
      "source": [
        "gpstore = pd.read_csv('google-play-store.csv')\n",
        "gpstore.head()"
      ],
      "execution_count": 4,
      "outputs": [
        {
          "output_type": "execute_result",
          "data": {
            "text/html": [
              "<div>\n",
              "<style scoped>\n",
              "    .dataframe tbody tr th:only-of-type {\n",
              "        vertical-align: middle;\n",
              "    }\n",
              "\n",
              "    .dataframe tbody tr th {\n",
              "        vertical-align: top;\n",
              "    }\n",
              "\n",
              "    .dataframe thead th {\n",
              "        text-align: right;\n",
              "    }\n",
              "</style>\n",
              "<table border=\"1\" class=\"dataframe\">\n",
              "  <thead>\n",
              "    <tr style=\"text-align: right;\">\n",
              "      <th></th>\n",
              "      <th>App</th>\n",
              "      <th>Category</th>\n",
              "      <th>Rating</th>\n",
              "      <th>Reviews</th>\n",
              "      <th>Size</th>\n",
              "      <th>Installs</th>\n",
              "      <th>Type</th>\n",
              "      <th>Price</th>\n",
              "      <th>Content Rating</th>\n",
              "      <th>Genres</th>\n",
              "      <th>Last Updated</th>\n",
              "      <th>Current Ver</th>\n",
              "      <th>Android Ver</th>\n",
              "    </tr>\n",
              "  </thead>\n",
              "  <tbody>\n",
              "    <tr>\n",
              "      <th>0</th>\n",
              "      <td>Photo Editor &amp; Candy Camera &amp; Grid &amp; ScrapBook</td>\n",
              "      <td>ART_AND_DESIGN</td>\n",
              "      <td>4.1</td>\n",
              "      <td>159</td>\n",
              "      <td>19M</td>\n",
              "      <td>10,000+</td>\n",
              "      <td>Free</td>\n",
              "      <td>0</td>\n",
              "      <td>Everyone</td>\n",
              "      <td>Art &amp; Design</td>\n",
              "      <td>January 7, 2018</td>\n",
              "      <td>1.0.0</td>\n",
              "      <td>4.0.3 and up</td>\n",
              "    </tr>\n",
              "    <tr>\n",
              "      <th>1</th>\n",
              "      <td>Coloring book moana</td>\n",
              "      <td>ART_AND_DESIGN</td>\n",
              "      <td>3.9</td>\n",
              "      <td>967</td>\n",
              "      <td>14M</td>\n",
              "      <td>500,000+</td>\n",
              "      <td>Free</td>\n",
              "      <td>0</td>\n",
              "      <td>Everyone</td>\n",
              "      <td>Art &amp; Design;Pretend Play</td>\n",
              "      <td>January 15, 2018</td>\n",
              "      <td>2.0.0</td>\n",
              "      <td>4.0.3 and up</td>\n",
              "    </tr>\n",
              "    <tr>\n",
              "      <th>2</th>\n",
              "      <td>U Launcher Lite – FREE Live Cool Themes, Hide ...</td>\n",
              "      <td>ART_AND_DESIGN</td>\n",
              "      <td>4.7</td>\n",
              "      <td>87510</td>\n",
              "      <td>8.7M</td>\n",
              "      <td>5,000,000+</td>\n",
              "      <td>Free</td>\n",
              "      <td>0</td>\n",
              "      <td>Everyone</td>\n",
              "      <td>Art &amp; Design</td>\n",
              "      <td>August 1, 2018</td>\n",
              "      <td>1.2.4</td>\n",
              "      <td>4.0.3 and up</td>\n",
              "    </tr>\n",
              "    <tr>\n",
              "      <th>3</th>\n",
              "      <td>Sketch - Draw &amp; Paint</td>\n",
              "      <td>ART_AND_DESIGN</td>\n",
              "      <td>4.5</td>\n",
              "      <td>215644</td>\n",
              "      <td>25M</td>\n",
              "      <td>50,000,000+</td>\n",
              "      <td>Free</td>\n",
              "      <td>0</td>\n",
              "      <td>Teen</td>\n",
              "      <td>Art &amp; Design</td>\n",
              "      <td>June 8, 2018</td>\n",
              "      <td>Varies with device</td>\n",
              "      <td>4.2 and up</td>\n",
              "    </tr>\n",
              "    <tr>\n",
              "      <th>4</th>\n",
              "      <td>Pixel Draw - Number Art Coloring Book</td>\n",
              "      <td>ART_AND_DESIGN</td>\n",
              "      <td>4.3</td>\n",
              "      <td>967</td>\n",
              "      <td>2.8M</td>\n",
              "      <td>100,000+</td>\n",
              "      <td>Free</td>\n",
              "      <td>0</td>\n",
              "      <td>Everyone</td>\n",
              "      <td>Art &amp; Design;Creativity</td>\n",
              "      <td>June 20, 2018</td>\n",
              "      <td>1.1</td>\n",
              "      <td>4.4 and up</td>\n",
              "    </tr>\n",
              "  </tbody>\n",
              "</table>\n",
              "</div>"
            ],
            "text/plain": [
              "                                                 App  ...   Android Ver\n",
              "0     Photo Editor & Candy Camera & Grid & ScrapBook  ...  4.0.3 and up\n",
              "1                                Coloring book moana  ...  4.0.3 and up\n",
              "2  U Launcher Lite – FREE Live Cool Themes, Hide ...  ...  4.0.3 and up\n",
              "3                              Sketch - Draw & Paint  ...    4.2 and up\n",
              "4              Pixel Draw - Number Art Coloring Book  ...    4.4 and up\n",
              "\n",
              "[5 rows x 13 columns]"
            ]
          },
          "metadata": {
            "tags": []
          },
          "execution_count": 4
        }
      ]
    },
    {
      "cell_type": "markdown",
      "metadata": {
        "id": "DDJqAfCRGnwq",
        "colab_type": "text"
      },
      "source": [
        "### Get some information of this dataset"
      ]
    },
    {
      "cell_type": "code",
      "metadata": {
        "id": "sV86lUNGGnwr",
        "colab_type": "code",
        "outputId": "83af64c6-105b-4540-a849-93fa3cf30f5b",
        "colab": {
          "base_uri": "https://localhost:8080/",
          "height": 341
        }
      },
      "source": [
        "gpstore.info()"
      ],
      "execution_count": 5,
      "outputs": [
        {
          "output_type": "stream",
          "text": [
            "<class 'pandas.core.frame.DataFrame'>\n",
            "RangeIndex: 10841 entries, 0 to 10840\n",
            "Data columns (total 13 columns):\n",
            "App               10841 non-null object\n",
            "Category          10841 non-null object\n",
            "Rating            9367 non-null float64\n",
            "Reviews           10841 non-null object\n",
            "Size              10841 non-null object\n",
            "Installs          10841 non-null object\n",
            "Type              10840 non-null object\n",
            "Price             10841 non-null object\n",
            "Content Rating    10840 non-null object\n",
            "Genres            10841 non-null object\n",
            "Last Updated      10841 non-null object\n",
            "Current Ver       10833 non-null object\n",
            "Android Ver       10838 non-null object\n",
            "dtypes: float64(1), object(12)\n",
            "memory usage: 1.1+ MB\n"
          ],
          "name": "stdout"
        }
      ]
    },
    {
      "cell_type": "code",
      "metadata": {
        "id": "tcmZsKGEGnwv",
        "colab_type": "code",
        "outputId": "c012c0e4-4fee-4eef-89c0-a48c59bef063",
        "colab": {
          "base_uri": "https://localhost:8080/",
          "height": 80
        }
      },
      "source": [
        "gpstore.describe().T"
      ],
      "execution_count": 6,
      "outputs": [
        {
          "output_type": "execute_result",
          "data": {
            "text/html": [
              "<div>\n",
              "<style scoped>\n",
              "    .dataframe tbody tr th:only-of-type {\n",
              "        vertical-align: middle;\n",
              "    }\n",
              "\n",
              "    .dataframe tbody tr th {\n",
              "        vertical-align: top;\n",
              "    }\n",
              "\n",
              "    .dataframe thead th {\n",
              "        text-align: right;\n",
              "    }\n",
              "</style>\n",
              "<table border=\"1\" class=\"dataframe\">\n",
              "  <thead>\n",
              "    <tr style=\"text-align: right;\">\n",
              "      <th></th>\n",
              "      <th>count</th>\n",
              "      <th>mean</th>\n",
              "      <th>std</th>\n",
              "      <th>min</th>\n",
              "      <th>25%</th>\n",
              "      <th>50%</th>\n",
              "      <th>75%</th>\n",
              "      <th>max</th>\n",
              "    </tr>\n",
              "  </thead>\n",
              "  <tbody>\n",
              "    <tr>\n",
              "      <th>Rating</th>\n",
              "      <td>9367.0</td>\n",
              "      <td>4.193338</td>\n",
              "      <td>0.537431</td>\n",
              "      <td>1.0</td>\n",
              "      <td>4.0</td>\n",
              "      <td>4.3</td>\n",
              "      <td>4.5</td>\n",
              "      <td>19.0</td>\n",
              "    </tr>\n",
              "  </tbody>\n",
              "</table>\n",
              "</div>"
            ],
            "text/plain": [
              "         count      mean       std  min  25%  50%  75%   max\n",
              "Rating  9367.0  4.193338  0.537431  1.0  4.0  4.3  4.5  19.0"
            ]
          },
          "metadata": {
            "tags": []
          },
          "execution_count": 6
        }
      ]
    },
    {
      "cell_type": "markdown",
      "metadata": {
        "id": "X2LH_pL9Gnwz",
        "colab_type": "text"
      },
      "source": [
        "### Take a look of values in each column and clean it"
      ]
    },
    {
      "cell_type": "markdown",
      "metadata": {
        "id": "atfemAqnncFw",
        "colab_type": "text"
      },
      "source": [
        "#### Category"
      ]
    },
    {
      "cell_type": "code",
      "metadata": {
        "id": "F2S9e32sGnw0",
        "colab_type": "code",
        "outputId": "fb4c0c3e-a9ab-473c-e18b-19a1f468043e",
        "colab": {
          "base_uri": "https://localhost:8080/",
          "height": 647
        }
      },
      "source": [
        "gpstore['Category'].value_counts(dropna=False)"
      ],
      "execution_count": 7,
      "outputs": [
        {
          "output_type": "execute_result",
          "data": {
            "text/plain": [
              "FAMILY                 1972\n",
              "GAME                   1144\n",
              "TOOLS                   843\n",
              "MEDICAL                 463\n",
              "BUSINESS                460\n",
              "PRODUCTIVITY            424\n",
              "PERSONALIZATION         392\n",
              "COMMUNICATION           387\n",
              "SPORTS                  384\n",
              "LIFESTYLE               382\n",
              "FINANCE                 366\n",
              "HEALTH_AND_FITNESS      341\n",
              "PHOTOGRAPHY             335\n",
              "SOCIAL                  295\n",
              "NEWS_AND_MAGAZINES      283\n",
              "SHOPPING                260\n",
              "TRAVEL_AND_LOCAL        258\n",
              "DATING                  234\n",
              "BOOKS_AND_REFERENCE     231\n",
              "VIDEO_PLAYERS           175\n",
              "EDUCATION               156\n",
              "ENTERTAINMENT           149\n",
              "MAPS_AND_NAVIGATION     137\n",
              "FOOD_AND_DRINK          127\n",
              "HOUSE_AND_HOME           88\n",
              "AUTO_AND_VEHICLES        85\n",
              "LIBRARIES_AND_DEMO       85\n",
              "WEATHER                  82\n",
              "ART_AND_DESIGN           65\n",
              "EVENTS                   64\n",
              "PARENTING                60\n",
              "COMICS                   60\n",
              "BEAUTY                   53\n",
              "1.9                       1\n",
              "Name: Category, dtype: int64"
            ]
          },
          "metadata": {
            "tags": []
          },
          "execution_count": 7
        }
      ]
    },
    {
      "cell_type": "markdown",
      "metadata": {
        "id": "cK4yn-Y1Gnw4",
        "colab_type": "text"
      },
      "source": [
        "**Why there's '1.9' in category list**"
      ]
    },
    {
      "cell_type": "code",
      "metadata": {
        "id": "MdxHoU00Gnw5",
        "colab_type": "code",
        "outputId": "8a02f565-e401-4a2f-b7e4-85bf74c7461d",
        "colab": {
          "base_uri": "https://localhost:8080/",
          "height": 80
        }
      },
      "source": [
        "gpstore[gpstore['Category'] == '1.9']"
      ],
      "execution_count": 8,
      "outputs": [
        {
          "output_type": "execute_result",
          "data": {
            "text/html": [
              "<div>\n",
              "<style scoped>\n",
              "    .dataframe tbody tr th:only-of-type {\n",
              "        vertical-align: middle;\n",
              "    }\n",
              "\n",
              "    .dataframe tbody tr th {\n",
              "        vertical-align: top;\n",
              "    }\n",
              "\n",
              "    .dataframe thead th {\n",
              "        text-align: right;\n",
              "    }\n",
              "</style>\n",
              "<table border=\"1\" class=\"dataframe\">\n",
              "  <thead>\n",
              "    <tr style=\"text-align: right;\">\n",
              "      <th></th>\n",
              "      <th>App</th>\n",
              "      <th>Category</th>\n",
              "      <th>Rating</th>\n",
              "      <th>Reviews</th>\n",
              "      <th>Size</th>\n",
              "      <th>Installs</th>\n",
              "      <th>Type</th>\n",
              "      <th>Price</th>\n",
              "      <th>Content Rating</th>\n",
              "      <th>Genres</th>\n",
              "      <th>Last Updated</th>\n",
              "      <th>Current Ver</th>\n",
              "      <th>Android Ver</th>\n",
              "    </tr>\n",
              "  </thead>\n",
              "  <tbody>\n",
              "    <tr>\n",
              "      <th>10472</th>\n",
              "      <td>Life Made WI-Fi Touchscreen Photo Frame</td>\n",
              "      <td>1.9</td>\n",
              "      <td>19.0</td>\n",
              "      <td>3.0M</td>\n",
              "      <td>1,000+</td>\n",
              "      <td>Free</td>\n",
              "      <td>0</td>\n",
              "      <td>Everyone</td>\n",
              "      <td>NaN</td>\n",
              "      <td>February 11, 2018</td>\n",
              "      <td>1.0.19</td>\n",
              "      <td>4.0 and up</td>\n",
              "      <td>NaN</td>\n",
              "    </tr>\n",
              "  </tbody>\n",
              "</table>\n",
              "</div>"
            ],
            "text/plain": [
              "                                           App Category  ...  Current Ver Android Ver\n",
              "10472  Life Made WI-Fi Touchscreen Photo Frame      1.9  ...   4.0 and up         NaN\n",
              "\n",
              "[1 rows x 13 columns]"
            ]
          },
          "metadata": {
            "tags": []
          },
          "execution_count": 8
        }
      ]
    },
    {
      "cell_type": "markdown",
      "metadata": {
        "id": "vnzXNslSGnw9",
        "colab_type": "text"
      },
      "source": [
        "Look like all the columns of this row has been shifted. Anyway this row is not reliable, we prefer to dropping it to fixing it"
      ]
    },
    {
      "cell_type": "code",
      "metadata": {
        "id": "B6dftaOAGnxA",
        "colab_type": "code",
        "outputId": "c77ac15a-2f3b-4934-d4d8-dd22e2f8c7ca",
        "colab": {
          "base_uri": "https://localhost:8080/",
          "height": 49
        }
      },
      "source": [
        "gpstore = gpstore[gpstore['Category'] != '1.9']\n",
        "gpstore[gpstore['Category'] == '1.9']"
      ],
      "execution_count": 9,
      "outputs": [
        {
          "output_type": "execute_result",
          "data": {
            "text/html": [
              "<div>\n",
              "<style scoped>\n",
              "    .dataframe tbody tr th:only-of-type {\n",
              "        vertical-align: middle;\n",
              "    }\n",
              "\n",
              "    .dataframe tbody tr th {\n",
              "        vertical-align: top;\n",
              "    }\n",
              "\n",
              "    .dataframe thead th {\n",
              "        text-align: right;\n",
              "    }\n",
              "</style>\n",
              "<table border=\"1\" class=\"dataframe\">\n",
              "  <thead>\n",
              "    <tr style=\"text-align: right;\">\n",
              "      <th></th>\n",
              "      <th>App</th>\n",
              "      <th>Category</th>\n",
              "      <th>Rating</th>\n",
              "      <th>Reviews</th>\n",
              "      <th>Size</th>\n",
              "      <th>Installs</th>\n",
              "      <th>Type</th>\n",
              "      <th>Price</th>\n",
              "      <th>Content Rating</th>\n",
              "      <th>Genres</th>\n",
              "      <th>Last Updated</th>\n",
              "      <th>Current Ver</th>\n",
              "      <th>Android Ver</th>\n",
              "    </tr>\n",
              "  </thead>\n",
              "  <tbody>\n",
              "  </tbody>\n",
              "</table>\n",
              "</div>"
            ],
            "text/plain": [
              "Empty DataFrame\n",
              "Columns: [App, Category, Rating, Reviews, Size, Installs, Type, Price, Content Rating, Genres, Last Updated, Current Ver, Android Ver]\n",
              "Index: []"
            ]
          },
          "metadata": {
            "tags": []
          },
          "execution_count": 9
        }
      ]
    },
    {
      "cell_type": "code",
      "metadata": {
        "id": "lBDDyxBKxoqM",
        "colab_type": "code",
        "outputId": "59ad6ac2-268f-40dd-ff07-4f77463eb5ce",
        "colab": {
          "base_uri": "https://localhost:8080/",
          "height": 341
        }
      },
      "source": [
        "# check our dataframe again\n",
        "gpstore.info()"
      ],
      "execution_count": 10,
      "outputs": [
        {
          "output_type": "stream",
          "text": [
            "<class 'pandas.core.frame.DataFrame'>\n",
            "Int64Index: 10840 entries, 0 to 10840\n",
            "Data columns (total 13 columns):\n",
            "App               10840 non-null object\n",
            "Category          10840 non-null object\n",
            "Rating            9366 non-null float64\n",
            "Reviews           10840 non-null object\n",
            "Size              10840 non-null object\n",
            "Installs          10840 non-null object\n",
            "Type              10839 non-null object\n",
            "Price             10840 non-null object\n",
            "Content Rating    10840 non-null object\n",
            "Genres            10840 non-null object\n",
            "Last Updated      10840 non-null object\n",
            "Current Ver       10832 non-null object\n",
            "Android Ver       10838 non-null object\n",
            "dtypes: float64(1), object(12)\n",
            "memory usage: 1.2+ MB\n"
          ],
          "name": "stdout"
        }
      ]
    },
    {
      "cell_type": "markdown",
      "metadata": {
        "id": "JmeYo9F_OzqU",
        "colab_type": "text"
      },
      "source": [
        "#### Rating"
      ]
    },
    {
      "cell_type": "code",
      "metadata": {
        "id": "2q8U94RxO4PT",
        "colab_type": "code",
        "outputId": "ea5e1bea-3835-486e-c46a-7f68339d56a4",
        "colab": {
          "base_uri": "https://localhost:8080/",
          "height": 0
        }
      },
      "source": [
        "gpstore['Rating'].value_counts(dropna=False)"
      ],
      "execution_count": 11,
      "outputs": [
        {
          "output_type": "execute_result",
          "data": {
            "text/plain": [
              "NaN    1474\n",
              "4.4    1109\n",
              "4.3    1076\n",
              "4.5    1038\n",
              "4.2     952\n",
              "4.6     823\n",
              "4.1     708\n",
              "4.0     568\n",
              "4.7     499\n",
              "3.9     386\n",
              "3.8     303\n",
              "5.0     274\n",
              "3.7     239\n",
              "4.8     234\n",
              "3.6     174\n",
              "3.5     163\n",
              "3.4     128\n",
              "3.3     102\n",
              "4.9      87\n",
              "3.0      83\n",
              "3.1      69\n",
              "3.2      64\n",
              "2.9      45\n",
              "2.8      42\n",
              "2.7      25\n",
              "2.6      25\n",
              "2.5      21\n",
              "2.3      20\n",
              "2.4      19\n",
              "1.0      16\n",
              "2.2      14\n",
              "1.9      13\n",
              "2.0      12\n",
              "1.7       8\n",
              "1.8       8\n",
              "2.1       8\n",
              "1.6       4\n",
              "1.5       3\n",
              "1.4       3\n",
              "1.2       1\n",
              "Name: Rating, dtype: int64"
            ]
          },
          "metadata": {
            "tags": []
          },
          "execution_count": 11
        }
      ]
    },
    {
      "cell_type": "markdown",
      "metadata": {
        "id": "IVnbwZIePBcr",
        "colab_type": "text"
      },
      "source": [
        "There are so many NaN values in Rating column, so we will fill them by mean of the non-NaN values"
      ]
    },
    {
      "cell_type": "code",
      "metadata": {
        "id": "ftLJ5pQsPAaO",
        "colab_type": "code",
        "outputId": "e8789420-d612-4826-95ce-16df07a5cc4b",
        "colab": {
          "base_uri": "https://localhost:8080/",
          "height": 0
        }
      },
      "source": [
        "gpstore['Rating'].fillna(round(gpstore[gpstore['Rating'].isnull() == False]['Rating'].mean(), 1), inplace = True) \n",
        "gpstore[gpstore['Rating'].isnull()]"
      ],
      "execution_count": 12,
      "outputs": [
        {
          "output_type": "execute_result",
          "data": {
            "text/html": [
              "<div>\n",
              "<style scoped>\n",
              "    .dataframe tbody tr th:only-of-type {\n",
              "        vertical-align: middle;\n",
              "    }\n",
              "\n",
              "    .dataframe tbody tr th {\n",
              "        vertical-align: top;\n",
              "    }\n",
              "\n",
              "    .dataframe thead th {\n",
              "        text-align: right;\n",
              "    }\n",
              "</style>\n",
              "<table border=\"1\" class=\"dataframe\">\n",
              "  <thead>\n",
              "    <tr style=\"text-align: right;\">\n",
              "      <th></th>\n",
              "      <th>App</th>\n",
              "      <th>Category</th>\n",
              "      <th>Rating</th>\n",
              "      <th>Reviews</th>\n",
              "      <th>Size</th>\n",
              "      <th>Installs</th>\n",
              "      <th>Type</th>\n",
              "      <th>Price</th>\n",
              "      <th>Content Rating</th>\n",
              "      <th>Genres</th>\n",
              "      <th>Last Updated</th>\n",
              "      <th>Current Ver</th>\n",
              "      <th>Android Ver</th>\n",
              "    </tr>\n",
              "  </thead>\n",
              "  <tbody>\n",
              "  </tbody>\n",
              "</table>\n",
              "</div>"
            ],
            "text/plain": [
              "Empty DataFrame\n",
              "Columns: [App, Category, Rating, Reviews, Size, Installs, Type, Price, Content Rating, Genres, Last Updated, Current Ver, Android Ver]\n",
              "Index: []"
            ]
          },
          "metadata": {
            "tags": []
          },
          "execution_count": 12
        }
      ]
    },
    {
      "cell_type": "markdown",
      "metadata": {
        "id": "b1-evFJroQDd",
        "colab_type": "text"
      },
      "source": [
        "#### Price"
      ]
    },
    {
      "cell_type": "code",
      "metadata": {
        "id": "Bj9vGXAROMtp",
        "colab_type": "code",
        "outputId": "2b2b686b-43b1-49f7-8ff9-0f6f86ecdbdb",
        "colab": {
          "base_uri": "https://localhost:8080/",
          "height": 0
        }
      },
      "source": [
        "gpstore['Price'].value_counts(dropna=False)"
      ],
      "execution_count": 13,
      "outputs": [
        {
          "output_type": "execute_result",
          "data": {
            "text/plain": [
              "0          10040\n",
              "$0.99        148\n",
              "$2.99        129\n",
              "$1.99         73\n",
              "$4.99         72\n",
              "$3.99         63\n",
              "$1.49         46\n",
              "$5.99         30\n",
              "$2.49         26\n",
              "$9.99         21\n",
              "$6.99         13\n",
              "$399.99       12\n",
              "$14.99        11\n",
              "$4.49          9\n",
              "$24.99         7\n",
              "$29.99         7\n",
              "$7.99          7\n",
              "$3.49          7\n",
              "$19.99         6\n",
              "$5.49          6\n",
              "$6.49          5\n",
              "$12.99         5\n",
              "$8.99          5\n",
              "$11.99         5\n",
              "$2.00          3\n",
              "$1.00          3\n",
              "$16.99         3\n",
              "$10.00         3\n",
              "$79.99         2\n",
              "$3.95          2\n",
              "           ...  \n",
              "$1.75          1\n",
              "$15.46         1\n",
              "$200.00        1\n",
              "$15.99         1\n",
              "$1.97          1\n",
              "$3.08          1\n",
              "$1.59          1\n",
              "$1.50          1\n",
              "$4.84          1\n",
              "$2.90          1\n",
              "$379.99        1\n",
              "$3.90          1\n",
              "$4.80          1\n",
              "$18.99         1\n",
              "$28.99         1\n",
              "$1.20          1\n",
              "$2.59          1\n",
              "$1.76          1\n",
              "$394.99        1\n",
              "$19.90         1\n",
              "$2.60          1\n",
              "$4.85          1\n",
              "$3.88          1\n",
              "$46.99         1\n",
              "$19.40         1\n",
              "$37.99         1\n",
              "$154.99        1\n",
              "$1.96          1\n",
              "$74.99         1\n",
              "$1.04          1\n",
              "Name: Price, Length: 92, dtype: int64"
            ]
          },
          "metadata": {
            "tags": []
          },
          "execution_count": 13
        }
      ]
    },
    {
      "cell_type": "code",
      "metadata": {
        "id": "256zyjkepht4",
        "colab_type": "code",
        "outputId": "5ca139d8-886a-42a0-a0e6-e6f316f21d58",
        "colab": {
          "base_uri": "https://localhost:8080/",
          "height": 0
        }
      },
      "source": [
        "# Price column's dtype is dtype('O') which is Python type string\n",
        "gpstore.Price.dtype"
      ],
      "execution_count": 14,
      "outputs": [
        {
          "output_type": "execute_result",
          "data": {
            "text/plain": [
              "dtype('O')"
            ]
          },
          "metadata": {
            "tags": []
          },
          "execution_count": 14
        }
      ]
    },
    {
      "cell_type": "code",
      "metadata": {
        "id": "yXt1u8o8oXUf",
        "colab_type": "code",
        "outputId": "4a85faa4-ee97-4e74-995d-e412cf3e56b3",
        "colab": {
          "base_uri": "https://localhost:8080/",
          "height": 0
        }
      },
      "source": [
        "gpstore[gpstore['Type']=='Paid']['Price'].head() # e.g $4.99 is a string"
      ],
      "execution_count": 15,
      "outputs": [
        {
          "output_type": "execute_result",
          "data": {
            "text/plain": [
              "234    $4.99\n",
              "235    $4.99\n",
              "290    $4.99\n",
              "291    $4.99\n",
              "427    $3.99\n",
              "Name: Price, dtype: object"
            ]
          },
          "metadata": {
            "tags": []
          },
          "execution_count": 15
        }
      ]
    },
    {
      "cell_type": "code",
      "metadata": {
        "id": "xqrgLVrOoz-K",
        "colab_type": "code",
        "outputId": "0ed70695-4b55-4365-f5eb-5176db168cc9",
        "colab": {
          "base_uri": "https://localhost:8080/",
          "height": 0
        }
      },
      "source": [
        "# Price in$ is the column having numeric values of Price column\n",
        "gpstore['Price in$'] = gpstore['Price'].str.lstrip('$').apply(lambda str_f: float(str_f))\n",
        "gpstore['Price in$'].dtype"
      ],
      "execution_count": 16,
      "outputs": [
        {
          "output_type": "execute_result",
          "data": {
            "text/plain": [
              "dtype('float64')"
            ]
          },
          "metadata": {
            "tags": []
          },
          "execution_count": 16
        }
      ]
    },
    {
      "cell_type": "code",
      "metadata": {
        "colab_type": "code",
        "outputId": "08517c7e-8efc-4cef-f894-6f5a3692475e",
        "id": "WvYfty7Fxzrt",
        "colab": {
          "base_uri": "https://localhost:8080/",
          "height": 0
        }
      },
      "source": [
        "# check our dataframe again\n",
        "gpstore.info()"
      ],
      "execution_count": 17,
      "outputs": [
        {
          "output_type": "stream",
          "text": [
            "<class 'pandas.core.frame.DataFrame'>\n",
            "Int64Index: 10840 entries, 0 to 10840\n",
            "Data columns (total 14 columns):\n",
            "App               10840 non-null object\n",
            "Category          10840 non-null object\n",
            "Rating            10840 non-null float64\n",
            "Reviews           10840 non-null object\n",
            "Size              10840 non-null object\n",
            "Installs          10840 non-null object\n",
            "Type              10839 non-null object\n",
            "Price             10840 non-null object\n",
            "Content Rating    10840 non-null object\n",
            "Genres            10840 non-null object\n",
            "Last Updated      10840 non-null object\n",
            "Current Ver       10832 non-null object\n",
            "Android Ver       10838 non-null object\n",
            "Price in$         10840 non-null float64\n",
            "dtypes: float64(2), object(12)\n",
            "memory usage: 1.2+ MB\n"
          ],
          "name": "stdout"
        }
      ]
    },
    {
      "cell_type": "markdown",
      "metadata": {
        "id": "e1DJxVdBGnxE",
        "colab_type": "text"
      },
      "source": [
        "#### Type"
      ]
    },
    {
      "cell_type": "code",
      "metadata": {
        "id": "nQj0FQngGnxF",
        "colab_type": "code",
        "outputId": "f90f1e73-39d8-4896-d9b3-fc36e2fcb78f",
        "colab": {
          "base_uri": "https://localhost:8080/",
          "height": 0
        }
      },
      "source": [
        "gpstore['Type'].value_counts(dropna=False)"
      ],
      "execution_count": 18,
      "outputs": [
        {
          "output_type": "execute_result",
          "data": {
            "text/plain": [
              "Free    10039\n",
              "Paid      800\n",
              "NaN         1\n",
              "Name: Type, dtype: int64"
            ]
          },
          "metadata": {
            "tags": []
          },
          "execution_count": 18
        }
      ]
    },
    {
      "cell_type": "code",
      "metadata": {
        "id": "LHm3uTmJn7fE",
        "colab_type": "code",
        "outputId": "06dad547-2fdd-4f55-bc39-2daa9cc32e27",
        "colab": {
          "base_uri": "https://localhost:8080/",
          "height": 0
        }
      },
      "source": [
        "#Type columns has 1 null\n",
        "gpstore[gpstore['Type'].isnull()]"
      ],
      "execution_count": 19,
      "outputs": [
        {
          "output_type": "execute_result",
          "data": {
            "text/html": [
              "<div>\n",
              "<style scoped>\n",
              "    .dataframe tbody tr th:only-of-type {\n",
              "        vertical-align: middle;\n",
              "    }\n",
              "\n",
              "    .dataframe tbody tr th {\n",
              "        vertical-align: top;\n",
              "    }\n",
              "\n",
              "    .dataframe thead th {\n",
              "        text-align: right;\n",
              "    }\n",
              "</style>\n",
              "<table border=\"1\" class=\"dataframe\">\n",
              "  <thead>\n",
              "    <tr style=\"text-align: right;\">\n",
              "      <th></th>\n",
              "      <th>App</th>\n",
              "      <th>Category</th>\n",
              "      <th>Rating</th>\n",
              "      <th>Reviews</th>\n",
              "      <th>Size</th>\n",
              "      <th>Installs</th>\n",
              "      <th>Type</th>\n",
              "      <th>Price</th>\n",
              "      <th>Content Rating</th>\n",
              "      <th>Genres</th>\n",
              "      <th>Last Updated</th>\n",
              "      <th>Current Ver</th>\n",
              "      <th>Android Ver</th>\n",
              "      <th>Price in$</th>\n",
              "    </tr>\n",
              "  </thead>\n",
              "  <tbody>\n",
              "    <tr>\n",
              "      <th>9148</th>\n",
              "      <td>Command &amp; Conquer: Rivals</td>\n",
              "      <td>FAMILY</td>\n",
              "      <td>4.2</td>\n",
              "      <td>0</td>\n",
              "      <td>Varies with device</td>\n",
              "      <td>0</td>\n",
              "      <td>NaN</td>\n",
              "      <td>0</td>\n",
              "      <td>Everyone 10+</td>\n",
              "      <td>Strategy</td>\n",
              "      <td>June 28, 2018</td>\n",
              "      <td>Varies with device</td>\n",
              "      <td>Varies with device</td>\n",
              "      <td>0.0</td>\n",
              "    </tr>\n",
              "  </tbody>\n",
              "</table>\n",
              "</div>"
            ],
            "text/plain": [
              "                            App Category  ...         Android Ver Price in$\n",
              "9148  Command & Conquer: Rivals   FAMILY  ...  Varies with device       0.0\n",
              "\n",
              "[1 rows x 14 columns]"
            ]
          },
          "metadata": {
            "tags": []
          },
          "execution_count": 19
        }
      ]
    },
    {
      "cell_type": "code",
      "metadata": {
        "id": "MKA_pKj2rBik",
        "colab_type": "code",
        "outputId": "129b37b7-b231-4fbd-a03f-47511c6c4365",
        "colab": {
          "base_uri": "https://localhost:8080/",
          "height": 0
        }
      },
      "source": [
        "# Exclude that row\n",
        "gpstore.dropna(subset=['Type'], inplace=True)\n",
        "gpstore[gpstore['Type'].isnull()]"
      ],
      "execution_count": 20,
      "outputs": [
        {
          "output_type": "execute_result",
          "data": {
            "text/html": [
              "<div>\n",
              "<style scoped>\n",
              "    .dataframe tbody tr th:only-of-type {\n",
              "        vertical-align: middle;\n",
              "    }\n",
              "\n",
              "    .dataframe tbody tr th {\n",
              "        vertical-align: top;\n",
              "    }\n",
              "\n",
              "    .dataframe thead th {\n",
              "        text-align: right;\n",
              "    }\n",
              "</style>\n",
              "<table border=\"1\" class=\"dataframe\">\n",
              "  <thead>\n",
              "    <tr style=\"text-align: right;\">\n",
              "      <th></th>\n",
              "      <th>App</th>\n",
              "      <th>Category</th>\n",
              "      <th>Rating</th>\n",
              "      <th>Reviews</th>\n",
              "      <th>Size</th>\n",
              "      <th>Installs</th>\n",
              "      <th>Type</th>\n",
              "      <th>Price</th>\n",
              "      <th>Content Rating</th>\n",
              "      <th>Genres</th>\n",
              "      <th>Last Updated</th>\n",
              "      <th>Current Ver</th>\n",
              "      <th>Android Ver</th>\n",
              "      <th>Price in$</th>\n",
              "    </tr>\n",
              "  </thead>\n",
              "  <tbody>\n",
              "  </tbody>\n",
              "</table>\n",
              "</div>"
            ],
            "text/plain": [
              "Empty DataFrame\n",
              "Columns: [App, Category, Rating, Reviews, Size, Installs, Type, Price, Content Rating, Genres, Last Updated, Current Ver, Android Ver, Price in$]\n",
              "Index: []"
            ]
          },
          "metadata": {
            "tags": []
          },
          "execution_count": 20
        }
      ]
    },
    {
      "cell_type": "code",
      "metadata": {
        "id": "RBIOBAYJJXJq",
        "colab_type": "code",
        "outputId": "6e957551-ad7b-4851-826e-7fb57c4351bc",
        "colab": {
          "base_uri": "https://localhost:8080/",
          "height": 0
        }
      },
      "source": [
        "# check if there are any row that Price is 0 but Type is not Free\n",
        "gpstore[(gpstore['Price'] == '0') & (gpstore['Type'] != 'Free')]"
      ],
      "execution_count": 21,
      "outputs": [
        {
          "output_type": "execute_result",
          "data": {
            "text/html": [
              "<div>\n",
              "<style scoped>\n",
              "    .dataframe tbody tr th:only-of-type {\n",
              "        vertical-align: middle;\n",
              "    }\n",
              "\n",
              "    .dataframe tbody tr th {\n",
              "        vertical-align: top;\n",
              "    }\n",
              "\n",
              "    .dataframe thead th {\n",
              "        text-align: right;\n",
              "    }\n",
              "</style>\n",
              "<table border=\"1\" class=\"dataframe\">\n",
              "  <thead>\n",
              "    <tr style=\"text-align: right;\">\n",
              "      <th></th>\n",
              "      <th>App</th>\n",
              "      <th>Category</th>\n",
              "      <th>Rating</th>\n",
              "      <th>Reviews</th>\n",
              "      <th>Size</th>\n",
              "      <th>Installs</th>\n",
              "      <th>Type</th>\n",
              "      <th>Price</th>\n",
              "      <th>Content Rating</th>\n",
              "      <th>Genres</th>\n",
              "      <th>Last Updated</th>\n",
              "      <th>Current Ver</th>\n",
              "      <th>Android Ver</th>\n",
              "      <th>Price in$</th>\n",
              "    </tr>\n",
              "  </thead>\n",
              "  <tbody>\n",
              "  </tbody>\n",
              "</table>\n",
              "</div>"
            ],
            "text/plain": [
              "Empty DataFrame\n",
              "Columns: [App, Category, Rating, Reviews, Size, Installs, Type, Price, Content Rating, Genres, Last Updated, Current Ver, Android Ver, Price in$]\n",
              "Index: []"
            ]
          },
          "metadata": {
            "tags": []
          },
          "execution_count": 21
        }
      ]
    },
    {
      "cell_type": "code",
      "metadata": {
        "id": "K9oRCxPPMUOU",
        "colab_type": "code",
        "outputId": "1a64c353-22b9-435b-859c-4e4d78f52fa1",
        "colab": {
          "base_uri": "https://localhost:8080/",
          "height": 0
        }
      },
      "source": [
        "# check if there are any row that Price is greater than 0 but Type is not Paid\n",
        "gpstore[(gpstore['Price in$'] > 0) & (gpstore['Type'] != 'Paid')]"
      ],
      "execution_count": 22,
      "outputs": [
        {
          "output_type": "execute_result",
          "data": {
            "text/html": [
              "<div>\n",
              "<style scoped>\n",
              "    .dataframe tbody tr th:only-of-type {\n",
              "        vertical-align: middle;\n",
              "    }\n",
              "\n",
              "    .dataframe tbody tr th {\n",
              "        vertical-align: top;\n",
              "    }\n",
              "\n",
              "    .dataframe thead th {\n",
              "        text-align: right;\n",
              "    }\n",
              "</style>\n",
              "<table border=\"1\" class=\"dataframe\">\n",
              "  <thead>\n",
              "    <tr style=\"text-align: right;\">\n",
              "      <th></th>\n",
              "      <th>App</th>\n",
              "      <th>Category</th>\n",
              "      <th>Rating</th>\n",
              "      <th>Reviews</th>\n",
              "      <th>Size</th>\n",
              "      <th>Installs</th>\n",
              "      <th>Type</th>\n",
              "      <th>Price</th>\n",
              "      <th>Content Rating</th>\n",
              "      <th>Genres</th>\n",
              "      <th>Last Updated</th>\n",
              "      <th>Current Ver</th>\n",
              "      <th>Android Ver</th>\n",
              "      <th>Price in$</th>\n",
              "    </tr>\n",
              "  </thead>\n",
              "  <tbody>\n",
              "  </tbody>\n",
              "</table>\n",
              "</div>"
            ],
            "text/plain": [
              "Empty DataFrame\n",
              "Columns: [App, Category, Rating, Reviews, Size, Installs, Type, Price, Content Rating, Genres, Last Updated, Current Ver, Android Ver, Price in$]\n",
              "Index: []"
            ]
          },
          "metadata": {
            "tags": []
          },
          "execution_count": 22
        }
      ]
    },
    {
      "cell_type": "code",
      "metadata": {
        "colab_type": "code",
        "outputId": "cf7cc656-c6c5-4ea8-ae6c-c83e9989a71d",
        "id": "qR-7D_cBx3IM",
        "colab": {
          "base_uri": "https://localhost:8080/",
          "height": 0
        }
      },
      "source": [
        "# check our dataframe again\n",
        "gpstore.info()"
      ],
      "execution_count": 23,
      "outputs": [
        {
          "output_type": "stream",
          "text": [
            "<class 'pandas.core.frame.DataFrame'>\n",
            "Int64Index: 10839 entries, 0 to 10840\n",
            "Data columns (total 14 columns):\n",
            "App               10839 non-null object\n",
            "Category          10839 non-null object\n",
            "Rating            10839 non-null float64\n",
            "Reviews           10839 non-null object\n",
            "Size              10839 non-null object\n",
            "Installs          10839 non-null object\n",
            "Type              10839 non-null object\n",
            "Price             10839 non-null object\n",
            "Content Rating    10839 non-null object\n",
            "Genres            10839 non-null object\n",
            "Last Updated      10839 non-null object\n",
            "Current Ver       10831 non-null object\n",
            "Android Ver       10837 non-null object\n",
            "Price in$         10839 non-null float64\n",
            "dtypes: float64(2), object(12)\n",
            "memory usage: 1.2+ MB\n"
          ],
          "name": "stdout"
        }
      ]
    },
    {
      "cell_type": "markdown",
      "metadata": {
        "id": "UIn_APCOn-w5",
        "colab_type": "text"
      },
      "source": [
        "#### Content Rating"
      ]
    },
    {
      "cell_type": "code",
      "metadata": {
        "id": "vfBO6RTFGnxJ",
        "colab_type": "code",
        "outputId": "0c213a9e-00ce-4553-d907-8574a06d2946",
        "colab": {
          "base_uri": "https://localhost:8080/",
          "height": 0
        }
      },
      "source": [
        "gpstore['Content Rating'].value_counts(dropna=False)"
      ],
      "execution_count": 24,
      "outputs": [
        {
          "output_type": "execute_result",
          "data": {
            "text/plain": [
              "Everyone           8714\n",
              "Teen               1208\n",
              "Mature 17+          499\n",
              "Everyone 10+        413\n",
              "Adults only 18+       3\n",
              "Unrated               2\n",
              "Name: Content Rating, dtype: int64"
            ]
          },
          "metadata": {
            "tags": []
          },
          "execution_count": 24
        }
      ]
    },
    {
      "cell_type": "code",
      "metadata": {
        "id": "LMs9dWwOsqdw",
        "colab_type": "code",
        "outputId": "abd06143-a35d-4d78-e0d7-a71277c2618d",
        "colab": {
          "base_uri": "https://localhost:8080/",
          "height": 0
        }
      },
      "source": [
        "#Unrated can be considered as NaN value and there are only 2 row having Unrated value in Content Rating column, so we drop them =))\n",
        "gpstore = gpstore[gpstore['Content Rating'] != 'Unrated']\n",
        "gpstore['Content Rating'].value_counts(dropna=False)"
      ],
      "execution_count": 25,
      "outputs": [
        {
          "output_type": "execute_result",
          "data": {
            "text/plain": [
              "Everyone           8714\n",
              "Teen               1208\n",
              "Mature 17+          499\n",
              "Everyone 10+        413\n",
              "Adults only 18+       3\n",
              "Name: Content Rating, dtype: int64"
            ]
          },
          "metadata": {
            "tags": []
          },
          "execution_count": 25
        }
      ]
    },
    {
      "cell_type": "code",
      "metadata": {
        "colab_type": "code",
        "outputId": "22c3c235-79f4-41be-a982-2ab3978e4ae7",
        "id": "_E1fzClcx4kK",
        "colab": {
          "base_uri": "https://localhost:8080/",
          "height": 0
        }
      },
      "source": [
        "# check our dataframe again\n",
        "gpstore.info()"
      ],
      "execution_count": 26,
      "outputs": [
        {
          "output_type": "stream",
          "text": [
            "<class 'pandas.core.frame.DataFrame'>\n",
            "Int64Index: 10837 entries, 0 to 10840\n",
            "Data columns (total 14 columns):\n",
            "App               10837 non-null object\n",
            "Category          10837 non-null object\n",
            "Rating            10837 non-null float64\n",
            "Reviews           10837 non-null object\n",
            "Size              10837 non-null object\n",
            "Installs          10837 non-null object\n",
            "Type              10837 non-null object\n",
            "Price             10837 non-null object\n",
            "Content Rating    10837 non-null object\n",
            "Genres            10837 non-null object\n",
            "Last Updated      10837 non-null object\n",
            "Current Ver       10829 non-null object\n",
            "Android Ver       10835 non-null object\n",
            "Price in$         10837 non-null float64\n",
            "dtypes: float64(2), object(12)\n",
            "memory usage: 1.2+ MB\n"
          ],
          "name": "stdout"
        }
      ]
    },
    {
      "cell_type": "markdown",
      "metadata": {
        "colab_type": "text",
        "id": "4yJ7GA5n17xz"
      },
      "source": [
        "#### Reviews / Genres / Last Updated\n",
        "These columns don't seem to need  cleaning"
      ]
    },
    {
      "cell_type": "code",
      "metadata": {
        "colab_type": "code",
        "outputId": "edc4fb8f-461d-463d-d98e-492022c01d95",
        "id": "H2ZqjWOv17x4",
        "colab": {
          "base_uri": "https://localhost:8080/",
          "height": 0
        }
      },
      "source": [
        "gpstore['Reviews'].value_counts(dropna=False)"
      ],
      "execution_count": 27,
      "outputs": [
        {
          "output_type": "execute_result",
          "data": {
            "text/plain": [
              "0          595\n",
              "1          271\n",
              "2          214\n",
              "3          175\n",
              "4          137\n",
              "5          108\n",
              "6           97\n",
              "7           90\n",
              "8           74\n",
              "9           65\n",
              "10          64\n",
              "12          60\n",
              "11          52\n",
              "13          49\n",
              "17          48\n",
              "19          41\n",
              "14          41\n",
              "21          35\n",
              "20          35\n",
              "16          35\n",
              "15          31\n",
              "24          30\n",
              "30          30\n",
              "25          30\n",
              "38          29\n",
              "18          27\n",
              "22          26\n",
              "27          25\n",
              "23          25\n",
              "33          24\n",
              "          ... \n",
              "42410        1\n",
              "1827         1\n",
              "39123        1\n",
              "64815        1\n",
              "13788        1\n",
              "814151       1\n",
              "142632       1\n",
              "42871        1\n",
              "298321       1\n",
              "56197        1\n",
              "170973       1\n",
              "19543        1\n",
              "179139       1\n",
              "80900        1\n",
              "20161        1\n",
              "860078       1\n",
              "1045         1\n",
              "5195         1\n",
              "16851        1\n",
              "183374       1\n",
              "3047         1\n",
              "29229        1\n",
              "3860225      1\n",
              "2362         1\n",
              "66473        1\n",
              "8432         1\n",
              "3156484      1\n",
              "26649        1\n",
              "6079         1\n",
              "33944        1\n",
              "Name: Reviews, Length: 6000, dtype: int64"
            ]
          },
          "metadata": {
            "tags": []
          },
          "execution_count": 27
        }
      ]
    },
    {
      "cell_type": "code",
      "metadata": {
        "colab_type": "code",
        "outputId": "5d3c6fe0-8e3c-4a55-f692-4889bc17e86e",
        "id": "iQBSHQ-52UaQ",
        "colab": {
          "base_uri": "https://localhost:8080/",
          "height": 0
        }
      },
      "source": [
        "gpstore['Genres'].value_counts(dropna=False)"
      ],
      "execution_count": 28,
      "outputs": [
        {
          "output_type": "execute_result",
          "data": {
            "text/plain": [
              "Tools                                  841\n",
              "Entertainment                          622\n",
              "Education                              549\n",
              "Medical                                463\n",
              "Business                               460\n",
              "Productivity                           424\n",
              "Sports                                 398\n",
              "Personalization                        392\n",
              "Communication                          387\n",
              "Lifestyle                              381\n",
              "Finance                                366\n",
              "Action                                 365\n",
              "Health & Fitness                       341\n",
              "Photography                            335\n",
              "Social                                 295\n",
              "News & Magazines                       283\n",
              "Shopping                               260\n",
              "Travel & Local                         257\n",
              "Dating                                 234\n",
              "Books & Reference                      231\n",
              "Arcade                                 220\n",
              "Simulation                             200\n",
              "Casual                                 193\n",
              "Video Players & Editors                173\n",
              "Puzzle                                 140\n",
              "Maps & Navigation                      137\n",
              "Food & Drink                           127\n",
              "Role Playing                           109\n",
              "Strategy                               106\n",
              "Racing                                  98\n",
              "                                      ... \n",
              "Art & Design;Action & Adventure          2\n",
              "Art & Design;Pretend Play                2\n",
              "Video Players & Editors;Creativity       2\n",
              "Books & Reference;Education              2\n",
              "Entertainment;Pretend Play               2\n",
              "Strategy;Action & Adventure              2\n",
              "Card;Action & Adventure                  2\n",
              "Role Playing;Education                   1\n",
              "Strategy;Creativity                      1\n",
              "Parenting;Brain Games                    1\n",
              "Books & Reference;Creativity             1\n",
              "Role Playing;Brain Games                 1\n",
              "Arcade;Pretend Play                      1\n",
              "Communication;Creativity                 1\n",
              "Comics;Creativity                        1\n",
              "Card;Brain Games                         1\n",
              "Entertainment;Education                  1\n",
              "Adventure;Brain Games                    1\n",
              "Tools;Education                          1\n",
              "Health & Fitness;Education               1\n",
              "Puzzle;Education                         1\n",
              "Lifestyle;Pretend Play                   1\n",
              "Health & Fitness;Action & Adventure      1\n",
              "Trivia;Education                         1\n",
              "Board;Pretend Play                       1\n",
              "Music & Audio;Music & Video              1\n",
              "Strategy;Education                       1\n",
              "Racing;Pretend Play                      1\n",
              "Lifestyle;Education                      1\n",
              "Travel & Local;Action & Adventure        1\n",
              "Name: Genres, Length: 119, dtype: int64"
            ]
          },
          "metadata": {
            "tags": []
          },
          "execution_count": 28
        }
      ]
    },
    {
      "cell_type": "code",
      "metadata": {
        "colab_type": "code",
        "outputId": "fb528619-b44c-49cf-de28-c00fb8e88b73",
        "id": "CNg2iiST2XH3",
        "colab": {
          "base_uri": "https://localhost:8080/",
          "height": 0
        }
      },
      "source": [
        "gpstore['Last Updated'].value_counts(dropna=False)"
      ],
      "execution_count": 29,
      "outputs": [
        {
          "output_type": "execute_result",
          "data": {
            "text/plain": [
              "August 3, 2018        326\n",
              "August 2, 2018        304\n",
              "July 31, 2018         294\n",
              "August 1, 2018        285\n",
              "July 30, 2018         211\n",
              "July 25, 2018         164\n",
              "July 26, 2018         161\n",
              "August 6, 2018        158\n",
              "July 27, 2018         151\n",
              "July 24, 2018         148\n",
              "July 23, 2018         127\n",
              "July 19, 2018         126\n",
              "July 16, 2018         126\n",
              "July 18, 2018         123\n",
              "July 11, 2018         106\n",
              "August 4, 2018        105\n",
              "July 12, 2018         103\n",
              "July 5, 2018           93\n",
              "July 17, 2018          92\n",
              "July 3, 2018           90\n",
              "July 9, 2018           89\n",
              "July 20, 2018          88\n",
              "July 13, 2018          81\n",
              "May 24, 2018           69\n",
              "June 27, 2018          63\n",
              "July 6, 2018           63\n",
              "June 26, 2018          60\n",
              "June 25, 2018          56\n",
              "May 25, 2018           56\n",
              "June 13, 2018          54\n",
              "                     ... \n",
              "December 10, 2015       1\n",
              "August 21, 2015         1\n",
              "April 18, 2011          1\n",
              "January 12, 2012        1\n",
              "January 8, 2014         1\n",
              "January 1, 2016         1\n",
              "April 23, 2016          1\n",
              "March 8, 2015           1\n",
              "December 12, 2013       1\n",
              "February 8, 2016        1\n",
              "June 12, 2013           1\n",
              "December 14, 2015       1\n",
              "May 21, 2013            1\n",
              "January 9, 2015         1\n",
              "March 12, 2017          1\n",
              "January 22, 2015        1\n",
              "August 7, 2013          1\n",
              "May 16, 2015            1\n",
              "August 26, 2014         1\n",
              "August 13, 2016         1\n",
              "April 16, 2017          1\n",
              "August 28, 2014         1\n",
              "November 22, 2013       1\n",
              "April 30, 2017          1\n",
              "February 18, 2013       1\n",
              "January 12, 2016        1\n",
              "April 14, 2015          1\n",
              "September 27, 2013      1\n",
              "June 4, 2013            1\n",
              "September 9, 2017       1\n",
              "Name: Last Updated, Length: 1376, dtype: int64"
            ]
          },
          "metadata": {
            "tags": []
          },
          "execution_count": 29
        }
      ]
    },
    {
      "cell_type": "markdown",
      "metadata": {
        "id": "GgY4sCa1QlVn",
        "colab_type": "text"
      },
      "source": [
        "#### Current Ver\n"
      ]
    },
    {
      "cell_type": "code",
      "metadata": {
        "id": "QVYDCNkEQrxX",
        "colab_type": "code",
        "outputId": "fb2caba4-478e-4b7c-95d0-d9af2373a931",
        "colab": {
          "base_uri": "https://localhost:8080/",
          "height": 0
        }
      },
      "source": [
        "gpstore[gpstore['Current Ver'].isnull()]"
      ],
      "execution_count": 30,
      "outputs": [
        {
          "output_type": "execute_result",
          "data": {
            "text/html": [
              "<div>\n",
              "<style scoped>\n",
              "    .dataframe tbody tr th:only-of-type {\n",
              "        vertical-align: middle;\n",
              "    }\n",
              "\n",
              "    .dataframe tbody tr th {\n",
              "        vertical-align: top;\n",
              "    }\n",
              "\n",
              "    .dataframe thead th {\n",
              "        text-align: right;\n",
              "    }\n",
              "</style>\n",
              "<table border=\"1\" class=\"dataframe\">\n",
              "  <thead>\n",
              "    <tr style=\"text-align: right;\">\n",
              "      <th></th>\n",
              "      <th>App</th>\n",
              "      <th>Category</th>\n",
              "      <th>Rating</th>\n",
              "      <th>Reviews</th>\n",
              "      <th>Size</th>\n",
              "      <th>Installs</th>\n",
              "      <th>Type</th>\n",
              "      <th>Price</th>\n",
              "      <th>Content Rating</th>\n",
              "      <th>Genres</th>\n",
              "      <th>Last Updated</th>\n",
              "      <th>Current Ver</th>\n",
              "      <th>Android Ver</th>\n",
              "      <th>Price in$</th>\n",
              "    </tr>\n",
              "  </thead>\n",
              "  <tbody>\n",
              "    <tr>\n",
              "      <th>15</th>\n",
              "      <td>Learn To Draw Kawaii Characters</td>\n",
              "      <td>ART_AND_DESIGN</td>\n",
              "      <td>3.2</td>\n",
              "      <td>55</td>\n",
              "      <td>2.7M</td>\n",
              "      <td>5,000+</td>\n",
              "      <td>Free</td>\n",
              "      <td>0</td>\n",
              "      <td>Everyone</td>\n",
              "      <td>Art &amp; Design</td>\n",
              "      <td>June 6, 2018</td>\n",
              "      <td>NaN</td>\n",
              "      <td>4.2 and up</td>\n",
              "      <td>0.00</td>\n",
              "    </tr>\n",
              "    <tr>\n",
              "      <th>1553</th>\n",
              "      <td>Market Update Helper</td>\n",
              "      <td>LIBRARIES_AND_DEMO</td>\n",
              "      <td>4.1</td>\n",
              "      <td>20145</td>\n",
              "      <td>11k</td>\n",
              "      <td>1,000,000+</td>\n",
              "      <td>Free</td>\n",
              "      <td>0</td>\n",
              "      <td>Everyone</td>\n",
              "      <td>Libraries &amp; Demo</td>\n",
              "      <td>February 12, 2013</td>\n",
              "      <td>NaN</td>\n",
              "      <td>1.5 and up</td>\n",
              "      <td>0.00</td>\n",
              "    </tr>\n",
              "    <tr>\n",
              "      <th>6322</th>\n",
              "      <td>Virtual DJ Sound Mixer</td>\n",
              "      <td>TOOLS</td>\n",
              "      <td>4.2</td>\n",
              "      <td>4010</td>\n",
              "      <td>8.7M</td>\n",
              "      <td>500,000+</td>\n",
              "      <td>Free</td>\n",
              "      <td>0</td>\n",
              "      <td>Everyone</td>\n",
              "      <td>Tools</td>\n",
              "      <td>May 10, 2017</td>\n",
              "      <td>NaN</td>\n",
              "      <td>4.0 and up</td>\n",
              "      <td>0.00</td>\n",
              "    </tr>\n",
              "    <tr>\n",
              "      <th>6803</th>\n",
              "      <td>BT Master</td>\n",
              "      <td>FAMILY</td>\n",
              "      <td>4.2</td>\n",
              "      <td>0</td>\n",
              "      <td>222k</td>\n",
              "      <td>100+</td>\n",
              "      <td>Free</td>\n",
              "      <td>0</td>\n",
              "      <td>Everyone</td>\n",
              "      <td>Education</td>\n",
              "      <td>November 6, 2016</td>\n",
              "      <td>NaN</td>\n",
              "      <td>1.6 and up</td>\n",
              "      <td>0.00</td>\n",
              "    </tr>\n",
              "    <tr>\n",
              "      <th>7333</th>\n",
              "      <td>Dots puzzle</td>\n",
              "      <td>FAMILY</td>\n",
              "      <td>4.0</td>\n",
              "      <td>179</td>\n",
              "      <td>14M</td>\n",
              "      <td>50,000+</td>\n",
              "      <td>Paid</td>\n",
              "      <td>$0.99</td>\n",
              "      <td>Everyone</td>\n",
              "      <td>Puzzle</td>\n",
              "      <td>April 18, 2018</td>\n",
              "      <td>NaN</td>\n",
              "      <td>4.0 and up</td>\n",
              "      <td>0.99</td>\n",
              "    </tr>\n",
              "    <tr>\n",
              "      <th>7407</th>\n",
              "      <td>Calculate My IQ</td>\n",
              "      <td>FAMILY</td>\n",
              "      <td>4.2</td>\n",
              "      <td>44</td>\n",
              "      <td>7.2M</td>\n",
              "      <td>10,000+</td>\n",
              "      <td>Free</td>\n",
              "      <td>0</td>\n",
              "      <td>Everyone</td>\n",
              "      <td>Entertainment</td>\n",
              "      <td>April 3, 2017</td>\n",
              "      <td>NaN</td>\n",
              "      <td>2.3 and up</td>\n",
              "      <td>0.00</td>\n",
              "    </tr>\n",
              "    <tr>\n",
              "      <th>7730</th>\n",
              "      <td>UFO-CQ</td>\n",
              "      <td>TOOLS</td>\n",
              "      <td>4.2</td>\n",
              "      <td>1</td>\n",
              "      <td>237k</td>\n",
              "      <td>10+</td>\n",
              "      <td>Paid</td>\n",
              "      <td>$0.99</td>\n",
              "      <td>Everyone</td>\n",
              "      <td>Tools</td>\n",
              "      <td>July 4, 2016</td>\n",
              "      <td>NaN</td>\n",
              "      <td>2.0 and up</td>\n",
              "      <td>0.99</td>\n",
              "    </tr>\n",
              "    <tr>\n",
              "      <th>10342</th>\n",
              "      <td>La Fe de Jesus</td>\n",
              "      <td>BOOKS_AND_REFERENCE</td>\n",
              "      <td>4.2</td>\n",
              "      <td>8</td>\n",
              "      <td>658k</td>\n",
              "      <td>1,000+</td>\n",
              "      <td>Free</td>\n",
              "      <td>0</td>\n",
              "      <td>Everyone</td>\n",
              "      <td>Books &amp; Reference</td>\n",
              "      <td>January 31, 2017</td>\n",
              "      <td>NaN</td>\n",
              "      <td>3.0 and up</td>\n",
              "      <td>0.00</td>\n",
              "    </tr>\n",
              "  </tbody>\n",
              "</table>\n",
              "</div>"
            ],
            "text/plain": [
              "                                   App  ... Price in$\n",
              "15     Learn To Draw Kawaii Characters  ...      0.00\n",
              "1553              Market Update Helper  ...      0.00\n",
              "6322            Virtual DJ Sound Mixer  ...      0.00\n",
              "6803                         BT Master  ...      0.00\n",
              "7333                       Dots puzzle  ...      0.99\n",
              "7407                   Calculate My IQ  ...      0.00\n",
              "7730                            UFO-CQ  ...      0.99\n",
              "10342                   La Fe de Jesus  ...      0.00\n",
              "\n",
              "[8 rows x 14 columns]"
            ]
          },
          "metadata": {
            "tags": []
          },
          "execution_count": 30
        }
      ]
    },
    {
      "cell_type": "code",
      "metadata": {
        "id": "etnh1jklRLLB",
        "colab_type": "code",
        "colab": {}
      },
      "source": [
        "# fill NaN value in Current Ver column with 1.0.0\n",
        "gpstore['Current Ver'].fillna('1.0.0', inplace=True)"
      ],
      "execution_count": 0,
      "outputs": []
    },
    {
      "cell_type": "markdown",
      "metadata": {
        "id": "KhUExrbOvhaE",
        "colab_type": "text"
      },
      "source": [
        "#### Android Ver"
      ]
    },
    {
      "cell_type": "code",
      "metadata": {
        "id": "RQ3J04RvGnxR",
        "colab_type": "code",
        "outputId": "6b9e1858-c1d9-410d-95db-1253e89f72a9",
        "colab": {
          "base_uri": "https://localhost:8080/",
          "height": 0
        }
      },
      "source": [
        "gpstore['Android Ver'].value_counts(dropna=False)"
      ],
      "execution_count": 32,
      "outputs": [
        {
          "output_type": "execute_result",
          "data": {
            "text/plain": [
              "4.1 and up            2451\n",
              "4.0.3 and up          1501\n",
              "4.0 and up            1375\n",
              "Varies with device    1361\n",
              "4.4 and up             980\n",
              "2.3 and up             652\n",
              "5.0 and up             601\n",
              "4.2 and up             394\n",
              "2.3.3 and up           280\n",
              "2.2 and up             244\n",
              "4.3 and up             243\n",
              "3.0 and up             240\n",
              "2.1 and up             134\n",
              "1.6 and up             116\n",
              "6.0 and up              60\n",
              "7.0 and up              42\n",
              "3.2 and up              36\n",
              "2.0 and up              32\n",
              "5.1 and up              24\n",
              "1.5 and up              20\n",
              "4.4W and up             12\n",
              "3.1 and up              10\n",
              "2.0.1 and up             7\n",
              "8.0 and up               6\n",
              "7.1 and up               3\n",
              "5.0 - 8.0                2\n",
              "NaN                      2\n",
              "4.0.3 - 7.1.1            2\n",
              "1.0 and up               2\n",
              "2.2 - 7.1.1              1\n",
              "7.0 - 7.1.1              1\n",
              "5.0 - 7.1.1              1\n",
              "5.0 - 6.0                1\n",
              "4.1 - 7.1.1              1\n",
              "Name: Android Ver, dtype: int64"
            ]
          },
          "metadata": {
            "tags": []
          },
          "execution_count": 32
        }
      ]
    },
    {
      "cell_type": "code",
      "metadata": {
        "id": "8In_5hGCASuS",
        "colab_type": "code",
        "outputId": "5a40d614-077f-48da-eccd-ba52688996a6",
        "colab": {
          "base_uri": "https://localhost:8080/",
          "height": 0
        }
      },
      "source": [
        "# Drop 2 NaN value\n",
        "gpstore.dropna(subset=['Android Ver'], inplace=True)\n",
        "gpstore[gpstore['Android Ver'].isnull()]"
      ],
      "execution_count": 33,
      "outputs": [
        {
          "output_type": "execute_result",
          "data": {
            "text/html": [
              "<div>\n",
              "<style scoped>\n",
              "    .dataframe tbody tr th:only-of-type {\n",
              "        vertical-align: middle;\n",
              "    }\n",
              "\n",
              "    .dataframe tbody tr th {\n",
              "        vertical-align: top;\n",
              "    }\n",
              "\n",
              "    .dataframe thead th {\n",
              "        text-align: right;\n",
              "    }\n",
              "</style>\n",
              "<table border=\"1\" class=\"dataframe\">\n",
              "  <thead>\n",
              "    <tr style=\"text-align: right;\">\n",
              "      <th></th>\n",
              "      <th>App</th>\n",
              "      <th>Category</th>\n",
              "      <th>Rating</th>\n",
              "      <th>Reviews</th>\n",
              "      <th>Size</th>\n",
              "      <th>Installs</th>\n",
              "      <th>Type</th>\n",
              "      <th>Price</th>\n",
              "      <th>Content Rating</th>\n",
              "      <th>Genres</th>\n",
              "      <th>Last Updated</th>\n",
              "      <th>Current Ver</th>\n",
              "      <th>Android Ver</th>\n",
              "      <th>Price in$</th>\n",
              "    </tr>\n",
              "  </thead>\n",
              "  <tbody>\n",
              "  </tbody>\n",
              "</table>\n",
              "</div>"
            ],
            "text/plain": [
              "Empty DataFrame\n",
              "Columns: [App, Category, Rating, Reviews, Size, Installs, Type, Price, Content Rating, Genres, Last Updated, Current Ver, Android Ver, Price in$]\n",
              "Index: []"
            ]
          },
          "metadata": {
            "tags": []
          },
          "execution_count": 33
        }
      ]
    },
    {
      "cell_type": "code",
      "metadata": {
        "id": "6j8r8Vb0lbKL",
        "colab_type": "code",
        "outputId": "a0fd876f-39c4-415d-93b9-37668aa90b6d",
        "colab": {
          "base_uri": "https://localhost:8080/",
          "height": 0
        }
      },
      "source": [
        "# Standardize Android Ver: X.X.X - Y.Y.Y\n",
        "regex = ' [\\w+]+(?:\\.\\w+) '\n",
        "gpstore['Android Ver'] = \" \" + gpstore['Android Ver'] + \" \"\n",
        "\n",
        "gpstore['Android Ver'] = gpstore['Android Ver'].str.replace('and', '-')\n",
        "gpstore['Android Ver'] = gpstore['Android Ver'].str.replace('up', 'latest')\n",
        "\n",
        "import re\n",
        "def append_by_regex(text):\n",
        "  search_value = re.search(regex, text)\n",
        "  while search_value:\n",
        "    pos = search_value.end()\n",
        "    text = text[:pos].rstrip() + \".0 \" + text[pos:] \n",
        "    search_value = re.search(regex, text)\n",
        "  return text\n",
        "\n",
        "gpstore['Android Ver'] = gpstore['Android Ver'].apply(append_by_regex)\n",
        "gpstore['Android Ver'] = gpstore['Android Ver'].str.strip()\n",
        "gpstore['Android Ver'].value_counts(dropna=False)"
      ],
      "execution_count": 34,
      "outputs": [
        {
          "output_type": "execute_result",
          "data": {
            "text/plain": [
              "4.1.0 - latest        2451\n",
              "4.0.3 - latest        1501\n",
              "4.0.0 - latest        1375\n",
              "Varies with device    1361\n",
              "4.4.0 - latest         980\n",
              "2.3.0 - latest         652\n",
              "5.0.0 - latest         601\n",
              "4.2.0 - latest         394\n",
              "2.3.3 - latest         280\n",
              "2.2.0 - latest         244\n",
              "4.3.0 - latest         243\n",
              "3.0.0 - latest         240\n",
              "2.1.0 - latest         134\n",
              "1.6.0 - latest         116\n",
              "6.0.0 - latest          60\n",
              "7.0.0 - latest          42\n",
              "3.2.0 - latest          36\n",
              "2.0.0 - latest          32\n",
              "5.1.0 - latest          24\n",
              "1.5.0 - latest          20\n",
              "4.4W.0 - latest         12\n",
              "3.1.0 - latest          10\n",
              "2.0.1 - latest           7\n",
              "8.0.0 - latest           6\n",
              "7.1.0 - latest           3\n",
              "4.0.3 - 7.1.1            2\n",
              "5.0.0 - 8.0.0            2\n",
              "1.0.0 - latest           2\n",
              "7.0.0 - 7.1.1            1\n",
              "4.1.0 - 7.1.1            1\n",
              "5.0.0 - 7.1.1            1\n",
              "5.0.0 - 6.0.0            1\n",
              "2.2.0 - 7.1.1            1\n",
              "Name: Android Ver, dtype: int64"
            ]
          },
          "metadata": {
            "tags": []
          },
          "execution_count": 34
        }
      ]
    },
    {
      "cell_type": "code",
      "metadata": {
        "colab_type": "code",
        "outputId": "a6ebe03d-d97e-4b2e-8893-54f15e2b500d",
        "id": "7RNltFtJXETG",
        "colab": {
          "base_uri": "https://localhost:8080/",
          "height": 0
        }
      },
      "source": [
        "# Handle \"Varies with device\"\n",
        "\n",
        "# split each value in Android Ver column into two columns Android MinVer and Android MaxVer\n",
        "gpstore['Android MinVer'] = gpstore['Android Ver'].str.split('-').str[0].str.strip()\n",
        "gpstore['Android MaxVer'] = gpstore['Android Ver'].str.split('-').str[1].str.strip()\n",
        "\n",
        "# When there's not \"-\" in Android Ver string (in case Android Ver value is \"Varies with device\")\n",
        "# Android MinVer values will be assigned with \"Varies with device\", so we re-assign theses values with NaN\n",
        "gpstore['Android MinVer'].replace('Varies with device', np.NaN, inplace=True)\n",
        "\n",
        "# Fillna in Android MinVer with min of non-null values in Android MinVer\n",
        "gpstore['Android MinVer'].fillna(gpstore['Android MinVer'].dropna().min(), inplace=True)\n",
        "\n",
        "# Fillna in Android MaxVer with max of non-null values in Android MaxVer\n",
        "gpstore['Android MaxVer'].fillna(gpstore['Android MaxVer'].dropna().max(), inplace=True)\n",
        "\n",
        "# Replace \"- latest\" with and up to restore the original form of Android Ver\n",
        "gpstore['Android Ver'] = gpstore['Android Ver'].str.replace('- latest', \"and up\")\n",
        "gpstore.head()"
      ],
      "execution_count": 35,
      "outputs": [
        {
          "output_type": "execute_result",
          "data": {
            "text/html": [
              "<div>\n",
              "<style scoped>\n",
              "    .dataframe tbody tr th:only-of-type {\n",
              "        vertical-align: middle;\n",
              "    }\n",
              "\n",
              "    .dataframe tbody tr th {\n",
              "        vertical-align: top;\n",
              "    }\n",
              "\n",
              "    .dataframe thead th {\n",
              "        text-align: right;\n",
              "    }\n",
              "</style>\n",
              "<table border=\"1\" class=\"dataframe\">\n",
              "  <thead>\n",
              "    <tr style=\"text-align: right;\">\n",
              "      <th></th>\n",
              "      <th>App</th>\n",
              "      <th>Category</th>\n",
              "      <th>Rating</th>\n",
              "      <th>Reviews</th>\n",
              "      <th>Size</th>\n",
              "      <th>Installs</th>\n",
              "      <th>Type</th>\n",
              "      <th>Price</th>\n",
              "      <th>Content Rating</th>\n",
              "      <th>Genres</th>\n",
              "      <th>Last Updated</th>\n",
              "      <th>Current Ver</th>\n",
              "      <th>Android Ver</th>\n",
              "      <th>Price in$</th>\n",
              "      <th>Android MinVer</th>\n",
              "      <th>Android MaxVer</th>\n",
              "    </tr>\n",
              "  </thead>\n",
              "  <tbody>\n",
              "    <tr>\n",
              "      <th>0</th>\n",
              "      <td>Photo Editor &amp; Candy Camera &amp; Grid &amp; ScrapBook</td>\n",
              "      <td>ART_AND_DESIGN</td>\n",
              "      <td>4.1</td>\n",
              "      <td>159</td>\n",
              "      <td>19M</td>\n",
              "      <td>10,000+</td>\n",
              "      <td>Free</td>\n",
              "      <td>0</td>\n",
              "      <td>Everyone</td>\n",
              "      <td>Art &amp; Design</td>\n",
              "      <td>January 7, 2018</td>\n",
              "      <td>1.0.0</td>\n",
              "      <td>4.0.3 and up</td>\n",
              "      <td>0.0</td>\n",
              "      <td>4.0.3</td>\n",
              "      <td>latest</td>\n",
              "    </tr>\n",
              "    <tr>\n",
              "      <th>1</th>\n",
              "      <td>Coloring book moana</td>\n",
              "      <td>ART_AND_DESIGN</td>\n",
              "      <td>3.9</td>\n",
              "      <td>967</td>\n",
              "      <td>14M</td>\n",
              "      <td>500,000+</td>\n",
              "      <td>Free</td>\n",
              "      <td>0</td>\n",
              "      <td>Everyone</td>\n",
              "      <td>Art &amp; Design;Pretend Play</td>\n",
              "      <td>January 15, 2018</td>\n",
              "      <td>2.0.0</td>\n",
              "      <td>4.0.3 and up</td>\n",
              "      <td>0.0</td>\n",
              "      <td>4.0.3</td>\n",
              "      <td>latest</td>\n",
              "    </tr>\n",
              "    <tr>\n",
              "      <th>2</th>\n",
              "      <td>U Launcher Lite – FREE Live Cool Themes, Hide ...</td>\n",
              "      <td>ART_AND_DESIGN</td>\n",
              "      <td>4.7</td>\n",
              "      <td>87510</td>\n",
              "      <td>8.7M</td>\n",
              "      <td>5,000,000+</td>\n",
              "      <td>Free</td>\n",
              "      <td>0</td>\n",
              "      <td>Everyone</td>\n",
              "      <td>Art &amp; Design</td>\n",
              "      <td>August 1, 2018</td>\n",
              "      <td>1.2.4</td>\n",
              "      <td>4.0.3 and up</td>\n",
              "      <td>0.0</td>\n",
              "      <td>4.0.3</td>\n",
              "      <td>latest</td>\n",
              "    </tr>\n",
              "    <tr>\n",
              "      <th>3</th>\n",
              "      <td>Sketch - Draw &amp; Paint</td>\n",
              "      <td>ART_AND_DESIGN</td>\n",
              "      <td>4.5</td>\n",
              "      <td>215644</td>\n",
              "      <td>25M</td>\n",
              "      <td>50,000,000+</td>\n",
              "      <td>Free</td>\n",
              "      <td>0</td>\n",
              "      <td>Teen</td>\n",
              "      <td>Art &amp; Design</td>\n",
              "      <td>June 8, 2018</td>\n",
              "      <td>Varies with device</td>\n",
              "      <td>4.2.0 and up</td>\n",
              "      <td>0.0</td>\n",
              "      <td>4.2.0</td>\n",
              "      <td>latest</td>\n",
              "    </tr>\n",
              "    <tr>\n",
              "      <th>4</th>\n",
              "      <td>Pixel Draw - Number Art Coloring Book</td>\n",
              "      <td>ART_AND_DESIGN</td>\n",
              "      <td>4.3</td>\n",
              "      <td>967</td>\n",
              "      <td>2.8M</td>\n",
              "      <td>100,000+</td>\n",
              "      <td>Free</td>\n",
              "      <td>0</td>\n",
              "      <td>Everyone</td>\n",
              "      <td>Art &amp; Design;Creativity</td>\n",
              "      <td>June 20, 2018</td>\n",
              "      <td>1.1</td>\n",
              "      <td>4.4.0 and up</td>\n",
              "      <td>0.0</td>\n",
              "      <td>4.4.0</td>\n",
              "      <td>latest</td>\n",
              "    </tr>\n",
              "  </tbody>\n",
              "</table>\n",
              "</div>"
            ],
            "text/plain": [
              "                                                 App  ... Android MaxVer\n",
              "0     Photo Editor & Candy Camera & Grid & ScrapBook  ...         latest\n",
              "1                                Coloring book moana  ...         latest\n",
              "2  U Launcher Lite – FREE Live Cool Themes, Hide ...  ...         latest\n",
              "3                              Sketch - Draw & Paint  ...         latest\n",
              "4              Pixel Draw - Number Art Coloring Book  ...         latest\n",
              "\n",
              "[5 rows x 16 columns]"
            ]
          },
          "metadata": {
            "tags": []
          },
          "execution_count": 35
        }
      ]
    },
    {
      "cell_type": "code",
      "metadata": {
        "id": "7djesguKCKZO",
        "colab_type": "code",
        "outputId": "4e9242da-37a7-4ba4-c08d-1ad8d43bb713",
        "colab": {
          "base_uri": "https://localhost:8080/",
          "height": 0
        }
      },
      "source": [
        "# check our dataframe\n",
        "gpstore.info()"
      ],
      "execution_count": 36,
      "outputs": [
        {
          "output_type": "stream",
          "text": [
            "<class 'pandas.core.frame.DataFrame'>\n",
            "Int64Index: 10835 entries, 0 to 10840\n",
            "Data columns (total 16 columns):\n",
            "App               10835 non-null object\n",
            "Category          10835 non-null object\n",
            "Rating            10835 non-null float64\n",
            "Reviews           10835 non-null object\n",
            "Size              10835 non-null object\n",
            "Installs          10835 non-null object\n",
            "Type              10835 non-null object\n",
            "Price             10835 non-null object\n",
            "Content Rating    10835 non-null object\n",
            "Genres            10835 non-null object\n",
            "Last Updated      10835 non-null object\n",
            "Current Ver       10835 non-null object\n",
            "Android Ver       10835 non-null object\n",
            "Price in$         10835 non-null float64\n",
            "Android MinVer    10835 non-null object\n",
            "Android MaxVer    10835 non-null object\n",
            "dtypes: float64(2), object(14)\n",
            "memory usage: 1.4+ MB\n"
          ],
          "name": "stdout"
        }
      ]
    },
    {
      "cell_type": "markdown",
      "metadata": {
        "id": "SmU5hkAh9sQ7",
        "colab_type": "text"
      },
      "source": [
        "#### Install"
      ]
    },
    {
      "cell_type": "code",
      "metadata": {
        "id": "k4qjr9sZCIpf",
        "colab_type": "code",
        "outputId": "ddcdd7f5-351b-4e94-b155-0c6fee4abadc",
        "colab": {
          "base_uri": "https://localhost:8080/",
          "height": 0
        }
      },
      "source": [
        "gpstore['Installs'].value_counts()"
      ],
      "execution_count": 37,
      "outputs": [
        {
          "output_type": "execute_result",
          "data": {
            "text/plain": [
              "1,000,000+        1579\n",
              "10,000,000+       1252\n",
              "100,000+          1169\n",
              "10,000+           1053\n",
              "1,000+             906\n",
              "5,000,000+         752\n",
              "100+               719\n",
              "500,000+           539\n",
              "50,000+            478\n",
              "5,000+             477\n",
              "100,000,000+       409\n",
              "10+                386\n",
              "500+               329\n",
              "50,000,000+        289\n",
              "50+                205\n",
              "5+                  82\n",
              "500,000,000+        72\n",
              "1+                  67\n",
              "1,000,000,000+      58\n",
              "0+                  14\n",
              "Name: Installs, dtype: int64"
            ]
          },
          "metadata": {
            "tags": []
          },
          "execution_count": 37
        }
      ]
    },
    {
      "cell_type": "code",
      "metadata": {
        "id": "AkHQAmDwB7f6",
        "colab_type": "code",
        "outputId": "736c9d2f-8842-46b5-8f0c-e574ee9774d4",
        "colab": {
          "base_uri": "https://localhost:8080/",
          "height": 0
        }
      },
      "source": [
        "# Installs column's dtype is dtype('O') which is Python type string\n",
        "gpstore['Installs'].dtype"
      ],
      "execution_count": 38,
      "outputs": [
        {
          "output_type": "execute_result",
          "data": {
            "text/plain": [
              "dtype('O')"
            ]
          },
          "metadata": {
            "tags": []
          },
          "execution_count": 38
        }
      ]
    },
    {
      "cell_type": "code",
      "metadata": {
        "id": "iyXP_4tD75Yk",
        "colab_type": "code",
        "colab": {}
      },
      "source": [
        "# The number of installations of each app can be equal or greater than the value in Installs column\n",
        "# So we create Installs At Least column having numeric value of the number of installations at least\n",
        "gpstore['Installs At Least'] = gpstore['Installs'].replace('[^0-9]', '', regex=True).astype(int)"
      ],
      "execution_count": 0,
      "outputs": []
    },
    {
      "cell_type": "code",
      "metadata": {
        "id": "vRUvSOX8CYWE",
        "colab_type": "code",
        "outputId": "ffbc5fb4-9090-47fe-cbe9-da2c24c8ddd5",
        "colab": {
          "base_uri": "https://localhost:8080/",
          "height": 0
        }
      },
      "source": [
        "gpstore['Installs At Least'].value_counts()"
      ],
      "execution_count": 40,
      "outputs": [
        {
          "output_type": "execute_result",
          "data": {
            "text/plain": [
              "1000000       1579\n",
              "10000000      1252\n",
              "100000        1169\n",
              "10000         1053\n",
              "1000           906\n",
              "5000000        752\n",
              "100            719\n",
              "500000         539\n",
              "50000          478\n",
              "5000           477\n",
              "100000000      409\n",
              "10             386\n",
              "500            329\n",
              "50000000       289\n",
              "50             205\n",
              "5               82\n",
              "500000000       72\n",
              "1               67\n",
              "1000000000      58\n",
              "0               14\n",
              "Name: Installs At Least, dtype: int64"
            ]
          },
          "metadata": {
            "tags": []
          },
          "execution_count": 40
        }
      ]
    },
    {
      "cell_type": "markdown",
      "metadata": {
        "id": "HMZ-Xz9pBtDd",
        "colab_type": "text"
      },
      "source": [
        "#### Size"
      ]
    },
    {
      "cell_type": "code",
      "metadata": {
        "id": "wXHTo5CkD6NA",
        "colab_type": "code",
        "outputId": "7dca6cb5-3cc5-41cd-a0ca-047c1234645f",
        "colab": {
          "base_uri": "https://localhost:8080/",
          "height": 1000
        }
      },
      "source": [
        "gpstore['Size'].value_counts()"
      ],
      "execution_count": 41,
      "outputs": [
        {
          "output_type": "execute_result",
          "data": {
            "text/plain": [
              "Varies with device    1694\n",
              "11M                    197\n",
              "12M                    196\n",
              "14M                    194\n",
              "13M                    191\n",
              "15M                    184\n",
              "17M                    160\n",
              "19M                    154\n",
              "16M                    149\n",
              "26M                    149\n",
              "25M                    143\n",
              "20M                    139\n",
              "21M                    138\n",
              "10M                    136\n",
              "24M                    136\n",
              "18M                    133\n",
              "23M                    117\n",
              "22M                    114\n",
              "29M                    103\n",
              "27M                     97\n",
              "28M                     95\n",
              "30M                     84\n",
              "33M                     79\n",
              "3.3M                    77\n",
              "37M                     76\n",
              "35M                     72\n",
              "31M                     70\n",
              "2.9M                    69\n",
              "2.3M                    68\n",
              "2.5M                    67\n",
              "                      ... \n",
              "350k                     1\n",
              "8.5k                     1\n",
              "613k                     1\n",
              "45k                      1\n",
              "499k                     1\n",
              "720k                     1\n",
              "91k                      1\n",
              "551k                     1\n",
              "500k                     1\n",
              "458k                     1\n",
              "916k                     1\n",
              "784k                     1\n",
              "601k                     1\n",
              "544k                     1\n",
              "314k                     1\n",
              "981k                     1\n",
              "696k                     1\n",
              "54k                      1\n",
              "153k                     1\n",
              "430k                     1\n",
              "193k                     1\n",
              "874k                     1\n",
              "164k                     1\n",
              "903k                     1\n",
              "269k                     1\n",
              "785k                     1\n",
              "209k                     1\n",
              "695k                     1\n",
              "904k                     1\n",
              "351k                     1\n",
              "Name: Size, Length: 461, dtype: int64"
            ]
          },
          "metadata": {
            "tags": []
          },
          "execution_count": 41
        }
      ]
    },
    {
      "cell_type": "code",
      "metadata": {
        "id": "LTVQAYcCfvuY",
        "colab_type": "code",
        "colab": {}
      },
      "source": [
        "import re"
      ],
      "execution_count": 0,
      "outputs": []
    },
    {
      "cell_type": "code",
      "metadata": {
        "id": "kDFjT4xjD8kl",
        "colab_type": "code",
        "colab": {}
      },
      "source": [
        "index_list = gpstore.index.values.tolist()\n",
        "for indx in index_list:\n",
        "  old_value = gpstore.at[indx, 'Size']\n",
        "  if (old_value == 'Varies with device'):\n",
        "    continue\n",
        "  old_value_abs = re.findall('\\d+\\.*\\d*', old_value)\n",
        "  # Check to make sure only 1 number value\n",
        "  if (len(old_value_abs) != 1):\n",
        "    print(old_value)\n",
        "  old_value_unit = re.findall('[^\\d\\W]$', old_value)\n",
        "#   print(old_value_unit)\n",
        "  new_value = 0\n",
        "  if old_value_unit[0] == 'M':\n",
        "    new_value = float(old_value_abs[0]) * 1024\n",
        "  elif old_value_unit[0] == 'k':\n",
        "    new_value = float(old_value_abs[0])\n",
        "  else:\n",
        "    print(\"Error: undefine unit \", old_value_unit)\n",
        "  gpstore.at[indx, 'Size'] = new_value"
      ],
      "execution_count": 0,
      "outputs": []
    },
    {
      "cell_type": "markdown",
      "metadata": {
        "id": "aAcitzI_kId6",
        "colab_type": "text"
      },
      "source": [
        "Now we update \"Varies with device\" size by mean value of each category"
      ]
    },
    {
      "cell_type": "code",
      "metadata": {
        "id": "vbRZuA2zkE57",
        "colab_type": "code",
        "colab": {}
      },
      "source": [
        "cate_list = gpstore['Category'].unique().tolist()\n",
        "gpstore['Size'].replace(to_replace='Varies with device', value=np.nan, inplace=True)\n",
        "gpstore['Size'].astype('category', inplace=True)\n",
        "for cate in cate_list:\n",
        "  cate_size_mean = round(gpstore[gpstore['Category'] == cate]['Size'].mean(), 1)\n",
        "  gpstore[gpstore['Category'] == cate] = gpstore[gpstore['Category'] == cate].fillna(cate_size_mean)\n",
        "  "
      ],
      "execution_count": 0,
      "outputs": []
    },
    {
      "cell_type": "code",
      "metadata": {
        "id": "R_ZxcI89t7Or",
        "colab_type": "code",
        "outputId": "419b1202-ad23-4030-b005-ef1941d9895b",
        "colab": {
          "base_uri": "https://localhost:8080/",
          "height": 413
        }
      },
      "source": [
        "gpstore.info()"
      ],
      "execution_count": 45,
      "outputs": [
        {
          "output_type": "stream",
          "text": [
            "<class 'pandas.core.frame.DataFrame'>\n",
            "Int64Index: 10835 entries, 0 to 10840\n",
            "Data columns (total 17 columns):\n",
            "App                  10835 non-null object\n",
            "Category             10835 non-null object\n",
            "Rating               10835 non-null float64\n",
            "Reviews              10835 non-null object\n",
            "Size                 10835 non-null float64\n",
            "Installs             10835 non-null object\n",
            "Type                 10835 non-null object\n",
            "Price                10835 non-null object\n",
            "Content Rating       10835 non-null object\n",
            "Genres               10835 non-null object\n",
            "Last Updated         10835 non-null object\n",
            "Current Ver          10835 non-null object\n",
            "Android Ver          10835 non-null object\n",
            "Price in$            10835 non-null float64\n",
            "Android MinVer       10835 non-null object\n",
            "Android MaxVer       10835 non-null object\n",
            "Installs At Least    10835 non-null int64\n",
            "dtypes: float64(3), int64(1), object(13)\n",
            "memory usage: 1.8+ MB\n"
          ],
          "name": "stdout"
        }
      ]
    },
    {
      "cell_type": "markdown",
      "metadata": {
        "id": "lBAMmfM5zpW6",
        "colab_type": "text"
      },
      "source": [
        "## Let draw some figure"
      ]
    },
    {
      "cell_type": "code",
      "metadata": {
        "id": "F_C8WpInzunW",
        "colab_type": "code",
        "outputId": "32632bb8-13bc-48f7-bab5-1aec42dc218d",
        "colab": {
          "base_uri": "https://localhost:8080/",
          "height": 627
        }
      },
      "source": [
        "plt.figure(figsize=(16, 10))\n",
        "sns.barplot(data=gpstore, y='Category', x='Installs At Least')"
      ],
      "execution_count": 46,
      "outputs": [
        {
          "output_type": "execute_result",
          "data": {
            "text/plain": [
              "<matplotlib.axes._subplots.AxesSubplot at 0x7fc6b6a43a90>"
            ]
          },
          "metadata": {
            "tags": []
          },
          "execution_count": 46
        },
        {
          "output_type": "display_data",
          "data": {
            "image/png": "[encoded data removed]",
            "text/plain": [
              "<Figure size 1152x720 with 1 Axes>"
            ]
          },
          "metadata": {
            "tags": []
          }
        }
      ]
    },
    {
      "cell_type": "code",
      "metadata": {
        "id": "ONSf4l7l3NOE",
        "colab_type": "code",
        "outputId": "a240af68-1ba0-4378-9ea2-a3189f86cabf",
        "colab": {
          "base_uri": "https://localhost:8080/",
          "height": 301
        }
      },
      "source": [
        "sns.barplot(data=gpstore, y='Type', x='Installs At Least')"
      ],
      "execution_count": 47,
      "outputs": [
        {
          "output_type": "execute_result",
          "data": {
            "text/plain": [
              "<matplotlib.axes._subplots.AxesSubplot at 0x7fc6b509b898>"
            ]
          },
          "metadata": {
            "tags": []
          },
          "execution_count": 47
        },
        {
          "output_type": "display_data",
          "data": {
            "image/png": "[encoded data removed]",
            "text/plain": [
              "<Figure size 432x288 with 1 Axes>"
            ]
          },
          "metadata": {
            "tags": []
          }
        }
      ]
    },
    {
      "cell_type": "code",
      "metadata": {
        "id": "A7PKsXs03dnR",
        "colab_type": "code",
        "outputId": "7567ce24-f102-4b02-fd2c-29d13ea50235",
        "colab": {
          "base_uri": "https://localhost:8080/",
          "height": 308
        }
      },
      "source": [
        "sns.lineplot(data=gpstore, x='Price in$', y='Installs At Least')"
      ],
      "execution_count": 48,
      "outputs": [
        {
          "output_type": "execute_result",
          "data": {
            "text/plain": [
              "<matplotlib.axes._subplots.AxesSubplot at 0x7fc6b53fbdd8>"
            ]
          },
          "metadata": {
            "tags": []
          },
          "execution_count": 48
        },
        {
          "output_type": "display_data",
          "data": {
            "image/png": "[encoded data removed]",
            "text/plain": [
              "<Figure size 432x288 with 1 Axes>"
            ]
          },
          "metadata": {
            "tags": []
          }
        }
      ]
    },
    {
      "cell_type": "code",
      "metadata": {
        "id": "JiC5TsSE3xoG",
        "colab_type": "code",
        "outputId": "c58e807e-9f69-4514-8506-2c9459508c72",
        "colab": {
          "base_uri": "https://localhost:8080/",
          "height": 308
        }
      },
      "source": [
        "sns.lineplot(data=gpstore, x='Size', y='Installs At Least')"
      ],
      "execution_count": 49,
      "outputs": [
        {
          "output_type": "execute_result",
          "data": {
            "text/plain": [
              "<matplotlib.axes._subplots.AxesSubplot at 0x7fc6b536e860>"
            ]
          },
          "metadata": {
            "tags": []
          },
          "execution_count": 49
        },
        {
          "output_type": "display_data",
          "data": {
            "image/png": "[encoded data removed]",
            "text/plain": [
              "<Figure size 432x288 with 1 Axes>"
            ]
          },
          "metadata": {
            "tags": []
          }
        }
      ]
    },
    {
      "cell_type": "code",
      "metadata": {
        "id": "KfNyPD0O46Q0",
        "colab_type": "code",
        "outputId": "67be685f-fd0e-479d-bcda-fc7035b46c04",
        "colab": {
          "base_uri": "https://localhost:8080/",
          "height": 319
        }
      },
      "source": [
        "sns.heatmap(gpstore.corr(), annot=True, cmap='YlGn_r')"
      ],
      "execution_count": 50,
      "outputs": [
        {
          "output_type": "execute_result",
          "data": {
            "text/plain": [
              "<matplotlib.axes._subplots.AxesSubplot at 0x7fc6b52c4588>"
            ]
          },
          "metadata": {
            "tags": []
          },
          "execution_count": 50
        },
        {
          "output_type": "display_data",
          "data": {
            "image/png": "[encoded data removed]",
            "text/plain": [
              "<Figure size 432x288 with 2 Axes>"
            ]
          },
          "metadata": {
            "tags": []
          }
        }
      ]
    },
    {
      "cell_type": "code",
      "metadata": {
        "id": "hHmEtrYJ5hwa",
        "colab_type": "code",
        "outputId": "96a4b2f1-8efe-4b59-af69-ce1be0ba34b2",
        "colab": {
          "base_uri": "https://localhost:8080/",
          "height": 355
        }
      },
      "source": [
        "plt.figure(figsize=(20, 5))\n",
        "sns.countplot(data=gpstore, x='Android MinVer')"
      ],
      "execution_count": 51,
      "outputs": [
        {
          "output_type": "execute_result",
          "data": {
            "text/plain": [
              "<matplotlib.axes._subplots.AxesSubplot at 0x7fc6b52c4e80>"
            ]
          },
          "metadata": {
            "tags": []
          },
          "execution_count": 51
        },
        {
          "output_type": "display_data",
          "data": {
            "image/png": "[encoded data removed]",
            "text/plain": [
              "<Figure size 1440x360 with 1 Axes>"
            ]
          },
          "metadata": {
            "tags": []
          }
        }
      ]
    },
    {
      "cell_type": "code",
      "metadata": {
        "id": "RV31h4KW6Jjw",
        "colab_type": "code",
        "outputId": "684fa847-e9f3-4ff6-c12e-df8b89cf7e5a",
        "colab": {
          "base_uri": "https://localhost:8080/",
          "height": 355
        }
      },
      "source": [
        "plt.figure(figsize=(20, 5))\n",
        "sns.countplot(data=gpstore, x='Android MaxVer')"
      ],
      "execution_count": 52,
      "outputs": [
        {
          "output_type": "execute_result",
          "data": {
            "text/plain": [
              "<matplotlib.axes._subplots.AxesSubplot at 0x7fc6b52c4e10>"
            ]
          },
          "metadata": {
            "tags": []
          },
          "execution_count": 52
        },
        {
          "output_type": "display_data",
          "data": {
            "image/png": "[encoded data removed]",
            "text/plain": [
              "<Figure size 1440x360 with 1 Axes>"
            ]
          },
          "metadata": {
            "tags": []
          }
        }
      ]
    }
  ]
}