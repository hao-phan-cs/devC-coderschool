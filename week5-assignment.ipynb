{
  "nbformat": 4,
  "nbformat_minor": 0,
  "metadata": {
    "kernelspec": {
      "display_name": "Python 3",
      "language": "python",
      "name": "python3"
    },
    "language_info": {
      "codemirror_mode": {
        "name": "ipython",
        "version": 3
      },
      "file_extension": ".py",
      "mimetype": "text/x-python",
      "name": "python",
      "nbconvert_exporter": "python",
      "pygments_lexer": "ipython3",
      "version": "3.7.3"
    },
    "colab": {
      "name": "GooglePlayAnalyze.ipynb",
      "version": "0.3.2",
      "provenance": [],
      "collapsed_sections": [
        "Ij446Hv__vXf",
        "UIn_APCOn-w5",
        "4yJ7GA5n17xz",
        "GgY4sCa1QlVn",
        "KhUExrbOvhaE",
        "SmU5hkAh9sQ7",
        "lBAMmfM5zpW6"
      ]
    }
  },
  "cells": [
    {
      "cell_type": "markdown",
      "metadata": {
        "id": "CrF3gW8HGnwV",
        "colab_type": "text"
      },
      "source": [
        "# Analyze Google Play Store dataset\n",
        "\n",
        "```\n",
        "Dashboard: https://datastudio.google.com/open/1aYKufdQ5ZW1mMSqXAPJ5y2WErK-tsMw9\n",
        "```"
      ]
    },
    {
      "cell_type": "markdown",
      "metadata": {
        "id": "8Akzj-PrGnwX",
        "colab_type": "text"
      },
      "source": [
        "## I - Some question to answer first\n",
        "1. What are we analyze? What we want to get? What is our problems?\n",
        "2. What is the metric of sucess?\n",
        "3. Is the input dataset enough to solve our problems?"
      ]
    },
    {
      "cell_type": "markdown",
      "metadata": {
        "colab_type": "text",
        "id": "Ij446Hv__vXf"
      },
      "source": [
        "## II - Take a look at the dataset and clean it"
      ]
    },
    {
      "cell_type": "markdown",
      "metadata": {
        "id": "-D0GaPGHnK7Q",
        "colab_type": "text"
      },
      "source": [
        "### Import tool"
      ]
    },
    {
      "cell_type": "code",
      "metadata": {
        "colab_type": "code",
        "id": "uuSDGVCrZ9yz",
        "colab": {}
      },
      "source": [
        "import numpy as np\n",
        "import pandas as pd\n",
        "import seaborn as sns\n",
        "import matplotlib.pyplot as plt\n",
        "%matplotlib inline\n",
        "import warnings\n",
        "warnings.filterwarnings('ignore')\n",
        "\n",
        "sns.set_style(\"whitegrid\")"
      ],
      "execution_count": 0,
      "outputs": []
    },
    {
      "cell_type": "markdown",
      "metadata": {
        "colab_type": "text",
        "id": "TMDV8MkuSl09"
      },
      "source": [
        "### Google Drive authenication"
      ]
    },
    {
      "cell_type": "code",
      "metadata": {
        "id": "mPzGx-MFSAUW",
        "colab_type": "code",
        "colab": {}
      },
      "source": [
        "!pip install -U -q PyDrive\n",
        "from pydrive.auth import GoogleAuth\n",
        "from pydrive.drive import GoogleDrive\n",
        "from google.colab import auth\n",
        "from oauth2client.client import GoogleCredentials\n",
        "\n",
        "import gspread\n",
        "from gspread_dataframe import get_as_dataframe, set_with_dataframe \n",
        "\n",
        "# Authenticate and create the PyDrive client.\n",
        "auth.authenticate_user()\n",
        "gauth = GoogleAuth()\n",
        "gauth.credentials = GoogleCredentials.get_application_default()\n",
        "drive = GoogleDrive(gauth)"
      ],
      "execution_count": 0,
      "outputs": []
    },
    {
      "cell_type": "markdown",
      "metadata": {
        "id": "Pmtkg7IiGnwe",
        "colab_type": "text"
      },
      "source": [
        "### Download and read the dataset"
      ]
    },
    {
      "cell_type": "code",
      "metadata": {
        "id": "-NcmBO3LLUbQ",
        "colab_type": "code",
        "colab": {}
      },
      "source": [
        "link = 'https://drive.google.com/open?id=1jje-EQBSIp5FSsldVUfiQmH_3YcufwWx'\n",
        "fluff, id = link.split('=')\n",
        "downloaded = drive.CreateFile({'id':id}) \n",
        "downloaded.GetContentFile('google-play-store.csv')  "
      ],
      "execution_count": 0,
      "outputs": []
    },
    {
      "cell_type": "code",
      "metadata": {
        "id": "wwdXMfNNGnwh",
        "colab_type": "code",
        "outputId": "223fe116-72bd-4a52-bb82-ae609b1e15b7",
        "colab": {
          "base_uri": "https://localhost:8080/",
          "height": 204
        }
      },
      "source": [
        "gpstore = pd.read_csv('google-play-store.csv')\n",
        "gpstore.head()"
      ],
      "execution_count": 4,
      "outputs": [
        {
          "output_type": "execute_result",
          "data": {
            "text/html": [
              "<div>\n",
              "<style scoped>\n",
              "    .dataframe tbody tr th:only-of-type {\n",
              "        vertical-align: middle;\n",
              "    }\n",
              "\n",
              "    .dataframe tbody tr th {\n",
              "        vertical-align: top;\n",
              "    }\n",
              "\n",
              "    .dataframe thead th {\n",
              "        text-align: right;\n",
              "    }\n",
              "</style>\n",
              "<table border=\"1\" class=\"dataframe\">\n",
              "  <thead>\n",
              "    <tr style=\"text-align: right;\">\n",
              "      <th></th>\n",
              "      <th>App</th>\n",
              "      <th>Category</th>\n",
              "      <th>Rating</th>\n",
              "      <th>Reviews</th>\n",
              "      <th>Size</th>\n",
              "      <th>Installs</th>\n",
              "      <th>Type</th>\n",
              "      <th>Price</th>\n",
              "      <th>Content Rating</th>\n",
              "      <th>Genres</th>\n",
              "      <th>Last Updated</th>\n",
              "      <th>Current Ver</th>\n",
              "      <th>Android Ver</th>\n",
              "    </tr>\n",
              "  </thead>\n",
              "  <tbody>\n",
              "    <tr>\n",
              "      <th>0</th>\n",
              "      <td>Photo Editor &amp; Candy Camera &amp; Grid &amp; ScrapBook</td>\n",
              "      <td>ART_AND_DESIGN</td>\n",
              "      <td>4.1</td>\n",
              "      <td>159</td>\n",
              "      <td>19M</td>\n",
              "      <td>10,000+</td>\n",
              "      <td>Free</td>\n",
              "      <td>0</td>\n",
              "      <td>Everyone</td>\n",
              "      <td>Art &amp; Design</td>\n",
              "      <td>January 7, 2018</td>\n",
              "      <td>1.0.0</td>\n",
              "      <td>4.0.3 and up</td>\n",
              "    </tr>\n",
              "    <tr>\n",
              "      <th>1</th>\n",
              "      <td>Coloring book moana</td>\n",
              "      <td>ART_AND_DESIGN</td>\n",
              "      <td>3.9</td>\n",
              "      <td>967</td>\n",
              "      <td>14M</td>\n",
              "      <td>500,000+</td>\n",
              "      <td>Free</td>\n",
              "      <td>0</td>\n",
              "      <td>Everyone</td>\n",
              "      <td>Art &amp; Design;Pretend Play</td>\n",
              "      <td>January 15, 2018</td>\n",
              "      <td>2.0.0</td>\n",
              "      <td>4.0.3 and up</td>\n",
              "    </tr>\n",
              "    <tr>\n",
              "      <th>2</th>\n",
              "      <td>U Launcher Lite – FREE Live Cool Themes, Hide ...</td>\n",
              "      <td>ART_AND_DESIGN</td>\n",
              "      <td>4.7</td>\n",
              "      <td>87510</td>\n",
              "      <td>8.7M</td>\n",
              "      <td>5,000,000+</td>\n",
              "      <td>Free</td>\n",
              "      <td>0</td>\n",
              "      <td>Everyone</td>\n",
              "      <td>Art &amp; Design</td>\n",
              "      <td>August 1, 2018</td>\n",
              "      <td>1.2.4</td>\n",
              "      <td>4.0.3 and up</td>\n",
              "    </tr>\n",
              "    <tr>\n",
              "      <th>3</th>\n",
              "      <td>Sketch - Draw &amp; Paint</td>\n",
              "      <td>ART_AND_DESIGN</td>\n",
              "      <td>4.5</td>\n",
              "      <td>215644</td>\n",
              "      <td>25M</td>\n",
              "      <td>50,000,000+</td>\n",
              "      <td>Free</td>\n",
              "      <td>0</td>\n",
              "      <td>Teen</td>\n",
              "      <td>Art &amp; Design</td>\n",
              "      <td>June 8, 2018</td>\n",
              "      <td>Varies with device</td>\n",
              "      <td>4.2 and up</td>\n",
              "    </tr>\n",
              "    <tr>\n",
              "      <th>4</th>\n",
              "      <td>Pixel Draw - Number Art Coloring Book</td>\n",
              "      <td>ART_AND_DESIGN</td>\n",
              "      <td>4.3</td>\n",
              "      <td>967</td>\n",
              "      <td>2.8M</td>\n",
              "      <td>100,000+</td>\n",
              "      <td>Free</td>\n",
              "      <td>0</td>\n",
              "      <td>Everyone</td>\n",
              "      <td>Art &amp; Design;Creativity</td>\n",
              "      <td>June 20, 2018</td>\n",
              "      <td>1.1</td>\n",
              "      <td>4.4 and up</td>\n",
              "    </tr>\n",
              "  </tbody>\n",
              "</table>\n",
              "</div>"
            ],
            "text/plain": [
              "                                                 App  ...   Android Ver\n",
              "0     Photo Editor & Candy Camera & Grid & ScrapBook  ...  4.0.3 and up\n",
              "1                                Coloring book moana  ...  4.0.3 and up\n",
              "2  U Launcher Lite – FREE Live Cool Themes, Hide ...  ...  4.0.3 and up\n",
              "3                              Sketch - Draw & Paint  ...    4.2 and up\n",
              "4              Pixel Draw - Number Art Coloring Book  ...    4.4 and up\n",
              "\n",
              "[5 rows x 13 columns]"
            ]
          },
          "metadata": {
            "tags": []
          },
          "execution_count": 4
        }
      ]
    },
    {
      "cell_type": "markdown",
      "metadata": {
        "id": "DDJqAfCRGnwq",
        "colab_type": "text"
      },
      "source": [
        "### Get some information of this dataset"
      ]
    },
    {
      "cell_type": "code",
      "metadata": {
        "id": "sV86lUNGGnwr",
        "colab_type": "code",
        "outputId": "56e17344-ce48-4c88-f264-ce13d2e88ade",
        "colab": {
          "base_uri": "https://localhost:8080/",
          "height": 341
        }
      },
      "source": [
        "gpstore.info()"
      ],
      "execution_count": 5,
      "outputs": [
        {
          "output_type": "stream",
          "text": [
            "<class 'pandas.core.frame.DataFrame'>\n",
            "RangeIndex: 10841 entries, 0 to 10840\n",
            "Data columns (total 13 columns):\n",
            "App               10841 non-null object\n",
            "Category          10841 non-null object\n",
            "Rating            9367 non-null float64\n",
            "Reviews           10841 non-null object\n",
            "Size              10841 non-null object\n",
            "Installs          10841 non-null object\n",
            "Type              10840 non-null object\n",
            "Price             10841 non-null object\n",
            "Content Rating    10840 non-null object\n",
            "Genres            10841 non-null object\n",
            "Last Updated      10841 non-null object\n",
            "Current Ver       10833 non-null object\n",
            "Android Ver       10838 non-null object\n",
            "dtypes: float64(1), object(12)\n",
            "memory usage: 1.1+ MB\n"
          ],
          "name": "stdout"
        }
      ]
    },
    {
      "cell_type": "code",
      "metadata": {
        "id": "tcmZsKGEGnwv",
        "colab_type": "code",
        "outputId": "69281a99-6c81-451e-c393-ca419c1e6b85",
        "colab": {
          "base_uri": "https://localhost:8080/",
          "height": 80
        }
      },
      "source": [
        "gpstore.describe().T"
      ],
      "execution_count": 6,
      "outputs": [
        {
          "output_type": "execute_result",
          "data": {
            "text/html": [
              "<div>\n",
              "<style scoped>\n",
              "    .dataframe tbody tr th:only-of-type {\n",
              "        vertical-align: middle;\n",
              "    }\n",
              "\n",
              "    .dataframe tbody tr th {\n",
              "        vertical-align: top;\n",
              "    }\n",
              "\n",
              "    .dataframe thead th {\n",
              "        text-align: right;\n",
              "    }\n",
              "</style>\n",
              "<table border=\"1\" class=\"dataframe\">\n",
              "  <thead>\n",
              "    <tr style=\"text-align: right;\">\n",
              "      <th></th>\n",
              "      <th>count</th>\n",
              "      <th>mean</th>\n",
              "      <th>std</th>\n",
              "      <th>min</th>\n",
              "      <th>25%</th>\n",
              "      <th>50%</th>\n",
              "      <th>75%</th>\n",
              "      <th>max</th>\n",
              "    </tr>\n",
              "  </thead>\n",
              "  <tbody>\n",
              "    <tr>\n",
              "      <th>Rating</th>\n",
              "      <td>9367.0</td>\n",
              "      <td>4.193338</td>\n",
              "      <td>0.537431</td>\n",
              "      <td>1.0</td>\n",
              "      <td>4.0</td>\n",
              "      <td>4.3</td>\n",
              "      <td>4.5</td>\n",
              "      <td>19.0</td>\n",
              "    </tr>\n",
              "  </tbody>\n",
              "</table>\n",
              "</div>"
            ],
            "text/plain": [
              "         count      mean       std  min  25%  50%  75%   max\n",
              "Rating  9367.0  4.193338  0.537431  1.0  4.0  4.3  4.5  19.0"
            ]
          },
          "metadata": {
            "tags": []
          },
          "execution_count": 6
        }
      ]
    },
    {
      "cell_type": "markdown",
      "metadata": {
        "id": "X2LH_pL9Gnwz",
        "colab_type": "text"
      },
      "source": [
        "### Take a look of values in each column and clean it"
      ]
    },
    {
      "cell_type": "markdown",
      "metadata": {
        "id": "-w0w21oOYbWh",
        "colab_type": "text"
      },
      "source": [
        "#### App"
      ]
    },
    {
      "cell_type": "code",
      "metadata": {
        "id": "Az1KlxyRYg50",
        "colab_type": "code",
        "colab": {}
      },
      "source": [
        "# sort by Last Updated\n",
        "gpstore.sort_values(by='Last Updated', ascending=True, inplace=True)\n",
        "\n",
        "# drop all the duplicated\n",
        "gpstore.drop_duplicates(subset = ['App', 'Category', 'Type', 'Content Rating', 'Genres'], keep = False, inplace = True)\n",
        "\n",
        "# that means we only keep the Latest Updated App in every app having the same values in ['App', 'Category', 'Type', 'Content Rating', 'Genres'] "
      ],
      "execution_count": 0,
      "outputs": []
    },
    {
      "cell_type": "code",
      "metadata": {
        "id": "y7vSAzGUYpLO",
        "colab_type": "code",
        "outputId": "10f9c763-9b84-485f-b7a2-619cae6b0fe2",
        "colab": {
          "base_uri": "https://localhost:8080/",
          "height": 1000
        }
      },
      "source": [
        "gpstore['App'].value_counts()"
      ],
      "execution_count": 8,
      "outputs": [
        {
          "output_type": "execute_result",
          "data": {
            "text/plain": [
              "Video Editor                                          3\n",
              "Jurassic World™ Alive                                 2\n",
              "Bubble Shooter                                        2\n",
              "No.Draw - Colors by Number 2018                       2\n",
              "Talking Ben the Dog                                   2\n",
              "Call Blocker                                          2\n",
              "Chess Free                                            2\n",
              "Peak – Brain Games & Training                         2\n",
              "YouTube Gaming                                        2\n",
              "HBO GO: Stream with TV Package                        2\n",
              "Fuzzy Numbers: Pre-K Number Foundation                2\n",
              "CppDroid - C/C++ IDE                                  2\n",
              "Choices: Stories You Play                             2\n",
              "PlayKids - Educational cartoons and games for kids    2\n",
              "Edmodo                                                2\n",
              "Mcqueen Coloring pages                                2\n",
              "Red Bull TV: Live Sports, Music & Entertainment       2\n",
              "Twitch: Livestream Multiplayer Games & Esports        2\n",
              "Episode - Choose Your Story                           2\n",
              "The NBC App - Watch Live TV and Full Episodes         2\n",
              "English Grammar Test                                  2\n",
              "Princess Coloring Book                                2\n",
              "Cartoon Network App                                   2\n",
              "UNICORN - Color By Number & Pixel Art Coloring        2\n",
              "PBS KIDS Video                                        2\n",
              "Candy Bomb                                            2\n",
              "Showtime Anytime                                      2\n",
              "The Sims™ FreePlay                                    2\n",
              "Ruler                                                 2\n",
              "Barbie™ Fashion Closet                                2\n",
              "                                                     ..\n",
              "iCam - Webcam Video Streaming                         1\n",
              "The DG Buddy                                          1\n",
              "Plastic Surgery Surgeon Simulator Er Doctor Games     1\n",
              "Water Surfer Racing In Moto                           1\n",
              "SeatGeek – Tickets to Sports, Concerts, Broadway      1\n",
              "Dumb Ways to Die 2: The Games                         1\n",
              "Roll Call News                                        1\n",
              "El Dorado App                                         1\n",
              "GF - BF Chat Stories - Hindi English Convesation      1\n",
              "NHL                                                   1\n",
              "FO AIRBUS TLSE                                        1\n",
              "AT&T THANKS®                                          1\n",
              "EP Radio                                              1\n",
              "Hungry Girl Diet Bk. Companion                        1\n",
              "Relaxing Sounds                                       1\n",
              "CP Ready                                              1\n",
              "BJ Memo Widget                                        1\n",
              "Call Recorder                                         1\n",
              "ZOMBIE RIPPER                                         1\n",
              "REDCap Mobile App                                     1\n",
              "Surah Al-Waqiah                                       1\n",
              "I am Millionaire - Richest guy in the town            1\n",
              "Absolute RC Heli Simulator                            1\n",
              "San Andreas: Gang Crime V                             1\n",
              "EH Autolink                                           1\n",
              "Dress Up RagazzA13 DX                                 1\n",
              "Be the Manager 2016 (football)                        1\n",
              "Kids Mode                                             1\n",
              "IF YOU TO EU PEGO                                     1\n",
              "Space X: Sky Wars of Air Force                        1\n",
              "Name: App, Length: 8945, dtype: int64"
            ]
          },
          "metadata": {
            "tags": []
          },
          "execution_count": 8
        }
      ]
    },
    {
      "cell_type": "code",
      "metadata": {
        "id": "83iSAmkQYzIx",
        "colab_type": "code",
        "outputId": "081eb527-5c76-4756-ffa6-c2d043a5c553",
        "colab": {
          "base_uri": "https://localhost:8080/",
          "height": 341
        }
      },
      "source": [
        "gpstore.info()"
      ],
      "execution_count": 9,
      "outputs": [
        {
          "output_type": "stream",
          "text": [
            "<class 'pandas.core.frame.DataFrame'>\n",
            "Int64Index: 8998 entries, 10472 to 6834\n",
            "Data columns (total 13 columns):\n",
            "App               8998 non-null object\n",
            "Category          8998 non-null object\n",
            "Rating            7542 non-null float64\n",
            "Reviews           8998 non-null object\n",
            "Size              8998 non-null object\n",
            "Installs          8998 non-null object\n",
            "Type              8997 non-null object\n",
            "Price             8998 non-null object\n",
            "Content Rating    8997 non-null object\n",
            "Genres            8998 non-null object\n",
            "Last Updated      8998 non-null object\n",
            "Current Ver       8990 non-null object\n",
            "Android Ver       8995 non-null object\n",
            "dtypes: float64(1), object(12)\n",
            "memory usage: 984.2+ KB\n"
          ],
          "name": "stdout"
        }
      ]
    },
    {
      "cell_type": "markdown",
      "metadata": {
        "id": "atfemAqnncFw",
        "colab_type": "text"
      },
      "source": [
        "#### Category"
      ]
    },
    {
      "cell_type": "code",
      "metadata": {
        "id": "F2S9e32sGnw0",
        "colab_type": "code",
        "outputId": "7fb35968-f28f-40c4-f9bc-30095597ba13",
        "colab": {
          "base_uri": "https://localhost:8080/",
          "height": 647
        }
      },
      "source": [
        "gpstore['Category'].value_counts(dropna=False)"
      ],
      "execution_count": 10,
      "outputs": [
        {
          "output_type": "execute_result",
          "data": {
            "text/plain": [
              "FAMILY                 1861\n",
              "GAME                    871\n",
              "TOOLS                   816\n",
              "BUSINESS                387\n",
              "PERSONALIZATION         363\n",
              "LIFESTYLE               357\n",
              "PRODUCTIVITY            341\n",
              "MEDICAL                 336\n",
              "FINANCE                 328\n",
              "SPORTS                  300\n",
              "COMMUNICATION           273\n",
              "HEALTH_AND_FITNESS      247\n",
              "PHOTOGRAPHY             244\n",
              "NEWS_AND_MAGAZINES      234\n",
              "BOOKS_AND_REFERENCE     213\n",
              "SOCIAL                  200\n",
              "TRAVEL_AND_LOCAL        195\n",
              "SHOPPING                166\n",
              "VIDEO_PLAYERS           156\n",
              "MAPS_AND_NAVIGATION     125\n",
              "DATING                  117\n",
              "FOOD_AND_DRINK           98\n",
              "EDUCATION                96\n",
              "AUTO_AND_VEHICLES        85\n",
              "LIBRARIES_AND_DEMO       83\n",
              "WEATHER                  76\n",
              "ENTERTAINMENT            75\n",
              "EVENTS                   64\n",
              "ART_AND_DESIGN           63\n",
              "HOUSE_AND_HOME           62\n",
              "PARENTING                60\n",
              "BEAUTY                   53\n",
              "COMICS                   52\n",
              "1.9                       1\n",
              "Name: Category, dtype: int64"
            ]
          },
          "metadata": {
            "tags": []
          },
          "execution_count": 10
        }
      ]
    },
    {
      "cell_type": "markdown",
      "metadata": {
        "id": "cK4yn-Y1Gnw4",
        "colab_type": "text"
      },
      "source": [
        "**Why there's '1.9' in category list**"
      ]
    },
    {
      "cell_type": "code",
      "metadata": {
        "id": "MdxHoU00Gnw5",
        "colab_type": "code",
        "outputId": "89462a08-dd91-452c-f7b0-ccdbf3c322b3",
        "colab": {
          "base_uri": "https://localhost:8080/",
          "height": 80
        }
      },
      "source": [
        "gpstore[gpstore['Category'] == '1.9']"
      ],
      "execution_count": 11,
      "outputs": [
        {
          "output_type": "execute_result",
          "data": {
            "text/html": [
              "<div>\n",
              "<style scoped>\n",
              "    .dataframe tbody tr th:only-of-type {\n",
              "        vertical-align: middle;\n",
              "    }\n",
              "\n",
              "    .dataframe tbody tr th {\n",
              "        vertical-align: top;\n",
              "    }\n",
              "\n",
              "    .dataframe thead th {\n",
              "        text-align: right;\n",
              "    }\n",
              "</style>\n",
              "<table border=\"1\" class=\"dataframe\">\n",
              "  <thead>\n",
              "    <tr style=\"text-align: right;\">\n",
              "      <th></th>\n",
              "      <th>App</th>\n",
              "      <th>Category</th>\n",
              "      <th>Rating</th>\n",
              "      <th>Reviews</th>\n",
              "      <th>Size</th>\n",
              "      <th>Installs</th>\n",
              "      <th>Type</th>\n",
              "      <th>Price</th>\n",
              "      <th>Content Rating</th>\n",
              "      <th>Genres</th>\n",
              "      <th>Last Updated</th>\n",
              "      <th>Current Ver</th>\n",
              "      <th>Android Ver</th>\n",
              "    </tr>\n",
              "  </thead>\n",
              "  <tbody>\n",
              "    <tr>\n",
              "      <th>10472</th>\n",
              "      <td>Life Made WI-Fi Touchscreen Photo Frame</td>\n",
              "      <td>1.9</td>\n",
              "      <td>19.0</td>\n",
              "      <td>3.0M</td>\n",
              "      <td>1,000+</td>\n",
              "      <td>Free</td>\n",
              "      <td>0</td>\n",
              "      <td>Everyone</td>\n",
              "      <td>NaN</td>\n",
              "      <td>February 11, 2018</td>\n",
              "      <td>1.0.19</td>\n",
              "      <td>4.0 and up</td>\n",
              "      <td>NaN</td>\n",
              "    </tr>\n",
              "  </tbody>\n",
              "</table>\n",
              "</div>"
            ],
            "text/plain": [
              "                                           App Category  ...  Current Ver Android Ver\n",
              "10472  Life Made WI-Fi Touchscreen Photo Frame      1.9  ...   4.0 and up         NaN\n",
              "\n",
              "[1 rows x 13 columns]"
            ]
          },
          "metadata": {
            "tags": []
          },
          "execution_count": 11
        }
      ]
    },
    {
      "cell_type": "markdown",
      "metadata": {
        "id": "vnzXNslSGnw9",
        "colab_type": "text"
      },
      "source": [
        "Look like all the columns of this row has been shifted. Anyway this row is not reliable, we prefer to dropping it to fixing it"
      ]
    },
    {
      "cell_type": "code",
      "metadata": {
        "id": "B6dftaOAGnxA",
        "colab_type": "code",
        "outputId": "17c564e9-f8db-4e63-976b-8e1215f39c81",
        "colab": {
          "base_uri": "https://localhost:8080/",
          "height": 49
        }
      },
      "source": [
        "gpstore = gpstore[gpstore['Category'] != '1.9']\n",
        "gpstore[gpstore['Category'] == '1.9']"
      ],
      "execution_count": 12,
      "outputs": [
        {
          "output_type": "execute_result",
          "data": {
            "text/html": [
              "<div>\n",
              "<style scoped>\n",
              "    .dataframe tbody tr th:only-of-type {\n",
              "        vertical-align: middle;\n",
              "    }\n",
              "\n",
              "    .dataframe tbody tr th {\n",
              "        vertical-align: top;\n",
              "    }\n",
              "\n",
              "    .dataframe thead th {\n",
              "        text-align: right;\n",
              "    }\n",
              "</style>\n",
              "<table border=\"1\" class=\"dataframe\">\n",
              "  <thead>\n",
              "    <tr style=\"text-align: right;\">\n",
              "      <th></th>\n",
              "      <th>App</th>\n",
              "      <th>Category</th>\n",
              "      <th>Rating</th>\n",
              "      <th>Reviews</th>\n",
              "      <th>Size</th>\n",
              "      <th>Installs</th>\n",
              "      <th>Type</th>\n",
              "      <th>Price</th>\n",
              "      <th>Content Rating</th>\n",
              "      <th>Genres</th>\n",
              "      <th>Last Updated</th>\n",
              "      <th>Current Ver</th>\n",
              "      <th>Android Ver</th>\n",
              "    </tr>\n",
              "  </thead>\n",
              "  <tbody>\n",
              "  </tbody>\n",
              "</table>\n",
              "</div>"
            ],
            "text/plain": [
              "Empty DataFrame\n",
              "Columns: [App, Category, Rating, Reviews, Size, Installs, Type, Price, Content Rating, Genres, Last Updated, Current Ver, Android Ver]\n",
              "Index: []"
            ]
          },
          "metadata": {
            "tags": []
          },
          "execution_count": 12
        }
      ]
    },
    {
      "cell_type": "code",
      "metadata": {
        "id": "lBDDyxBKxoqM",
        "colab_type": "code",
        "outputId": "70f419a1-39f6-4ac9-d1cc-ca500148f6b9",
        "colab": {
          "base_uri": "https://localhost:8080/",
          "height": 341
        }
      },
      "source": [
        "# check our dataframe again\n",
        "gpstore.info()"
      ],
      "execution_count": 13,
      "outputs": [
        {
          "output_type": "stream",
          "text": [
            "<class 'pandas.core.frame.DataFrame'>\n",
            "Int64Index: 8997 entries, 3304 to 6834\n",
            "Data columns (total 13 columns):\n",
            "App               8997 non-null object\n",
            "Category          8997 non-null object\n",
            "Rating            7541 non-null float64\n",
            "Reviews           8997 non-null object\n",
            "Size              8997 non-null object\n",
            "Installs          8997 non-null object\n",
            "Type              8996 non-null object\n",
            "Price             8997 non-null object\n",
            "Content Rating    8997 non-null object\n",
            "Genres            8997 non-null object\n",
            "Last Updated      8997 non-null object\n",
            "Current Ver       8989 non-null object\n",
            "Android Ver       8995 non-null object\n",
            "dtypes: float64(1), object(12)\n",
            "memory usage: 984.0+ KB\n"
          ],
          "name": "stdout"
        }
      ]
    },
    {
      "cell_type": "markdown",
      "metadata": {
        "id": "JmeYo9F_OzqU",
        "colab_type": "text"
      },
      "source": [
        "#### Rating"
      ]
    },
    {
      "cell_type": "code",
      "metadata": {
        "id": "2q8U94RxO4PT",
        "colab_type": "code",
        "outputId": "137ab667-6ba2-4e17-f4ee-1fbaedc9e053",
        "colab": {
          "base_uri": "https://localhost:8080/",
          "height": 755
        }
      },
      "source": [
        "gpstore['Rating'].value_counts(dropna=False)"
      ],
      "execution_count": 14,
      "outputs": [
        {
          "output_type": "execute_result",
          "data": {
            "text/plain": [
              "NaN    1456\n",
              "4.3     799\n",
              "4.4     787\n",
              "4.5     749\n",
              "4.2     728\n",
              "4.6     606\n",
              "4.1     569\n",
              "4.0     479\n",
              "4.7     414\n",
              "3.9     342\n",
              "3.8     275\n",
              "5.0     268\n",
              "3.7     216\n",
              "4.8     210\n",
              "3.6     160\n",
              "3.5     149\n",
              "3.4     124\n",
              "3.3      98\n",
              "4.9      85\n",
              "3.0      79\n",
              "3.1      69\n",
              "3.2      62\n",
              "2.9      45\n",
              "2.8      39\n",
              "2.6      23\n",
              "2.7      21\n",
              "2.3      20\n",
              "2.5      19\n",
              "2.4      19\n",
              "1.0      16\n",
              "2.2      14\n",
              "2.0      12\n",
              "1.9      10\n",
              "1.8       8\n",
              "2.1       8\n",
              "1.7       8\n",
              "1.6       4\n",
              "1.5       3\n",
              "1.4       3\n",
              "1.2       1\n",
              "Name: Rating, dtype: int64"
            ]
          },
          "metadata": {
            "tags": []
          },
          "execution_count": 14
        }
      ]
    },
    {
      "cell_type": "markdown",
      "metadata": {
        "id": "IVnbwZIePBcr",
        "colab_type": "text"
      },
      "source": [
        "There are so many NaN values in Rating column, so we will fill them by mean of the non-NaN values"
      ]
    },
    {
      "cell_type": "code",
      "metadata": {
        "id": "ftLJ5pQsPAaO",
        "colab_type": "code",
        "outputId": "8eefa8fe-a638-4292-904c-fd81abf14ab2",
        "colab": {
          "base_uri": "https://localhost:8080/",
          "height": 49
        }
      },
      "source": [
        "gpstore['Rating'].fillna(round(gpstore[gpstore['Rating'].isnull() == False]['Rating'].mean(), 1), inplace = True) \n",
        "gpstore[gpstore['Rating'].isnull()]"
      ],
      "execution_count": 15,
      "outputs": [
        {
          "output_type": "execute_result",
          "data": {
            "text/html": [
              "<div>\n",
              "<style scoped>\n",
              "    .dataframe tbody tr th:only-of-type {\n",
              "        vertical-align: middle;\n",
              "    }\n",
              "\n",
              "    .dataframe tbody tr th {\n",
              "        vertical-align: top;\n",
              "    }\n",
              "\n",
              "    .dataframe thead th {\n",
              "        text-align: right;\n",
              "    }\n",
              "</style>\n",
              "<table border=\"1\" class=\"dataframe\">\n",
              "  <thead>\n",
              "    <tr style=\"text-align: right;\">\n",
              "      <th></th>\n",
              "      <th>App</th>\n",
              "      <th>Category</th>\n",
              "      <th>Rating</th>\n",
              "      <th>Reviews</th>\n",
              "      <th>Size</th>\n",
              "      <th>Installs</th>\n",
              "      <th>Type</th>\n",
              "      <th>Price</th>\n",
              "      <th>Content Rating</th>\n",
              "      <th>Genres</th>\n",
              "      <th>Last Updated</th>\n",
              "      <th>Current Ver</th>\n",
              "      <th>Android Ver</th>\n",
              "    </tr>\n",
              "  </thead>\n",
              "  <tbody>\n",
              "  </tbody>\n",
              "</table>\n",
              "</div>"
            ],
            "text/plain": [
              "Empty DataFrame\n",
              "Columns: [App, Category, Rating, Reviews, Size, Installs, Type, Price, Content Rating, Genres, Last Updated, Current Ver, Android Ver]\n",
              "Index: []"
            ]
          },
          "metadata": {
            "tags": []
          },
          "execution_count": 15
        }
      ]
    },
    {
      "cell_type": "markdown",
      "metadata": {
        "id": "b1-evFJroQDd",
        "colab_type": "text"
      },
      "source": [
        "#### Price"
      ]
    },
    {
      "cell_type": "code",
      "metadata": {
        "id": "Bj9vGXAROMtp",
        "colab_type": "code",
        "outputId": "10a112e8-7e71-497a-bdc4-ebb916edf6e2",
        "colab": {
          "base_uri": "https://localhost:8080/",
          "height": 1000
        }
      },
      "source": [
        "gpstore['Price'].value_counts(dropna=False)"
      ],
      "execution_count": 16,
      "outputs": [
        {
          "output_type": "execute_result",
          "data": {
            "text/plain": [
              "0          8278\n",
              "$0.99       142\n",
              "$2.99       119\n",
              "$1.99        73\n",
              "$4.99        68\n",
              "$3.99        54\n",
              "$1.49        46\n",
              "$5.99        25\n",
              "$2.49        24\n",
              "$9.99        17\n",
              "$399.99      12\n",
              "$6.99         9\n",
              "$4.49         9\n",
              "$3.49         7\n",
              "$7.99         7\n",
              "$14.99        7\n",
              "$6.49         5\n",
              "$8.99         5\n",
              "$5.49         4\n",
              "$19.99        4\n",
              "$2.00         3\n",
              "$1.00         3\n",
              "$12.99        3\n",
              "$29.99        3\n",
              "$39.99        2\n",
              "$17.99        2\n",
              "$1.70         2\n",
              "$13.99        2\n",
              "$10.99        2\n",
              "$8.49         2\n",
              "           ... \n",
              "$1.97         1\n",
              "$4.85         1\n",
              "$154.99       1\n",
              "$1.96         1\n",
              "$28.99        1\n",
              "$2.60         1\n",
              "$3.28         1\n",
              "$30.99        1\n",
              "$4.29         1\n",
              "$1.50         1\n",
              "$14.00        1\n",
              "$16.99        1\n",
              "$3.04         1\n",
              "$46.99        1\n",
              "$3.88         1\n",
              "$15.46        1\n",
              "$2.56         1\n",
              "$11.99        1\n",
              "$1.20         1\n",
              "$4.80         1\n",
              "$400.00       1\n",
              "$5.00         1\n",
              "$2.50         1\n",
              "$74.99        1\n",
              "$109.99       1\n",
              "$299.99       1\n",
              "$3.02         1\n",
              "$3.90         1\n",
              "$389.99       1\n",
              "$89.99        1\n",
              "Name: Price, Length: 87, dtype: int64"
            ]
          },
          "metadata": {
            "tags": []
          },
          "execution_count": 16
        }
      ]
    },
    {
      "cell_type": "code",
      "metadata": {
        "id": "256zyjkepht4",
        "colab_type": "code",
        "outputId": "73d27579-eda4-4355-bbbd-08a261b8e7a7",
        "colab": {
          "base_uri": "https://localhost:8080/",
          "height": 35
        }
      },
      "source": [
        "# Price column's dtype is dtype('O') which is Python type string\n",
        "gpstore.Price.dtype"
      ],
      "execution_count": 17,
      "outputs": [
        {
          "output_type": "execute_result",
          "data": {
            "text/plain": [
              "dtype('O')"
            ]
          },
          "metadata": {
            "tags": []
          },
          "execution_count": 17
        }
      ]
    },
    {
      "cell_type": "code",
      "metadata": {
        "id": "yXt1u8o8oXUf",
        "colab_type": "code",
        "outputId": "c8b40d73-0d6c-466d-d390-89ff2ffcffa0",
        "colab": {
          "base_uri": "https://localhost:8080/",
          "height": 125
        }
      },
      "source": [
        "gpstore[gpstore['Type']=='Paid']['Price'].head() # e.g $4.99 is a string"
      ],
      "execution_count": 18,
      "outputs": [
        {
          "output_type": "execute_result",
          "data": {
            "text/plain": [
              "4166    $3.88\n",
              "9478    $2.99\n",
              "7466    $0.99\n",
              "7792    $3.49\n",
              "2293    $7.99\n",
              "Name: Price, dtype: object"
            ]
          },
          "metadata": {
            "tags": []
          },
          "execution_count": 18
        }
      ]
    },
    {
      "cell_type": "code",
      "metadata": {
        "id": "xqrgLVrOoz-K",
        "colab_type": "code",
        "outputId": "e56986e5-e795-4832-dea4-a77c0e0e9450",
        "colab": {
          "base_uri": "https://localhost:8080/",
          "height": 35
        }
      },
      "source": [
        "# Price in $ is the column having numeric values of Price column\n",
        "gpstore['Price in $'] = gpstore['Price'].str.lstrip('$').apply(lambda str_f: float(str_f))\n",
        "gpstore['Price in $'].dtype"
      ],
      "execution_count": 19,
      "outputs": [
        {
          "output_type": "execute_result",
          "data": {
            "text/plain": [
              "dtype('float64')"
            ]
          },
          "metadata": {
            "tags": []
          },
          "execution_count": 19
        }
      ]
    },
    {
      "cell_type": "code",
      "metadata": {
        "colab_type": "code",
        "outputId": "01648a75-3713-4ec0-f1b6-78a36ba80477",
        "id": "WvYfty7Fxzrt",
        "colab": {
          "base_uri": "https://localhost:8080/",
          "height": 359
        }
      },
      "source": [
        "# check our dataframe again\n",
        "gpstore.info()"
      ],
      "execution_count": 20,
      "outputs": [
        {
          "output_type": "stream",
          "text": [
            "<class 'pandas.core.frame.DataFrame'>\n",
            "Int64Index: 8997 entries, 3304 to 6834\n",
            "Data columns (total 14 columns):\n",
            "App               8997 non-null object\n",
            "Category          8997 non-null object\n",
            "Rating            8997 non-null float64\n",
            "Reviews           8997 non-null object\n",
            "Size              8997 non-null object\n",
            "Installs          8997 non-null object\n",
            "Type              8996 non-null object\n",
            "Price             8997 non-null object\n",
            "Content Rating    8997 non-null object\n",
            "Genres            8997 non-null object\n",
            "Last Updated      8997 non-null object\n",
            "Current Ver       8989 non-null object\n",
            "Android Ver       8995 non-null object\n",
            "Price in $        8997 non-null float64\n",
            "dtypes: float64(2), object(12)\n",
            "memory usage: 1.0+ MB\n"
          ],
          "name": "stdout"
        }
      ]
    },
    {
      "cell_type": "markdown",
      "metadata": {
        "id": "e1DJxVdBGnxE",
        "colab_type": "text"
      },
      "source": [
        "#### Type"
      ]
    },
    {
      "cell_type": "code",
      "metadata": {
        "id": "nQj0FQngGnxF",
        "colab_type": "code",
        "outputId": "a7ca0300-d42b-4632-e5b8-5b5521d03619",
        "colab": {
          "base_uri": "https://localhost:8080/",
          "height": 89
        }
      },
      "source": [
        "gpstore['Type'].value_counts(dropna=False)"
      ],
      "execution_count": 21,
      "outputs": [
        {
          "output_type": "execute_result",
          "data": {
            "text/plain": [
              "Free    8277\n",
              "Paid     719\n",
              "NaN        1\n",
              "Name: Type, dtype: int64"
            ]
          },
          "metadata": {
            "tags": []
          },
          "execution_count": 21
        }
      ]
    },
    {
      "cell_type": "code",
      "metadata": {
        "id": "LHm3uTmJn7fE",
        "colab_type": "code",
        "outputId": "69871643-9fd6-46e3-9bcd-a9e9f65a0c32",
        "colab": {
          "base_uri": "https://localhost:8080/",
          "height": 80
        }
      },
      "source": [
        "#Type columns has 1 null\n",
        "gpstore[gpstore['Type'].isnull()]"
      ],
      "execution_count": 22,
      "outputs": [
        {
          "output_type": "execute_result",
          "data": {
            "text/html": [
              "<div>\n",
              "<style scoped>\n",
              "    .dataframe tbody tr th:only-of-type {\n",
              "        vertical-align: middle;\n",
              "    }\n",
              "\n",
              "    .dataframe tbody tr th {\n",
              "        vertical-align: top;\n",
              "    }\n",
              "\n",
              "    .dataframe thead th {\n",
              "        text-align: right;\n",
              "    }\n",
              "</style>\n",
              "<table border=\"1\" class=\"dataframe\">\n",
              "  <thead>\n",
              "    <tr style=\"text-align: right;\">\n",
              "      <th></th>\n",
              "      <th>App</th>\n",
              "      <th>Category</th>\n",
              "      <th>Rating</th>\n",
              "      <th>Reviews</th>\n",
              "      <th>Size</th>\n",
              "      <th>Installs</th>\n",
              "      <th>Type</th>\n",
              "      <th>Price</th>\n",
              "      <th>Content Rating</th>\n",
              "      <th>Genres</th>\n",
              "      <th>Last Updated</th>\n",
              "      <th>Current Ver</th>\n",
              "      <th>Android Ver</th>\n",
              "      <th>Price in $</th>\n",
              "    </tr>\n",
              "  </thead>\n",
              "  <tbody>\n",
              "    <tr>\n",
              "      <th>9148</th>\n",
              "      <td>Command &amp; Conquer: Rivals</td>\n",
              "      <td>FAMILY</td>\n",
              "      <td>4.2</td>\n",
              "      <td>0</td>\n",
              "      <td>Varies with device</td>\n",
              "      <td>0</td>\n",
              "      <td>NaN</td>\n",
              "      <td>0</td>\n",
              "      <td>Everyone 10+</td>\n",
              "      <td>Strategy</td>\n",
              "      <td>June 28, 2018</td>\n",
              "      <td>Varies with device</td>\n",
              "      <td>Varies with device</td>\n",
              "      <td>0.0</td>\n",
              "    </tr>\n",
              "  </tbody>\n",
              "</table>\n",
              "</div>"
            ],
            "text/plain": [
              "                            App Category  ...         Android Ver Price in $\n",
              "9148  Command & Conquer: Rivals   FAMILY  ...  Varies with device        0.0\n",
              "\n",
              "[1 rows x 14 columns]"
            ]
          },
          "metadata": {
            "tags": []
          },
          "execution_count": 22
        }
      ]
    },
    {
      "cell_type": "code",
      "metadata": {
        "id": "MKA_pKj2rBik",
        "colab_type": "code",
        "outputId": "12d6e91f-11bb-47ed-8dd4-ee934a73f9a9",
        "colab": {
          "base_uri": "https://localhost:8080/",
          "height": 49
        }
      },
      "source": [
        "# Exclude that row\n",
        "gpstore.dropna(subset=['Type'], inplace=True)\n",
        "gpstore[gpstore['Type'].isnull()]"
      ],
      "execution_count": 23,
      "outputs": [
        {
          "output_type": "execute_result",
          "data": {
            "text/html": [
              "<div>\n",
              "<style scoped>\n",
              "    .dataframe tbody tr th:only-of-type {\n",
              "        vertical-align: middle;\n",
              "    }\n",
              "\n",
              "    .dataframe tbody tr th {\n",
              "        vertical-align: top;\n",
              "    }\n",
              "\n",
              "    .dataframe thead th {\n",
              "        text-align: right;\n",
              "    }\n",
              "</style>\n",
              "<table border=\"1\" class=\"dataframe\">\n",
              "  <thead>\n",
              "    <tr style=\"text-align: right;\">\n",
              "      <th></th>\n",
              "      <th>App</th>\n",
              "      <th>Category</th>\n",
              "      <th>Rating</th>\n",
              "      <th>Reviews</th>\n",
              "      <th>Size</th>\n",
              "      <th>Installs</th>\n",
              "      <th>Type</th>\n",
              "      <th>Price</th>\n",
              "      <th>Content Rating</th>\n",
              "      <th>Genres</th>\n",
              "      <th>Last Updated</th>\n",
              "      <th>Current Ver</th>\n",
              "      <th>Android Ver</th>\n",
              "      <th>Price in $</th>\n",
              "    </tr>\n",
              "  </thead>\n",
              "  <tbody>\n",
              "  </tbody>\n",
              "</table>\n",
              "</div>"
            ],
            "text/plain": [
              "Empty DataFrame\n",
              "Columns: [App, Category, Rating, Reviews, Size, Installs, Type, Price, Content Rating, Genres, Last Updated, Current Ver, Android Ver, Price in $]\n",
              "Index: []"
            ]
          },
          "metadata": {
            "tags": []
          },
          "execution_count": 23
        }
      ]
    },
    {
      "cell_type": "code",
      "metadata": {
        "id": "RBIOBAYJJXJq",
        "colab_type": "code",
        "outputId": "49c0f5b6-46cd-47c0-851b-763a488fe786",
        "colab": {
          "base_uri": "https://localhost:8080/",
          "height": 49
        }
      },
      "source": [
        "# check if there are any row that Price is 0 but Type is not Free\n",
        "gpstore[(gpstore['Price'] == '0') & (gpstore['Type'] != 'Free')]"
      ],
      "execution_count": 24,
      "outputs": [
        {
          "output_type": "execute_result",
          "data": {
            "text/html": [
              "<div>\n",
              "<style scoped>\n",
              "    .dataframe tbody tr th:only-of-type {\n",
              "        vertical-align: middle;\n",
              "    }\n",
              "\n",
              "    .dataframe tbody tr th {\n",
              "        vertical-align: top;\n",
              "    }\n",
              "\n",
              "    .dataframe thead th {\n",
              "        text-align: right;\n",
              "    }\n",
              "</style>\n",
              "<table border=\"1\" class=\"dataframe\">\n",
              "  <thead>\n",
              "    <tr style=\"text-align: right;\">\n",
              "      <th></th>\n",
              "      <th>App</th>\n",
              "      <th>Category</th>\n",
              "      <th>Rating</th>\n",
              "      <th>Reviews</th>\n",
              "      <th>Size</th>\n",
              "      <th>Installs</th>\n",
              "      <th>Type</th>\n",
              "      <th>Price</th>\n",
              "      <th>Content Rating</th>\n",
              "      <th>Genres</th>\n",
              "      <th>Last Updated</th>\n",
              "      <th>Current Ver</th>\n",
              "      <th>Android Ver</th>\n",
              "      <th>Price in $</th>\n",
              "    </tr>\n",
              "  </thead>\n",
              "  <tbody>\n",
              "  </tbody>\n",
              "</table>\n",
              "</div>"
            ],
            "text/plain": [
              "Empty DataFrame\n",
              "Columns: [App, Category, Rating, Reviews, Size, Installs, Type, Price, Content Rating, Genres, Last Updated, Current Ver, Android Ver, Price in $]\n",
              "Index: []"
            ]
          },
          "metadata": {
            "tags": []
          },
          "execution_count": 24
        }
      ]
    },
    {
      "cell_type": "code",
      "metadata": {
        "id": "K9oRCxPPMUOU",
        "colab_type": "code",
        "outputId": "931e4abc-6221-4086-e189-b1786e756e1f",
        "colab": {
          "base_uri": "https://localhost:8080/",
          "height": 49
        }
      },
      "source": [
        "# check if there are any row that Price is greater than 0 but Type is not Paid\n",
        "gpstore[(gpstore['Price in $'] > 0) & (gpstore['Type'] != 'Paid')]"
      ],
      "execution_count": 25,
      "outputs": [
        {
          "output_type": "execute_result",
          "data": {
            "text/html": [
              "<div>\n",
              "<style scoped>\n",
              "    .dataframe tbody tr th:only-of-type {\n",
              "        vertical-align: middle;\n",
              "    }\n",
              "\n",
              "    .dataframe tbody tr th {\n",
              "        vertical-align: top;\n",
              "    }\n",
              "\n",
              "    .dataframe thead th {\n",
              "        text-align: right;\n",
              "    }\n",
              "</style>\n",
              "<table border=\"1\" class=\"dataframe\">\n",
              "  <thead>\n",
              "    <tr style=\"text-align: right;\">\n",
              "      <th></th>\n",
              "      <th>App</th>\n",
              "      <th>Category</th>\n",
              "      <th>Rating</th>\n",
              "      <th>Reviews</th>\n",
              "      <th>Size</th>\n",
              "      <th>Installs</th>\n",
              "      <th>Type</th>\n",
              "      <th>Price</th>\n",
              "      <th>Content Rating</th>\n",
              "      <th>Genres</th>\n",
              "      <th>Last Updated</th>\n",
              "      <th>Current Ver</th>\n",
              "      <th>Android Ver</th>\n",
              "      <th>Price in $</th>\n",
              "    </tr>\n",
              "  </thead>\n",
              "  <tbody>\n",
              "  </tbody>\n",
              "</table>\n",
              "</div>"
            ],
            "text/plain": [
              "Empty DataFrame\n",
              "Columns: [App, Category, Rating, Reviews, Size, Installs, Type, Price, Content Rating, Genres, Last Updated, Current Ver, Android Ver, Price in $]\n",
              "Index: []"
            ]
          },
          "metadata": {
            "tags": []
          },
          "execution_count": 25
        }
      ]
    },
    {
      "cell_type": "code",
      "metadata": {
        "colab_type": "code",
        "outputId": "21650951-3b17-4b90-f386-39a544b58e68",
        "id": "qR-7D_cBx3IM",
        "colab": {
          "base_uri": "https://localhost:8080/",
          "height": 359
        }
      },
      "source": [
        "# check our dataframe again\n",
        "gpstore.info()"
      ],
      "execution_count": 26,
      "outputs": [
        {
          "output_type": "stream",
          "text": [
            "<class 'pandas.core.frame.DataFrame'>\n",
            "Int64Index: 8996 entries, 3304 to 6834\n",
            "Data columns (total 14 columns):\n",
            "App               8996 non-null object\n",
            "Category          8996 non-null object\n",
            "Rating            8996 non-null float64\n",
            "Reviews           8996 non-null object\n",
            "Size              8996 non-null object\n",
            "Installs          8996 non-null object\n",
            "Type              8996 non-null object\n",
            "Price             8996 non-null object\n",
            "Content Rating    8996 non-null object\n",
            "Genres            8996 non-null object\n",
            "Last Updated      8996 non-null object\n",
            "Current Ver       8988 non-null object\n",
            "Android Ver       8994 non-null object\n",
            "Price in $        8996 non-null float64\n",
            "dtypes: float64(2), object(12)\n",
            "memory usage: 1.0+ MB\n"
          ],
          "name": "stdout"
        }
      ]
    },
    {
      "cell_type": "markdown",
      "metadata": {
        "id": "UIn_APCOn-w5",
        "colab_type": "text"
      },
      "source": [
        "#### Content Rating"
      ]
    },
    {
      "cell_type": "code",
      "metadata": {
        "id": "vfBO6RTFGnxJ",
        "colab_type": "code",
        "outputId": "c723e161-40af-4b91-8e91-3ed00eab44af",
        "colab": {
          "base_uri": "https://localhost:8080/",
          "height": 0
        }
      },
      "source": [
        "gpstore['Content Rating'].value_counts(dropna=False)"
      ],
      "execution_count": 27,
      "outputs": [
        {
          "output_type": "execute_result",
          "data": {
            "text/plain": [
              "Everyone           7417\n",
              "Teen                962\n",
              "Mature 17+          316\n",
              "Everyone 10+        296\n",
              "Adults only 18+       3\n",
              "Unrated               2\n",
              "Name: Content Rating, dtype: int64"
            ]
          },
          "metadata": {
            "tags": []
          },
          "execution_count": 27
        }
      ]
    },
    {
      "cell_type": "code",
      "metadata": {
        "id": "LMs9dWwOsqdw",
        "colab_type": "code",
        "outputId": "1683b4e9-02e0-4e50-e80b-05b8a6567056",
        "colab": {
          "base_uri": "https://localhost:8080/",
          "height": 0
        }
      },
      "source": [
        "#Unrated can be considered as NaN value and there are only 2 row having Unrated value in Content Rating column, so we drop them =))\n",
        "gpstore = gpstore[gpstore['Content Rating'] != 'Unrated']\n",
        "gpstore['Content Rating'].value_counts(dropna=False)"
      ],
      "execution_count": 28,
      "outputs": [
        {
          "output_type": "execute_result",
          "data": {
            "text/plain": [
              "Everyone           7417\n",
              "Teen                962\n",
              "Mature 17+          316\n",
              "Everyone 10+        296\n",
              "Adults only 18+       3\n",
              "Name: Content Rating, dtype: int64"
            ]
          },
          "metadata": {
            "tags": []
          },
          "execution_count": 28
        }
      ]
    },
    {
      "cell_type": "code",
      "metadata": {
        "colab_type": "code",
        "outputId": "5dca27f7-e242-409e-9b02-069986914fb9",
        "id": "_E1fzClcx4kK",
        "colab": {
          "base_uri": "https://localhost:8080/",
          "height": 0
        }
      },
      "source": [
        "# check our dataframe again\n",
        "gpstore.info()"
      ],
      "execution_count": 29,
      "outputs": [
        {
          "output_type": "stream",
          "text": [
            "<class 'pandas.core.frame.DataFrame'>\n",
            "Int64Index: 8994 entries, 3304 to 6834\n",
            "Data columns (total 14 columns):\n",
            "App               8994 non-null object\n",
            "Category          8994 non-null object\n",
            "Rating            8994 non-null float64\n",
            "Reviews           8994 non-null object\n",
            "Size              8994 non-null object\n",
            "Installs          8994 non-null object\n",
            "Type              8994 non-null object\n",
            "Price             8994 non-null object\n",
            "Content Rating    8994 non-null object\n",
            "Genres            8994 non-null object\n",
            "Last Updated      8994 non-null object\n",
            "Current Ver       8986 non-null object\n",
            "Android Ver       8992 non-null object\n",
            "Price in $        8994 non-null float64\n",
            "dtypes: float64(2), object(12)\n",
            "memory usage: 1.0+ MB\n"
          ],
          "name": "stdout"
        }
      ]
    },
    {
      "cell_type": "markdown",
      "metadata": {
        "colab_type": "text",
        "id": "4yJ7GA5n17xz"
      },
      "source": [
        "#### Reviews / Genres / Last Updated\n",
        "These columns don't seem to need  cleaning"
      ]
    },
    {
      "cell_type": "code",
      "metadata": {
        "colab_type": "code",
        "outputId": "041d4966-adb0-4c47-bf46-ab32ca0dbbf8",
        "id": "H2ZqjWOv17x4",
        "colab": {
          "base_uri": "https://localhost:8080/",
          "height": 0
        }
      },
      "source": [
        "gpstore['Reviews'].value_counts(dropna=False)"
      ],
      "execution_count": 30,
      "outputs": [
        {
          "output_type": "execute_result",
          "data": {
            "text/plain": [
              "0          589\n",
              "1          271\n",
              "2          212\n",
              "3          165\n",
              "4          137\n",
              "5          108\n",
              "6           91\n",
              "7           87\n",
              "8           70\n",
              "9           63\n",
              "10          61\n",
              "12          56\n",
              "11          52\n",
              "13          49\n",
              "17          46\n",
              "19          41\n",
              "14          41\n",
              "20          35\n",
              "16          35\n",
              "21          33\n",
              "30          30\n",
              "25          30\n",
              "24          30\n",
              "15          29\n",
              "38          29\n",
              "18          27\n",
              "22          26\n",
              "23          25\n",
              "27          25\n",
              "33          24\n",
              "          ... \n",
              "216741       1\n",
              "29270        1\n",
              "226541       1\n",
              "940          1\n",
              "697939       1\n",
              "16073        1\n",
              "36969        1\n",
              "10054        1\n",
              "5637451      1\n",
              "1901         1\n",
              "1343         1\n",
              "1660         1\n",
              "219745       1\n",
              "2520         1\n",
              "23971        1\n",
              "137696       1\n",
              "10944        1\n",
              "2533         1\n",
              "24349        1\n",
              "1519671      1\n",
              "4581         1\n",
              "67071        1\n",
              "186648       1\n",
              "13519        1\n",
              "13950        1\n",
              "811          1\n",
              "23063        1\n",
              "37090        1\n",
              "104583       1\n",
              "50060        1\n",
              "Name: Reviews, Length: 4741, dtype: int64"
            ]
          },
          "metadata": {
            "tags": []
          },
          "execution_count": 30
        }
      ]
    },
    {
      "cell_type": "code",
      "metadata": {
        "colab_type": "code",
        "outputId": "6f4cf514-e377-4986-8d81-4460cccaca95",
        "id": "iQBSHQ-52UaQ",
        "colab": {
          "base_uri": "https://localhost:8080/",
          "height": 0
        }
      },
      "source": [
        "gpstore['Genres'].value_counts(dropna=False)"
      ],
      "execution_count": 31,
      "outputs": [
        {
          "output_type": "execute_result",
          "data": {
            "text/plain": [
              "Tools                                  814\n",
              "Entertainment                          552\n",
              "Education                              499\n",
              "Business                               387\n",
              "Personalization                        363\n",
              "Lifestyle                              356\n",
              "Productivity                           341\n",
              "Medical                                336\n",
              "Finance                                328\n",
              "Sports                                 303\n",
              "Communication                          273\n",
              "Action                                 270\n",
              "Health & Fitness                       247\n",
              "Photography                            244\n",
              "News & Magazines                       234\n",
              "Books & Reference                      213\n",
              "Social                                 200\n",
              "Simulation                             198\n",
              "Travel & Local                         194\n",
              "Arcade                                 168\n",
              "Shopping                               166\n",
              "Casual                                 160\n",
              "Video Players & Editors                154\n",
              "Maps & Navigation                      125\n",
              "Dating                                 117\n",
              "Puzzle                                 111\n",
              "Role Playing                           107\n",
              "Food & Drink                            98\n",
              "Strategy                                96\n",
              "Racing                                  86\n",
              "                                      ... \n",
              "Books & Reference;Education              2\n",
              "Art & Design;Pretend Play                2\n",
              "Puzzle;Action & Adventure                2\n",
              "Role Playing;Action & Adventure          2\n",
              "Strategy;Action & Adventure              2\n",
              "Simulation;Pretend Play                  2\n",
              "Puzzle;Creativity                        2\n",
              "Entertainment;Education                  1\n",
              "Board;Pretend Play                       1\n",
              "Travel & Local;Action & Adventure        1\n",
              "Lifestyle;Education                      1\n",
              "Lifestyle;Pretend Play                   1\n",
              "Communication;Creativity                 1\n",
              "Books & Reference;Creativity             1\n",
              "Racing;Pretend Play                      1\n",
              "Arcade;Pretend Play                      1\n",
              "Role Playing;Brain Games                 1\n",
              "Health & Fitness;Education               1\n",
              "Strategy;Education                       1\n",
              "Role Playing;Education                   1\n",
              "Trivia;Education                         1\n",
              "Health & Fitness;Action & Adventure      1\n",
              "Adventure;Brain Games                    1\n",
              "Card;Brain Games                         1\n",
              "Strategy;Creativity                      1\n",
              "Parenting;Brain Games                    1\n",
              "Music & Audio;Music & Video              1\n",
              "Tools;Education                          1\n",
              "Puzzle;Education                         1\n",
              "Comics;Creativity                        1\n",
              "Name: Genres, Length: 117, dtype: int64"
            ]
          },
          "metadata": {
            "tags": []
          },
          "execution_count": 31
        }
      ]
    },
    {
      "cell_type": "code",
      "metadata": {
        "colab_type": "code",
        "outputId": "d79c3890-495a-470c-aafe-d135b658f634",
        "id": "CNg2iiST2XH3",
        "colab": {
          "base_uri": "https://localhost:8080/",
          "height": 0
        }
      },
      "source": [
        "gpstore['Last Updated'].value_counts(dropna=False)"
      ],
      "execution_count": 32,
      "outputs": [
        {
          "output_type": "execute_result",
          "data": {
            "text/plain": [
              "August 3, 2018       217\n",
              "August 2, 2018       187\n",
              "July 31, 2018        163\n",
              "August 1, 2018       162\n",
              "July 30, 2018        135\n",
              "July 26, 2018        123\n",
              "July 25, 2018        103\n",
              "July 27, 2018        102\n",
              "July 24, 2018        101\n",
              "July 23, 2018        101\n",
              "July 19, 2018         88\n",
              "July 18, 2018         85\n",
              "August 6, 2018        83\n",
              "August 4, 2018        79\n",
              "July 12, 2018         78\n",
              "July 17, 2018         76\n",
              "July 9, 2018          75\n",
              "July 3, 2018          75\n",
              "July 11, 2018         73\n",
              "July 16, 2018         72\n",
              "July 5, 2018          70\n",
              "July 13, 2018         68\n",
              "July 20, 2018         58\n",
              "May 24, 2018          56\n",
              "June 26, 2018         50\n",
              "June 25, 2018         50\n",
              "July 28, 2018         47\n",
              "July 4, 2018          47\n",
              "July 6, 2018          47\n",
              "June 13, 2018         47\n",
              "                    ... \n",
              "November 25, 2013      1\n",
              "February 11, 2013      1\n",
              "June 26, 2011          1\n",
              "October 7, 2013        1\n",
              "August 2, 2014         1\n",
              "June 10, 2015          1\n",
              "January 28, 2014       1\n",
              "August 12, 2015        1\n",
              "January 9, 2015        1\n",
              "October 30, 2016       1\n",
              "January 25, 2015       1\n",
              "March 7, 2014          1\n",
              "July 14, 2016          1\n",
              "May 16, 2015           1\n",
              "January 17, 2014       1\n",
              "October 11, 2015       1\n",
              "December 18, 2013      1\n",
              "March 9, 2014          1\n",
              "June 1, 2012           1\n",
              "May 21, 2010           1\n",
              "March 28, 2016         1\n",
              "March 3, 2016          1\n",
              "August 28, 2016        1\n",
              "February 13, 2017      1\n",
              "April 30, 2014         1\n",
              "February 23, 2016      1\n",
              "March 12, 2016         1\n",
              "May 18, 2014           1\n",
              "October 29, 2014       1\n",
              "June 2, 2016           1\n",
              "Name: Last Updated, Length: 1370, dtype: int64"
            ]
          },
          "metadata": {
            "tags": []
          },
          "execution_count": 32
        }
      ]
    },
    {
      "cell_type": "markdown",
      "metadata": {
        "id": "GgY4sCa1QlVn",
        "colab_type": "text"
      },
      "source": [
        "#### Current Ver\n"
      ]
    },
    {
      "cell_type": "code",
      "metadata": {
        "id": "QVYDCNkEQrxX",
        "colab_type": "code",
        "outputId": "34fa26c0-9fa6-4dbe-8255-310a2c108100",
        "colab": {
          "base_uri": "https://localhost:8080/",
          "height": 0
        }
      },
      "source": [
        "gpstore[gpstore['Current Ver'].isnull()]"
      ],
      "execution_count": 33,
      "outputs": [
        {
          "output_type": "execute_result",
          "data": {
            "text/html": [
              "<div>\n",
              "<style scoped>\n",
              "    .dataframe tbody tr th:only-of-type {\n",
              "        vertical-align: middle;\n",
              "    }\n",
              "\n",
              "    .dataframe tbody tr th {\n",
              "        vertical-align: top;\n",
              "    }\n",
              "\n",
              "    .dataframe thead th {\n",
              "        text-align: right;\n",
              "    }\n",
              "</style>\n",
              "<table border=\"1\" class=\"dataframe\">\n",
              "  <thead>\n",
              "    <tr style=\"text-align: right;\">\n",
              "      <th></th>\n",
              "      <th>App</th>\n",
              "      <th>Category</th>\n",
              "      <th>Rating</th>\n",
              "      <th>Reviews</th>\n",
              "      <th>Size</th>\n",
              "      <th>Installs</th>\n",
              "      <th>Type</th>\n",
              "      <th>Price</th>\n",
              "      <th>Content Rating</th>\n",
              "      <th>Genres</th>\n",
              "      <th>Last Updated</th>\n",
              "      <th>Current Ver</th>\n",
              "      <th>Android Ver</th>\n",
              "      <th>Price in $</th>\n",
              "    </tr>\n",
              "  </thead>\n",
              "  <tbody>\n",
              "    <tr>\n",
              "      <th>7333</th>\n",
              "      <td>Dots puzzle</td>\n",
              "      <td>FAMILY</td>\n",
              "      <td>4.0</td>\n",
              "      <td>179</td>\n",
              "      <td>14M</td>\n",
              "      <td>50,000+</td>\n",
              "      <td>Paid</td>\n",
              "      <td>$0.99</td>\n",
              "      <td>Everyone</td>\n",
              "      <td>Puzzle</td>\n",
              "      <td>April 18, 2018</td>\n",
              "      <td>NaN</td>\n",
              "      <td>4.0 and up</td>\n",
              "      <td>0.99</td>\n",
              "    </tr>\n",
              "    <tr>\n",
              "      <th>7407</th>\n",
              "      <td>Calculate My IQ</td>\n",
              "      <td>FAMILY</td>\n",
              "      <td>4.2</td>\n",
              "      <td>44</td>\n",
              "      <td>7.2M</td>\n",
              "      <td>10,000+</td>\n",
              "      <td>Free</td>\n",
              "      <td>0</td>\n",
              "      <td>Everyone</td>\n",
              "      <td>Entertainment</td>\n",
              "      <td>April 3, 2017</td>\n",
              "      <td>NaN</td>\n",
              "      <td>2.3 and up</td>\n",
              "      <td>0.00</td>\n",
              "    </tr>\n",
              "    <tr>\n",
              "      <th>1553</th>\n",
              "      <td>Market Update Helper</td>\n",
              "      <td>LIBRARIES_AND_DEMO</td>\n",
              "      <td>4.1</td>\n",
              "      <td>20145</td>\n",
              "      <td>11k</td>\n",
              "      <td>1,000,000+</td>\n",
              "      <td>Free</td>\n",
              "      <td>0</td>\n",
              "      <td>Everyone</td>\n",
              "      <td>Libraries &amp; Demo</td>\n",
              "      <td>February 12, 2013</td>\n",
              "      <td>NaN</td>\n",
              "      <td>1.5 and up</td>\n",
              "      <td>0.00</td>\n",
              "    </tr>\n",
              "    <tr>\n",
              "      <th>10342</th>\n",
              "      <td>La Fe de Jesus</td>\n",
              "      <td>BOOKS_AND_REFERENCE</td>\n",
              "      <td>4.2</td>\n",
              "      <td>8</td>\n",
              "      <td>658k</td>\n",
              "      <td>1,000+</td>\n",
              "      <td>Free</td>\n",
              "      <td>0</td>\n",
              "      <td>Everyone</td>\n",
              "      <td>Books &amp; Reference</td>\n",
              "      <td>January 31, 2017</td>\n",
              "      <td>NaN</td>\n",
              "      <td>3.0 and up</td>\n",
              "      <td>0.00</td>\n",
              "    </tr>\n",
              "    <tr>\n",
              "      <th>7730</th>\n",
              "      <td>UFO-CQ</td>\n",
              "      <td>TOOLS</td>\n",
              "      <td>4.2</td>\n",
              "      <td>1</td>\n",
              "      <td>237k</td>\n",
              "      <td>10+</td>\n",
              "      <td>Paid</td>\n",
              "      <td>$0.99</td>\n",
              "      <td>Everyone</td>\n",
              "      <td>Tools</td>\n",
              "      <td>July 4, 2016</td>\n",
              "      <td>NaN</td>\n",
              "      <td>2.0 and up</td>\n",
              "      <td>0.99</td>\n",
              "    </tr>\n",
              "    <tr>\n",
              "      <th>15</th>\n",
              "      <td>Learn To Draw Kawaii Characters</td>\n",
              "      <td>ART_AND_DESIGN</td>\n",
              "      <td>3.2</td>\n",
              "      <td>55</td>\n",
              "      <td>2.7M</td>\n",
              "      <td>5,000+</td>\n",
              "      <td>Free</td>\n",
              "      <td>0</td>\n",
              "      <td>Everyone</td>\n",
              "      <td>Art &amp; Design</td>\n",
              "      <td>June 6, 2018</td>\n",
              "      <td>NaN</td>\n",
              "      <td>4.2 and up</td>\n",
              "      <td>0.00</td>\n",
              "    </tr>\n",
              "    <tr>\n",
              "      <th>6322</th>\n",
              "      <td>Virtual DJ Sound Mixer</td>\n",
              "      <td>TOOLS</td>\n",
              "      <td>4.2</td>\n",
              "      <td>4010</td>\n",
              "      <td>8.7M</td>\n",
              "      <td>500,000+</td>\n",
              "      <td>Free</td>\n",
              "      <td>0</td>\n",
              "      <td>Everyone</td>\n",
              "      <td>Tools</td>\n",
              "      <td>May 10, 2017</td>\n",
              "      <td>NaN</td>\n",
              "      <td>4.0 and up</td>\n",
              "      <td>0.00</td>\n",
              "    </tr>\n",
              "    <tr>\n",
              "      <th>6803</th>\n",
              "      <td>BT Master</td>\n",
              "      <td>FAMILY</td>\n",
              "      <td>4.2</td>\n",
              "      <td>0</td>\n",
              "      <td>222k</td>\n",
              "      <td>100+</td>\n",
              "      <td>Free</td>\n",
              "      <td>0</td>\n",
              "      <td>Everyone</td>\n",
              "      <td>Education</td>\n",
              "      <td>November 6, 2016</td>\n",
              "      <td>NaN</td>\n",
              "      <td>1.6 and up</td>\n",
              "      <td>0.00</td>\n",
              "    </tr>\n",
              "  </tbody>\n",
              "</table>\n",
              "</div>"
            ],
            "text/plain": [
              "                                   App  ... Price in $\n",
              "7333                       Dots puzzle  ...       0.99\n",
              "7407                   Calculate My IQ  ...       0.00\n",
              "1553              Market Update Helper  ...       0.00\n",
              "10342                   La Fe de Jesus  ...       0.00\n",
              "7730                            UFO-CQ  ...       0.99\n",
              "15     Learn To Draw Kawaii Characters  ...       0.00\n",
              "6322            Virtual DJ Sound Mixer  ...       0.00\n",
              "6803                         BT Master  ...       0.00\n",
              "\n",
              "[8 rows x 14 columns]"
            ]
          },
          "metadata": {
            "tags": []
          },
          "execution_count": 33
        }
      ]
    },
    {
      "cell_type": "code",
      "metadata": {
        "id": "etnh1jklRLLB",
        "colab_type": "code",
        "colab": {}
      },
      "source": [
        "# fill NaN value in Current Ver column with 1.0.0\n",
        "gpstore['Current Ver'].fillna('1.0.0', inplace=True)"
      ],
      "execution_count": 0,
      "outputs": []
    },
    {
      "cell_type": "markdown",
      "metadata": {
        "id": "KhUExrbOvhaE",
        "colab_type": "text"
      },
      "source": [
        "#### Android Ver"
      ]
    },
    {
      "cell_type": "code",
      "metadata": {
        "id": "RQ3J04RvGnxR",
        "colab_type": "code",
        "outputId": "4e6024ad-2bed-4aeb-897c-6b2b7c303b3a",
        "colab": {
          "base_uri": "https://localhost:8080/",
          "height": 0
        }
      },
      "source": [
        "gpstore['Android Ver'].value_counts(dropna=False)"
      ],
      "execution_count": 35,
      "outputs": [
        {
          "output_type": "execute_result",
          "data": {
            "text/plain": [
              "4.1 and up            2088\n",
              "4.0.3 and up          1327\n",
              "4.0 and up            1228\n",
              "Varies with device     778\n",
              "4.4 and up             723\n",
              "2.3 and up             607\n",
              "5.0 and up             459\n",
              "4.2 and up             354\n",
              "2.3.3 and up           266\n",
              "2.2 and up             234\n",
              "3.0 and up             222\n",
              "4.3 and up             209\n",
              "2.1 and up             132\n",
              "1.6 and up             116\n",
              "6.0 and up              51\n",
              "7.0 and up              42\n",
              "3.2 and up              36\n",
              "2.0 and up              32\n",
              "5.1 and up              21\n",
              "1.5 and up              20\n",
              "4.4W and up             10\n",
              "3.1 and up              10\n",
              "2.0.1 and up             7\n",
              "8.0 and up               6\n",
              "7.1 and up               3\n",
              "5.0 - 8.0                2\n",
              "1.0 and up               2\n",
              "NaN                      2\n",
              "4.0.3 - 7.1.1            2\n",
              "4.1 - 7.1.1              1\n",
              "2.2 - 7.1.1              1\n",
              "5.0 - 6.0                1\n",
              "7.0 - 7.1.1              1\n",
              "5.0 - 7.1.1              1\n",
              "Name: Android Ver, dtype: int64"
            ]
          },
          "metadata": {
            "tags": []
          },
          "execution_count": 35
        }
      ]
    },
    {
      "cell_type": "code",
      "metadata": {
        "id": "8In_5hGCASuS",
        "colab_type": "code",
        "outputId": "e3bcb243-7046-4852-9d8d-367b197bd8ae",
        "colab": {
          "base_uri": "https://localhost:8080/",
          "height": 0
        }
      },
      "source": [
        "# Drop 2 NaN value\n",
        "gpstore.dropna(subset=['Android Ver'], inplace=True)\n",
        "gpstore[gpstore['Android Ver'].isnull()]"
      ],
      "execution_count": 36,
      "outputs": [
        {
          "output_type": "execute_result",
          "data": {
            "text/html": [
              "<div>\n",
              "<style scoped>\n",
              "    .dataframe tbody tr th:only-of-type {\n",
              "        vertical-align: middle;\n",
              "    }\n",
              "\n",
              "    .dataframe tbody tr th {\n",
              "        vertical-align: top;\n",
              "    }\n",
              "\n",
              "    .dataframe thead th {\n",
              "        text-align: right;\n",
              "    }\n",
              "</style>\n",
              "<table border=\"1\" class=\"dataframe\">\n",
              "  <thead>\n",
              "    <tr style=\"text-align: right;\">\n",
              "      <th></th>\n",
              "      <th>App</th>\n",
              "      <th>Category</th>\n",
              "      <th>Rating</th>\n",
              "      <th>Reviews</th>\n",
              "      <th>Size</th>\n",
              "      <th>Installs</th>\n",
              "      <th>Type</th>\n",
              "      <th>Price</th>\n",
              "      <th>Content Rating</th>\n",
              "      <th>Genres</th>\n",
              "      <th>Last Updated</th>\n",
              "      <th>Current Ver</th>\n",
              "      <th>Android Ver</th>\n",
              "      <th>Price in $</th>\n",
              "    </tr>\n",
              "  </thead>\n",
              "  <tbody>\n",
              "  </tbody>\n",
              "</table>\n",
              "</div>"
            ],
            "text/plain": [
              "Empty DataFrame\n",
              "Columns: [App, Category, Rating, Reviews, Size, Installs, Type, Price, Content Rating, Genres, Last Updated, Current Ver, Android Ver, Price in $]\n",
              "Index: []"
            ]
          },
          "metadata": {
            "tags": []
          },
          "execution_count": 36
        }
      ]
    },
    {
      "cell_type": "code",
      "metadata": {
        "id": "6j8r8Vb0lbKL",
        "colab_type": "code",
        "outputId": "87a5486f-abd2-4f73-a3a5-5750c950d32e",
        "colab": {
          "base_uri": "https://localhost:8080/",
          "height": 0
        }
      },
      "source": [
        "# Standardize Android Ver: X.X.X - Y.Y.Y\n",
        "regex = ' [\\w+]+(?:\\.\\w+) '\n",
        "gpstore['Android Ver'] = \" \" + gpstore['Android Ver'] + \" \"\n",
        "\n",
        "gpstore['Android Ver'] = gpstore['Android Ver'].str.replace('and', '-')\n",
        "gpstore['Android Ver'] = gpstore['Android Ver'].str.replace('up', 'latest')\n",
        "\n",
        "import re\n",
        "def append_by_regex(text):\n",
        "  search_value = re.search(regex, text)\n",
        "  while search_value:\n",
        "    pos = search_value.end()\n",
        "    text = text[:pos].rstrip() + \".0 \" + text[pos:] \n",
        "    search_value = re.search(regex, text)\n",
        "  return text\n",
        "\n",
        "gpstore['Android Ver'] = gpstore['Android Ver'].apply(append_by_regex)\n",
        "gpstore['Android Ver'] = gpstore['Android Ver'].str.strip()\n",
        "gpstore['Android Ver'].value_counts(dropna=False)"
      ],
      "execution_count": 37,
      "outputs": [
        {
          "output_type": "execute_result",
          "data": {
            "text/plain": [
              "4.1.0 - latest        2088\n",
              "4.0.3 - latest        1327\n",
              "4.0.0 - latest        1228\n",
              "Varies with device     778\n",
              "4.4.0 - latest         723\n",
              "2.3.0 - latest         607\n",
              "5.0.0 - latest         459\n",
              "4.2.0 - latest         354\n",
              "2.3.3 - latest         266\n",
              "2.2.0 - latest         234\n",
              "3.0.0 - latest         222\n",
              "4.3.0 - latest         209\n",
              "2.1.0 - latest         132\n",
              "1.6.0 - latest         116\n",
              "6.0.0 - latest          51\n",
              "7.0.0 - latest          42\n",
              "3.2.0 - latest          36\n",
              "2.0.0 - latest          32\n",
              "5.1.0 - latest          21\n",
              "1.5.0 - latest          20\n",
              "4.4W.0 - latest         10\n",
              "3.1.0 - latest          10\n",
              "2.0.1 - latest           7\n",
              "8.0.0 - latest           6\n",
              "7.1.0 - latest           3\n",
              "4.0.3 - 7.1.1            2\n",
              "5.0.0 - 8.0.0            2\n",
              "1.0.0 - latest           2\n",
              "7.0.0 - 7.1.1            1\n",
              "5.0.0 - 6.0.0            1\n",
              "2.2.0 - 7.1.1            1\n",
              "5.0.0 - 7.1.1            1\n",
              "4.1.0 - 7.1.1            1\n",
              "Name: Android Ver, dtype: int64"
            ]
          },
          "metadata": {
            "tags": []
          },
          "execution_count": 37
        }
      ]
    },
    {
      "cell_type": "code",
      "metadata": {
        "colab_type": "code",
        "outputId": "d13ad369-8fed-47b4-e995-bda2135fa566",
        "id": "7RNltFtJXETG",
        "colab": {
          "base_uri": "https://localhost:8080/",
          "height": 0
        }
      },
      "source": [
        "# Handle \"Varies with device\"\n",
        "\n",
        "# split each value in Android Ver column into two columns Android MinVer and Android MaxVer\n",
        "gpstore['Android MinVer'] = gpstore['Android Ver'].str.split('-').str[0].str.strip()\n",
        "gpstore['Android MaxVer'] = gpstore['Android Ver'].str.split('-').str[1].str.strip()\n",
        "\n",
        "# When there's not \"-\" in Android Ver string (in case Android Ver value is \"Varies with device\")\n",
        "# Android MinVer values will be assigned with \"Varies with device\", so we re-assign theses values with NaN\n",
        "gpstore['Android MinVer'].replace('Varies with device', np.NaN, inplace=True)\n",
        "\n",
        "# Fillna in Android MinVer with min of non-null values in Android MinVer\n",
        "gpstore['Android MinVer'].fillna(gpstore['Android MinVer'].dropna().min(), inplace=True)\n",
        "\n",
        "# Fillna in Android MaxVer with max of non-null values in Android MaxVer\n",
        "gpstore['Android MaxVer'].fillna(gpstore['Android MaxVer'].dropna().max(), inplace=True)\n",
        "\n",
        "# Replace \"- latest\" with and up to restore the original form of Android Ver\n",
        "gpstore['Android Ver'] = gpstore['Android Ver'].str.replace('- latest', \"and up\")\n",
        "gpstore.head()"
      ],
      "execution_count": 38,
      "outputs": [
        {
          "output_type": "execute_result",
          "data": {
            "text/html": [
              "<div>\n",
              "<style scoped>\n",
              "    .dataframe tbody tr th:only-of-type {\n",
              "        vertical-align: middle;\n",
              "    }\n",
              "\n",
              "    .dataframe tbody tr th {\n",
              "        vertical-align: top;\n",
              "    }\n",
              "\n",
              "    .dataframe thead th {\n",
              "        text-align: right;\n",
              "    }\n",
              "</style>\n",
              "<table border=\"1\" class=\"dataframe\">\n",
              "  <thead>\n",
              "    <tr style=\"text-align: right;\">\n",
              "      <th></th>\n",
              "      <th>App</th>\n",
              "      <th>Category</th>\n",
              "      <th>Rating</th>\n",
              "      <th>Reviews</th>\n",
              "      <th>Size</th>\n",
              "      <th>Installs</th>\n",
              "      <th>Type</th>\n",
              "      <th>Price</th>\n",
              "      <th>Content Rating</th>\n",
              "      <th>Genres</th>\n",
              "      <th>Last Updated</th>\n",
              "      <th>Current Ver</th>\n",
              "      <th>Android Ver</th>\n",
              "      <th>Price in $</th>\n",
              "      <th>Android MinVer</th>\n",
              "      <th>Android MaxVer</th>\n",
              "    </tr>\n",
              "  </thead>\n",
              "  <tbody>\n",
              "    <tr>\n",
              "      <th>3304</th>\n",
              "      <td>Graphing Calculator</td>\n",
              "      <td>TOOLS</td>\n",
              "      <td>3.9</td>\n",
              "      <td>12388</td>\n",
              "      <td>5.3M</td>\n",
              "      <td>1,000,000+</td>\n",
              "      <td>Free</td>\n",
              "      <td>0</td>\n",
              "      <td>Everyone</td>\n",
              "      <td>Tools</td>\n",
              "      <td>April 1, 2016</td>\n",
              "      <td>1.17</td>\n",
              "      <td>2.3.0 and up</td>\n",
              "      <td>0.0</td>\n",
              "      <td>2.3.0</td>\n",
              "      <td>latest</td>\n",
              "    </tr>\n",
              "    <tr>\n",
              "      <th>9116</th>\n",
              "      <td>PHARMAGUIDE (DZ)</td>\n",
              "      <td>HEALTH_AND_FITNESS</td>\n",
              "      <td>4.1</td>\n",
              "      <td>131</td>\n",
              "      <td>3.4M</td>\n",
              "      <td>5,000+</td>\n",
              "      <td>Free</td>\n",
              "      <td>0</td>\n",
              "      <td>Everyone</td>\n",
              "      <td>Health &amp; Fitness</td>\n",
              "      <td>April 1, 2016</td>\n",
              "      <td>1.06</td>\n",
              "      <td>1.6.0 and up</td>\n",
              "      <td>0.0</td>\n",
              "      <td>1.6.0</td>\n",
              "      <td>latest</td>\n",
              "    </tr>\n",
              "    <tr>\n",
              "      <th>10589</th>\n",
              "      <td>The Florida Trail Guide</td>\n",
              "      <td>TRAVEL_AND_LOCAL</td>\n",
              "      <td>4.3</td>\n",
              "      <td>100</td>\n",
              "      <td>13M</td>\n",
              "      <td>5,000+</td>\n",
              "      <td>Free</td>\n",
              "      <td>0</td>\n",
              "      <td>Everyone</td>\n",
              "      <td>Travel &amp; Local</td>\n",
              "      <td>April 1, 2017</td>\n",
              "      <td>6.0.18</td>\n",
              "      <td>4.1.0 and up</td>\n",
              "      <td>0.0</td>\n",
              "      <td>4.1.0</td>\n",
              "      <td>latest</td>\n",
              "    </tr>\n",
              "    <tr>\n",
              "      <th>7113</th>\n",
              "      <td>CBRadioTab</td>\n",
              "      <td>TOOLS</td>\n",
              "      <td>3.9</td>\n",
              "      <td>127</td>\n",
              "      <td>1.5M</td>\n",
              "      <td>50,000+</td>\n",
              "      <td>Free</td>\n",
              "      <td>0</td>\n",
              "      <td>Everyone</td>\n",
              "      <td>Tools</td>\n",
              "      <td>April 1, 2017</td>\n",
              "      <td>1.0</td>\n",
              "      <td>3.0.0 and up</td>\n",
              "      <td>0.0</td>\n",
              "      <td>3.0.0</td>\n",
              "      <td>latest</td>\n",
              "    </tr>\n",
              "    <tr>\n",
              "      <th>4500</th>\n",
              "      <td>Q*bert: Rebooted</td>\n",
              "      <td>GAME</td>\n",
              "      <td>4.3</td>\n",
              "      <td>13788</td>\n",
              "      <td>55M</td>\n",
              "      <td>1,000,000+</td>\n",
              "      <td>Free</td>\n",
              "      <td>0</td>\n",
              "      <td>Everyone</td>\n",
              "      <td>Arcade</td>\n",
              "      <td>April 1, 2017</td>\n",
              "      <td>1.1</td>\n",
              "      <td>4.4.0 and up</td>\n",
              "      <td>0.0</td>\n",
              "      <td>4.4.0</td>\n",
              "      <td>latest</td>\n",
              "    </tr>\n",
              "  </tbody>\n",
              "</table>\n",
              "</div>"
            ],
            "text/plain": [
              "                           App  ... Android MaxVer\n",
              "3304       Graphing Calculator  ...         latest\n",
              "9116          PHARMAGUIDE (DZ)  ...         latest\n",
              "10589  The Florida Trail Guide  ...         latest\n",
              "7113                CBRadioTab  ...         latest\n",
              "4500          Q*bert: Rebooted  ...         latest\n",
              "\n",
              "[5 rows x 16 columns]"
            ]
          },
          "metadata": {
            "tags": []
          },
          "execution_count": 38
        }
      ]
    },
    {
      "cell_type": "code",
      "metadata": {
        "id": "7djesguKCKZO",
        "colab_type": "code",
        "outputId": "625fa54b-fa99-4ba0-abff-f76cb9ad8767",
        "colab": {
          "base_uri": "https://localhost:8080/",
          "height": 0
        }
      },
      "source": [
        "# check our dataframe\n",
        "gpstore.info()"
      ],
      "execution_count": 39,
      "outputs": [
        {
          "output_type": "stream",
          "text": [
            "<class 'pandas.core.frame.DataFrame'>\n",
            "Int64Index: 8992 entries, 3304 to 6834\n",
            "Data columns (total 16 columns):\n",
            "App               8992 non-null object\n",
            "Category          8992 non-null object\n",
            "Rating            8992 non-null float64\n",
            "Reviews           8992 non-null object\n",
            "Size              8992 non-null object\n",
            "Installs          8992 non-null object\n",
            "Type              8992 non-null object\n",
            "Price             8992 non-null object\n",
            "Content Rating    8992 non-null object\n",
            "Genres            8992 non-null object\n",
            "Last Updated      8992 non-null object\n",
            "Current Ver       8992 non-null object\n",
            "Android Ver       8992 non-null object\n",
            "Price in $        8992 non-null float64\n",
            "Android MinVer    8992 non-null object\n",
            "Android MaxVer    8992 non-null object\n",
            "dtypes: float64(2), object(14)\n",
            "memory usage: 1.2+ MB\n"
          ],
          "name": "stdout"
        }
      ]
    },
    {
      "cell_type": "markdown",
      "metadata": {
        "id": "SmU5hkAh9sQ7",
        "colab_type": "text"
      },
      "source": [
        "#### Install"
      ]
    },
    {
      "cell_type": "code",
      "metadata": {
        "id": "k4qjr9sZCIpf",
        "colab_type": "code",
        "outputId": "075759b6-4bd9-4467-b6db-cde592983325",
        "colab": {
          "base_uri": "https://localhost:8080/",
          "height": 0
        }
      },
      "source": [
        "gpstore['Installs'].value_counts()"
      ],
      "execution_count": 40,
      "outputs": [
        {
          "output_type": "execute_result",
          "data": {
            "text/plain": [
              "1,000,000+        1302\n",
              "100,000+          1068\n",
              "10,000+           1009\n",
              "1,000+             871\n",
              "10,000,000+        754\n",
              "100+               701\n",
              "5,000,000+         538\n",
              "500,000+           482\n",
              "5,000+             461\n",
              "50,000+            460\n",
              "10+                384\n",
              "500+               325\n",
              "50+                203\n",
              "50,000,000+        160\n",
              "100,000,000+       100\n",
              "5+                  82\n",
              "1+                  67\n",
              "0+                  14\n",
              "500,000,000+         7\n",
              "1,000,000,000+       4\n",
              "Name: Installs, dtype: int64"
            ]
          },
          "metadata": {
            "tags": []
          },
          "execution_count": 40
        }
      ]
    },
    {
      "cell_type": "code",
      "metadata": {
        "id": "AkHQAmDwB7f6",
        "colab_type": "code",
        "outputId": "7aa5e956-9426-4be3-8d6c-86d5f6748a65",
        "colab": {
          "base_uri": "https://localhost:8080/",
          "height": 0
        }
      },
      "source": [
        "# Installs column's dtype is dtype('O') which is Python type string\n",
        "gpstore['Installs'].dtype"
      ],
      "execution_count": 41,
      "outputs": [
        {
          "output_type": "execute_result",
          "data": {
            "text/plain": [
              "dtype('O')"
            ]
          },
          "metadata": {
            "tags": []
          },
          "execution_count": 41
        }
      ]
    },
    {
      "cell_type": "code",
      "metadata": {
        "id": "iyXP_4tD75Yk",
        "colab_type": "code",
        "colab": {}
      },
      "source": [
        "# The number of installations of each app can be equal or greater than the value in Installs column\n",
        "# So we create Installs At Least column having numeric value of the number of installations at least\n",
        "gpstore['Installs At Least'] = gpstore['Installs'].replace('[^0-9]', '', regex=True).astype(int)"
      ],
      "execution_count": 0,
      "outputs": []
    },
    {
      "cell_type": "code",
      "metadata": {
        "id": "vRUvSOX8CYWE",
        "colab_type": "code",
        "outputId": "2edff5a6-9cab-41e0-c00a-7662e653c284",
        "colab": {
          "base_uri": "https://localhost:8080/",
          "height": 0
        }
      },
      "source": [
        "gpstore['Installs At Least'].value_counts()"
      ],
      "execution_count": 43,
      "outputs": [
        {
          "output_type": "execute_result",
          "data": {
            "text/plain": [
              "1000000       1302\n",
              "100000        1068\n",
              "10000         1009\n",
              "1000           871\n",
              "10000000       754\n",
              "100            701\n",
              "5000000        538\n",
              "500000         482\n",
              "5000           461\n",
              "50000          460\n",
              "10             384\n",
              "500            325\n",
              "50             203\n",
              "50000000       160\n",
              "100000000      100\n",
              "5               82\n",
              "1               67\n",
              "0               14\n",
              "500000000        7\n",
              "1000000000       4\n",
              "Name: Installs At Least, dtype: int64"
            ]
          },
          "metadata": {
            "tags": []
          },
          "execution_count": 43
        }
      ]
    },
    {
      "cell_type": "markdown",
      "metadata": {
        "id": "HMZ-Xz9pBtDd",
        "colab_type": "text"
      },
      "source": [
        "#### Size"
      ]
    },
    {
      "cell_type": "code",
      "metadata": {
        "id": "wXHTo5CkD6NA",
        "colab_type": "code",
        "outputId": "0fd8c5c0-c944-410c-9fa1-9052b10063c8",
        "colab": {
          "base_uri": "https://localhost:8080/",
          "height": 1000
        }
      },
      "source": [
        "gpstore['Size'].value_counts()"
      ],
      "execution_count": 44,
      "outputs": [
        {
          "output_type": "execute_result",
          "data": {
            "text/plain": [
              "Varies with device    972\n",
              "11M                   172\n",
              "12M                   170\n",
              "13M                   169\n",
              "14M                   165\n",
              "15M                   150\n",
              "26M                   137\n",
              "17M                   134\n",
              "16M                   128\n",
              "10M                   124\n",
              "21M                   120\n",
              "19M                   114\n",
              "20M                   114\n",
              "18M                   113\n",
              "24M                   112\n",
              "25M                   106\n",
              "23M                    97\n",
              "22M                    94\n",
              "27M                    86\n",
              "29M                    86\n",
              "28M                    85\n",
              "30M                    82\n",
              "3.3M                   70\n",
              "2.3M                   67\n",
              "2.5M                   67\n",
              "33M                    67\n",
              "31M                    66\n",
              "2.8M                   65\n",
              "2.9M                   65\n",
              "3.4M                   63\n",
              "                     ... \n",
              "116k                    1\n",
              "500k                    1\n",
              "251k                    1\n",
              "860k                    1\n",
              "518k                    1\n",
              "191k                    1\n",
              "647k                    1\n",
              "892k                    1\n",
              "45k                     1\n",
              "309k                    1\n",
              "288k                    1\n",
              "430k                    1\n",
              "743k                    1\n",
              "779k                    1\n",
              "269k                    1\n",
              "221k                    1\n",
              "986k                    1\n",
              "598k                    1\n",
              "872k                    1\n",
              "351k                    1\n",
              "209k                    1\n",
              "597k                    1\n",
              "992k                    1\n",
              "898k                    1\n",
              "459k                    1\n",
              "203k                    1\n",
              "691k                    1\n",
              "308k                    1\n",
              "143k                    1\n",
              "292k                    1\n",
              "Name: Size, Length: 460, dtype: int64"
            ]
          },
          "metadata": {
            "tags": []
          },
          "execution_count": 44
        }
      ]
    },
    {
      "cell_type": "code",
      "metadata": {
        "id": "XKwgORoIOYgg",
        "colab_type": "code",
        "colab": {}
      },
      "source": [
        "gpstore['Size In Byte'] = gpstore['Size']"
      ],
      "execution_count": 0,
      "outputs": []
    },
    {
      "cell_type": "code",
      "metadata": {
        "id": "LTVQAYcCfvuY",
        "colab_type": "code",
        "colab": {}
      },
      "source": [
        "import re"
      ],
      "execution_count": 0,
      "outputs": []
    },
    {
      "cell_type": "code",
      "metadata": {
        "id": "kDFjT4xjD8kl",
        "colab_type": "code",
        "colab": {}
      },
      "source": [
        "index_list = gpstore.index.values.tolist()\n",
        "for indx in index_list:\n",
        "  old_value = gpstore.at[indx, 'Size In Byte']\n",
        "  if (old_value == 'Varies with device'):\n",
        "    continue\n",
        "  old_value_abs = re.findall('\\d+\\.*\\d*', old_value)\n",
        "  # Check to make sure only 1 number value\n",
        "  if (len(old_value_abs) != 1):\n",
        "    print(old_value)\n",
        "  old_value_unit = re.findall('[^\\d\\W]$', old_value)\n",
        "#   print(old_value_unit)\n",
        "  new_value = 0\n",
        "  if old_value_unit[0] == 'M':\n",
        "    new_value = float(old_value_abs[0]) * 1000000\n",
        "  elif old_value_unit[0] == 'k':\n",
        "    new_value = float(old_value_abs[0]) * 1000\n",
        "  else:\n",
        "    print(\"Error: undefine unit \", old_value_unit)\n",
        "  gpstore.at[indx, 'Size In Byte'] = new_value"
      ],
      "execution_count": 0,
      "outputs": []
    },
    {
      "cell_type": "markdown",
      "metadata": {
        "id": "aAcitzI_kId6",
        "colab_type": "text"
      },
      "source": [
        "Now we update \"Varies with device\" size by mean value of each category"
      ]
    },
    {
      "cell_type": "code",
      "metadata": {
        "id": "vbRZuA2zkE57",
        "colab_type": "code",
        "colab": {}
      },
      "source": [
        "cate_list = gpstore['Category'].unique().tolist()\n",
        "gpstore['Size In Byte'].replace(to_replace='Varies with device', value=np.nan, inplace=True)\n",
        "gpstore['Size In Byte'].astype('category', inplace=True)\n",
        "for cate in cate_list:\n",
        "  cate_size_mean = round(gpstore[gpstore['Category'] == cate]['Size In Byte'].mean(), 1)\n",
        "  gpstore[gpstore['Category'] == cate] = gpstore[gpstore['Category'] == cate].fillna(cate_size_mean)\n",
        "  "
      ],
      "execution_count": 0,
      "outputs": []
    },
    {
      "cell_type": "code",
      "metadata": {
        "id": "R_ZxcI89t7Or",
        "colab_type": "code",
        "outputId": "dc60c05e-ecc7-4800-a652-01e271e8e966",
        "colab": {
          "base_uri": "https://localhost:8080/",
          "height": 431
        }
      },
      "source": [
        "gpstore.info()"
      ],
      "execution_count": 49,
      "outputs": [
        {
          "output_type": "stream",
          "text": [
            "<class 'pandas.core.frame.DataFrame'>\n",
            "Int64Index: 8992 entries, 3304 to 6834\n",
            "Data columns (total 18 columns):\n",
            "App                  8992 non-null object\n",
            "Category             8992 non-null object\n",
            "Rating               8992 non-null float64\n",
            "Reviews              8992 non-null object\n",
            "Size                 8992 non-null object\n",
            "Installs             8992 non-null object\n",
            "Type                 8992 non-null object\n",
            "Price                8992 non-null object\n",
            "Content Rating       8992 non-null object\n",
            "Genres               8992 non-null object\n",
            "Last Updated         8992 non-null object\n",
            "Current Ver          8992 non-null object\n",
            "Android Ver          8992 non-null object\n",
            "Price in $           8992 non-null float64\n",
            "Android MinVer       8992 non-null object\n",
            "Android MaxVer       8992 non-null object\n",
            "Installs At Least    8992 non-null int64\n",
            "Size In Byte         8992 non-null float64\n",
            "dtypes: float64(3), int64(1), object(14)\n",
            "memory usage: 1.6+ MB\n"
          ],
          "name": "stdout"
        }
      ]
    },
    {
      "cell_type": "markdown",
      "metadata": {
        "id": "lBAMmfM5zpW6",
        "colab_type": "text"
      },
      "source": [
        "## III. Let draw some figure"
      ]
    },
    {
      "cell_type": "code",
      "metadata": {
        "id": "F_C8WpInzunW",
        "colab_type": "code",
        "outputId": "49fd44b0-72b8-4b42-f0ff-9328e0f5ddd1",
        "colab": {
          "base_uri": "https://localhost:8080/",
          "height": 627
        }
      },
      "source": [
        "plt.figure(figsize=(16, 10))\n",
        "sns.barplot(data=gpstore, y='Category', x='Installs At Least')"
      ],
      "execution_count": 50,
      "outputs": [
        {
          "output_type": "execute_result",
          "data": {
            "text/plain": [
              "<matplotlib.axes._subplots.AxesSubplot at 0x7fa4a2959cf8>"
            ]
          },
          "metadata": {
            "tags": []
          },
          "execution_count": 50
        },
        {
          "output_type": "display_data",
          "data": {
            "image/png": "[encoded data removed]",
            "text/plain": [
              "<Figure size 1152x720 with 1 Axes>"
            ]
          },
          "metadata": {
            "tags": []
          }
        }
      ]
    },
    {
      "cell_type": "code",
      "metadata": {
        "id": "ONSf4l7l3NOE",
        "colab_type": "code",
        "outputId": "3d8ea8a8-56db-4799-d24d-ebc7d5a8fed5",
        "colab": {
          "base_uri": "https://localhost:8080/",
          "height": 301
        }
      },
      "source": [
        "sns.barplot(data=gpstore, y='Type', x='Installs At Least')"
      ],
      "execution_count": 51,
      "outputs": [
        {
          "output_type": "execute_result",
          "data": {
            "text/plain": [
              "<matplotlib.axes._subplots.AxesSubplot at 0x7fa4a1470748>"
            ]
          },
          "metadata": {
            "tags": []
          },
          "execution_count": 51
        },
        {
          "output_type": "display_data",
          "data": {
            "image/png": "[encoded data removed]",
            "text/plain": [
              "<Figure size 432x288 with 1 Axes>"
            ]
          },
          "metadata": {
            "tags": []
          }
        }
      ]
    },
    {
      "cell_type": "code",
      "metadata": {
        "id": "A7PKsXs03dnR",
        "colab_type": "code",
        "outputId": "3becbccc-2096-45ed-e156-c08c24787d82",
        "colab": {
          "base_uri": "https://localhost:8080/",
          "height": 301
        }
      },
      "source": [
        "sns.lineplot(data=gpstore, x='Price in $', y='Installs At Least')"
      ],
      "execution_count": 52,
      "outputs": [
        {
          "output_type": "execute_result",
          "data": {
            "text/plain": [
              "<matplotlib.axes._subplots.AxesSubplot at 0x7fa4a151e2e8>"
            ]
          },
          "metadata": {
            "tags": []
          },
          "execution_count": 52
        },
        {
          "output_type": "display_data",
          "data": {
            "image/png": "[encoded data removed]",
            "text/plain": [
              "<Figure size 432x288 with 1 Axes>"
            ]
          },
          "metadata": {
            "tags": []
          }
        }
      ]
    },
    {
      "cell_type": "code",
      "metadata": {
        "id": "JiC5TsSE3xoG",
        "colab_type": "code",
        "outputId": "8164ef06-f037-486f-8282-b919143085ef",
        "colab": {
          "base_uri": "https://localhost:8080/",
          "height": 308
        }
      },
      "source": [
        "sns.lineplot(data=gpstore, x='Size', y='Installs At Least')"
      ],
      "execution_count": 53,
      "outputs": [
        {
          "output_type": "execute_result",
          "data": {
            "text/plain": [
              "<matplotlib.axes._subplots.AxesSubplot at 0x7fa49d27ee10>"
            ]
          },
          "metadata": {
            "tags": []
          },
          "execution_count": 53
        },
        {
          "output_type": "display_data",
          "data": {
            "image/png": "[encoded data removed]",
            "text/plain": [
              "<Figure size 432x288 with 1 Axes>"
            ]
          },
          "metadata": {
            "tags": []
          }
        }
      ]
    },
    {
      "cell_type": "code",
      "metadata": {
        "id": "KfNyPD0O46Q0",
        "colab_type": "code",
        "outputId": "cc0bc5a7-7509-4a79-b5d6-c779c56f7df2",
        "colab": {
          "base_uri": "https://localhost:8080/",
          "height": 357
        }
      },
      "source": [
        "sns.heatmap(gpstore.corr(), annot=True, cmap='YlGn_r')"
      ],
      "execution_count": 54,
      "outputs": [
        {
          "output_type": "execute_result",
          "data": {
            "text/plain": [
              "<matplotlib.axes._subplots.AxesSubplot at 0x7fa49d272400>"
            ]
          },
          "metadata": {
            "tags": []
          },
          "execution_count": 54
        },
        {
          "output_type": "display_data",
          "data": {
            "image/png": "[encoded data removed]",
            "text/plain": [
              "<Figure size 432x288 with 2 Axes>"
            ]
          },
          "metadata": {
            "tags": []
          }
        }
      ]
    },
    {
      "cell_type": "code",
      "metadata": {
        "id": "hHmEtrYJ5hwa",
        "colab_type": "code",
        "outputId": "b1408be7-59fa-4e59-d102-2c3eb728f978",
        "colab": {
          "base_uri": "https://localhost:8080/",
          "height": 355
        }
      },
      "source": [
        "plt.figure(figsize=(20, 5))\n",
        "sns.countplot(data=gpstore.sort_values(by='Android MinVer', ascending=True), x='Android MinVer')"
      ],
      "execution_count": 55,
      "outputs": [
        {
          "output_type": "execute_result",
          "data": {
            "text/plain": [
              "<matplotlib.axes._subplots.AxesSubplot at 0x7fa49cd7d550>"
            ]
          },
          "metadata": {
            "tags": []
          },
          "execution_count": 55
        },
        {
          "output_type": "display_data",
          "data": {
            "image/png": "[encoded data removed]",
            "text/plain": [
              "<Figure size 1440x360 with 1 Axes>"
            ]
          },
          "metadata": {
            "tags": []
          }
        }
      ]
    },
    {
      "cell_type": "code",
      "metadata": {
        "id": "RV31h4KW6Jjw",
        "colab_type": "code",
        "outputId": "d9817dbc-1dda-458f-f3c0-29c24f681b77",
        "colab": {
          "base_uri": "https://localhost:8080/",
          "height": 355
        }
      },
      "source": [
        "plt.figure(figsize=(20, 5))\n",
        "sns.countplot(data=gpstore.sort_values(by='Android MaxVer', ascending=True), x='Android MaxVer')"
      ],
      "execution_count": 56,
      "outputs": [
        {
          "output_type": "execute_result",
          "data": {
            "text/plain": [
              "<matplotlib.axes._subplots.AxesSubplot at 0x7fa49cc7ae80>"
            ]
          },
          "metadata": {
            "tags": []
          },
          "execution_count": 56
        },
        {
          "output_type": "display_data",
          "data": {
            "image/png": "[encoded data removed]",
            "text/plain": [
              "<Figure size 1440x360 with 1 Axes>"
            ]
          },
          "metadata": {
            "tags": []
          }
        }
      ]
    },
    {
      "cell_type": "markdown",
      "metadata": {
        "id": "jSqG6-vrHtH-",
        "colab_type": "text"
      },
      "source": [
        "## IV. Make Google sheet"
      ]
    },
    {
      "cell_type": "code",
      "metadata": {
        "id": "oBCbLgauJGAx",
        "colab_type": "code",
        "colab": {}
      },
      "source": [
        "gc = gspread.authorize(GoogleCredentials.get_application_default()) #grant access to google drive "
      ],
      "execution_count": 0,
      "outputs": []
    },
    {
      "cell_type": "code",
      "metadata": {
        "id": "bjCjXGxPH8Xc",
        "colab_type": "code",
        "colab": {}
      },
      "source": [
        "def check_exists(path):\n",
        "  try:\n",
        "    sh = gc.open(path)\n",
        "    return True\n",
        "  except:\n",
        "    return False\n",
        "\n",
        "def create_new_worksheet(path='worksheet', sheets={\"sheet1\":\"\"}):\n",
        "    if check_exists(path):\n",
        "        print('create_new_worksheet(): File exists')\n",
        "        return gc.open(path)\n",
        "    sh = gc.create(path)\n",
        "    for name, cols in sheets.items():\n",
        "        sh.add_worksheet(title=name, rows=\"100\", cols=\"100\")\n",
        "        sh.values_update(\n",
        "            name + '!A1',\n",
        "            params={'valueInputOption': 'RAW'},\n",
        "            body={'values': [cols]}\n",
        "        )      \n",
        "    sh.del_worksheet(sh.sheet1)\n",
        "    return sh"
      ],
      "execution_count": 0,
      "outputs": []
    },
    {
      "cell_type": "code",
      "metadata": {
        "id": "5mUGtuysIOE3",
        "colab_type": "code",
        "colab": {}
      },
      "source": [
        "sheets = {\n",
        "    'Google Play Store': gpstore.columns.values.tolist()\n",
        "}\n",
        "sh = create_new_worksheet('Google Play Store', sheets)"
      ],
      "execution_count": 0,
      "outputs": []
    },
    {
      "cell_type": "code",
      "metadata": {
        "id": "Xybxj1HZJAfe",
        "colab_type": "code",
        "outputId": "166d7149-79ed-46a4-9360-537a0eed5d38",
        "colab": {
          "base_uri": "https://localhost:8080/",
          "height": 107
        }
      },
      "source": [
        "sh.values_update(\n",
        "  'Google Play Store!A2',\n",
        "    params={'valueInputOption': 'RAW'},\n",
        "    body={'values': gpstore.fillna('').values.tolist()}\n",
        ")"
      ],
      "execution_count": 60,
      "outputs": [
        {
          "output_type": "execute_result",
          "data": {
            "text/plain": [
              "{'spreadsheetId': '1me0j0fFWoqN61rlbQnfTNO539R-LTAvjP5SD5APTfq8',\n",
              " 'updatedCells': 161856,\n",
              " 'updatedColumns': 18,\n",
              " 'updatedRange': \"'Google Play Store'!A2:R8993\",\n",
              " 'updatedRows': 8992}"
            ]
          },
          "metadata": {
            "tags": []
          },
          "execution_count": 60
        }
      ]
    },
    {
      "cell_type": "code",
      "metadata": {
        "id": "vIBKmEBx_4wh",
        "colab_type": "code",
        "colab": {}
      },
      "source": [
        ""
      ],
      "execution_count": 0,
      "outputs": []
    }
  ]
}
